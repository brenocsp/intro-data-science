{
  "nbformat": 4,
  "nbformat_minor": 0,
  "metadata": {
    "kernelspec": {
      "display_name": "Python 3",
      "language": "python",
      "name": "python3"
    },
    "language_info": {
      "codemirror_mode": {
        "name": "ipython",
        "version": 3
      },
      "file_extension": ".py",
      "mimetype": "text/x-python",
      "name": "python",
      "nbconvert_exporter": "python",
      "pygments_lexer": "ipython3",
      "version": "3.6.12"
    },
    "colab": {
      "name": "dcc212l2.ipynb",
      "provenance": [],
      "toc_visible": true,
      "include_colab_link": true
    }
  },
  "cells": [
    {
      "cell_type": "markdown",
      "metadata": {
        "id": "view-in-github",
        "colab_type": "text"
      },
      "source": [
        "<a href=\"https://colab.research.google.com/github/brenocsp/intro-data-science/blob/main/lists/2-pandas.ipynb\" target=\"_parent\"><img src=\"https://colab.research.google.com/assets/colab-badge.svg\" alt=\"Open In Colab\"/></a>"
      ]
    },
    {
      "cell_type": "markdown",
      "metadata": {
        "id": "1TbMYKCdks_u"
      },
      "source": [
        "# Lista 02 - Pandas Básico\n",
        "\n",
        "Uma parte significativa do trabalho de um cientista de dados é explorar, analisar e visualizar dados. Há uma grande variedade de ferramentas e linguagens de programação que eles podem usar para fazer isso, e uma das abordagens mais populares é usar notebooks Jupyter (como este) e Python.\n",
        "\n",
        "Neste notebook, vamos explorar o pacote [Pandas](http://pandas.pydata.org) e o [Matplotlib](http://matplotlib.org). Também aplicaremos técnicas básicas para analisar dados. Este notebook não é um exercício de programação Python abrangente; ou até mesmo um mergulho profundo na análise de dados. Em vez disso, pretende ser um curso intensivo sobre algumas das maneiras comuns em que os cientistas de dados podem usar Python para explorar com dados. \n",
        "\n",
        "## Imports Básicos\n",
        "\n",
        "As três células abaixo apenas configuram nosso notebook para ficar mais parecido com os das aulas"
      ]
    },
    {
      "cell_type": "code",
      "metadata": {
        "id": "4JYGgzrzks_z"
      },
      "source": [
        "import numpy as np\n",
        "import matplotlib.pyplot as plt\n",
        "import pandas as pd"
      ],
      "execution_count": null,
      "outputs": []
    },
    {
      "cell_type": "code",
      "metadata": {
        "id": "0GNBk8wrks_0"
      },
      "source": [
        "plt.rcParams['figure.figsize']  = (16, 10)\n",
        "plt.rcParams['axes.labelsize']  = 20\n",
        "plt.rcParams['axes.titlesize']  = 20\n",
        "plt.rcParams['legend.fontsize'] = 20\n",
        "plt.rcParams['xtick.labelsize'] = 20\n",
        "plt.rcParams['ytick.labelsize'] = 20\n",
        "plt.rcParams['lines.linewidth'] = 4"
      ],
      "execution_count": null,
      "outputs": []
    },
    {
      "cell_type": "code",
      "metadata": {
        "id": "vjLC30Z_ks_0"
      },
      "source": [
        "plt.ion()\n",
        "plt.style.use('seaborn-colorblind')"
      ],
      "execution_count": null,
      "outputs": []
    },
    {
      "cell_type": "markdown",
      "metadata": {
        "id": "CQDm4VBpks_1"
      },
      "source": [
        "## NumPy Novamente\n",
        "\n",
        "Vamos começar examinando alguns dados simples.\n",
        "\n",
        "Em determinadas épocas do ano a venda de certos produtos sofre um aumento significativo. Um exemplo disso, são as vendas de sorvete que aumentam bastante no verão. Além do sorvete, outros itens como protetor solar e vestuário de banho podem ganhar maior atenção durante essa época do ano enquanto outros produtos podem não ser tão valorizados.\n",
        "\n",
        "Inicialmente, vamos criar alguns dadoos de vendas de sorvete."
      ]
    },
    {
      "cell_type": "code",
      "metadata": {
        "id": "87pmTCfXks_1",
        "colab": {
          "base_uri": "https://localhost:8080/"
        },
        "outputId": "b1bbd832-2abd-4c7c-f091-ba423ea5be80"
      },
      "source": [
        "ice_cream = [3000, 2600, 1400, 1500, 1200, 500, 300, 400, 700, 600, 800, 1900]\n",
        "print(ice_cream)"
      ],
      "execution_count": null,
      "outputs": [
        {
          "output_type": "stream",
          "name": "stdout",
          "text": [
            "[3000, 2600, 1400, 1500, 1200, 500, 300, 400, 700, 600, 800, 1900]\n"
          ]
        }
      ]
    },
    {
      "cell_type": "markdown",
      "metadata": {
        "id": "n85yhZrtks_2"
      },
      "source": [
        "Os dados foram carregados em um TAD **list**. Como falamos no último laboratório, listas não são otimizadas para análise numérica. Para isso, vamos usar o pacote **NumPy** novamente. Então, vamos criar um vetor Numpy dos dados!"
      ]
    },
    {
      "cell_type": "code",
      "metadata": {
        "id": "gdZgrlXFks_3",
        "colab": {
          "base_uri": "https://localhost:8080/"
        },
        "outputId": "4bc91d2c-7db0-4dc4-883d-079ac67ed195"
      },
      "source": [
        "ice_cream_v = np.array(ice_cream)\n",
        "print(ice_cream_v)"
      ],
      "execution_count": null,
      "outputs": [
        {
          "output_type": "stream",
          "name": "stdout",
          "text": [
            "[3000 2600 1400 1500 1200  500  300  400  700  600  800 1900]\n"
          ]
        }
      ]
    },
    {
      "cell_type": "markdown",
      "metadata": {
        "id": "GZpN6wh3ks_3"
      },
      "source": [
        "Caso você ainda esteja se perguntando sobre as diferenças entre uma **list** e uma **array numpy (np.array)**, vamos comparar como esses tipos de dados se comportam quando os usamos em uma expressão que os multiplica por 2. "
      ]
    },
    {
      "cell_type": "code",
      "metadata": {
        "id": "1lsCaL9Tks_4",
        "colab": {
          "base_uri": "https://localhost:8080/"
        },
        "outputId": "eb8f8e95-17f3-4048-cfe3-11c59058cda1"
      },
      "source": [
        "print (type(ice_cream),'x 2:', ice_cream * 2)\n",
        "print('---')\n",
        "print (type(ice_cream_v),'x 2:', ice_cream_v * 2)"
      ],
      "execution_count": null,
      "outputs": [
        {
          "output_type": "stream",
          "name": "stdout",
          "text": [
            "<class 'list'> x 2: [3000, 2600, 1400, 1500, 1200, 500, 300, 400, 700, 600, 800, 1900, 3000, 2600, 1400, 1500, 1200, 500, 300, 400, 700, 600, 800, 1900]\n",
            "---\n",
            "<class 'numpy.ndarray'> x 2: [6000 5200 2800 3000 2400 1000  600  800 1400 1200 1600 3800]\n"
          ]
        }
      ]
    },
    {
      "cell_type": "markdown",
      "metadata": {
        "id": "18noTOQMks_5"
      },
      "source": [
        "Observe que multiplicar uma lista por 2 cria uma nova lista com o dobro do comprimento e a sequência original de elementos da lista repetida. Multiplicar um array NumPy, por outro lado, realiza um cálculo elementar no qual o array se comporta como um *vetor*. Terminamos com um array do mesmo tamanho no qual cada elemento foi multiplicado por 2.\n",
        "\n",
        "A principal conclusão disso é que os arrays NumPy são projetados especificamente para suportar operações matemáticas em dados numéricos. "
      ]
    },
    {
      "cell_type": "code",
      "metadata": {
        "id": "AameKG8Jks_5",
        "colab": {
          "base_uri": "https://localhost:8080/"
        },
        "outputId": "c525d83c-d8bc-4919-dac8-b75d6bef4b4a"
      },
      "source": [
        "np.median(ice_cream_v)"
      ],
      "execution_count": null,
      "outputs": [
        {
          "output_type": "execute_result",
          "data": {
            "text/plain": [
              "1000.0"
            ]
          },
          "metadata": {},
          "execution_count": 7
        }
      ]
    },
    {
      "cell_type": "markdown",
      "metadata": {
        "id": "6aVO4P6zks_5"
      },
      "source": [
        "### Exercício 01\n",
        "\n",
        "Altere a função abaixo para retornar a mediana do valor dos sortvetes e o número de elementos no array."
      ]
    },
    {
      "cell_type": "code",
      "metadata": {
        "id": "pMeMh2GJks_6"
      },
      "source": [
        "def median_and_size(array):\n",
        "    return (np.median(array), np.size(array))"
      ],
      "execution_count": null,
      "outputs": []
    },
    {
      "cell_type": "markdown",
      "metadata": {
        "id": "GSMufmbjks_6"
      },
      "source": [
        "Novamente, vanos carregar os módulos de testes"
      ]
    },
    {
      "cell_type": "code",
      "metadata": {
        "id": "SbBfxFqAks_6"
      },
      "source": [
        "from numpy.testing import assert_almost_equal\n",
        "from numpy.testing import assert_equal\n",
        "\n",
        "from numpy.testing import assert_array_almost_equal\n",
        "from numpy.testing import assert_array_equal"
      ],
      "execution_count": null,
      "outputs": []
    },
    {
      "cell_type": "markdown",
      "metadata": {
        "id": "qzPCrrk1ks_7"
      },
      "source": [
        "Nosso teste"
      ]
    },
    {
      "cell_type": "code",
      "metadata": {
        "id": "GPr3HeaIks_7"
      },
      "source": [
        "median, size = median_and_size(ice_cream_v)\n",
        "assert_equal(1000, median)\n",
        "assert_equal(12, size)"
      ],
      "execution_count": null,
      "outputs": []
    },
    {
      "cell_type": "code",
      "metadata": {
        "id": "5ZJiBwcQks_7",
        "colab": {
          "base_uri": "https://localhost:8080/"
        },
        "outputId": "b11d013f-3559-42e1-a454-2eb7baecf827"
      },
      "source": [
        "len(ice_cream_v)"
      ],
      "execution_count": null,
      "outputs": [
        {
          "output_type": "execute_result",
          "data": {
            "text/plain": [
              "12"
            ]
          },
          "metadata": {},
          "execution_count": 13
        }
      ]
    },
    {
      "cell_type": "markdown",
      "metadata": {
        "id": "dOTEfPWJks_7"
      },
      "source": [
        "## Pandas"
      ]
    },
    {
      "cell_type": "markdown",
      "metadata": {
        "id": "9pD_O4wqks_8"
      },
      "source": [
        "Embora o NumPy forneça muitas das funcionalidades de que você precisa para trabalhar com números, quando você começa a lidar com tabelas de dados bidimensionais, o pacote Pandas oferece uma estrutura mais conveniente para trabalhar - o DataFrame.\n",
        "\n",
        "Agora, vamos criar alguns dados de vendas de outros produtos. Além do mais, vamos criar um array de meses."
      ]
    },
    {
      "cell_type": "code",
      "metadata": {
        "id": "bq6KCD2Lks_8"
      },
      "source": [
        "ice_cream = np.array([3000, 2600, 1400, 1500, 1200, 500, 300, 400, 700, 600, 800, 1900])\n",
        "sunglasses = np.array([1000, 800, 100, 70, 50, 190, 60, 50, 100, 120, 130, 900])\n",
        "coats = np.array([10, 20, 80, 120, 100, 500, 900, 780, 360, 100, 120, 20])\n",
        "labels = np.array([\"Jan\", \"Fev\", \"Mar\", \"Abr\", \"Mai\", \"Jun\", \"Jul\", \"Ago\", \"Set\", \"Out\", \"Nov\", \"Dez\"])"
      ],
      "execution_count": null,
      "outputs": []
    },
    {
      "cell_type": "markdown",
      "metadata": {
        "id": "6q-aFP0Dks_8"
      },
      "source": [
        "O código abaixo cria um DataFrame na mão. É mais comum ler dados de arquivos. Porém, neste laboratório inicial, vamos usar um DataFrame com a pequna base de dados acima. A tabela vai ser da seguinte forma:\n",
        "\n",
        "```\n",
        "       icecream   sunglasses   coats\n",
        "------------------------------------\n",
        "Jan     3000        1000        10\n",
        "Fev     2600        800         20\n",
        "...     ...         ...        ...\n",
        "Dez     1900        900         20\n",
        "```\n",
        "\n",
        "Observe que, além das colunas que você especificou, o DataFrame inclui um índice para identificar cada linha de forma exclusiva."
      ]
    },
    {
      "cell_type": "code",
      "metadata": {
        "id": "_KpxPAATks_9"
      },
      "source": [
        "df = pd.DataFrame({'icecream': ice_cream,      # coluna 0\n",
        "                   'sunglasses': sunglasses,   # coluna 1\n",
        "                   'coats': coats},            # coluna 2\n",
        "                   index=labels)"
      ],
      "execution_count": null,
      "outputs": []
    },
    {
      "cell_type": "markdown",
      "metadata": {
        "id": "gBhSIR6oks_9"
      },
      "source": [
        "A chamada head mostra as 5 primeiras linhas do DataFrame. "
      ]
    },
    {
      "cell_type": "code",
      "metadata": {
        "id": "Z75wFT7Vks_9",
        "colab": {
          "base_uri": "https://localhost:8080/",
          "height": 204
        },
        "outputId": "7bd605cd-8957-46a2-e84b-f069292f8779"
      },
      "source": [
        "df.head()"
      ],
      "execution_count": null,
      "outputs": [
        {
          "output_type": "execute_result",
          "data": {
            "text/html": [
              "<div>\n",
              "<style scoped>\n",
              "    .dataframe tbody tr th:only-of-type {\n",
              "        vertical-align: middle;\n",
              "    }\n",
              "\n",
              "    .dataframe tbody tr th {\n",
              "        vertical-align: top;\n",
              "    }\n",
              "\n",
              "    .dataframe thead th {\n",
              "        text-align: right;\n",
              "    }\n",
              "</style>\n",
              "<table border=\"1\" class=\"dataframe\">\n",
              "  <thead>\n",
              "    <tr style=\"text-align: right;\">\n",
              "      <th></th>\n",
              "      <th>icecream</th>\n",
              "      <th>sunglasses</th>\n",
              "      <th>coats</th>\n",
              "    </tr>\n",
              "  </thead>\n",
              "  <tbody>\n",
              "    <tr>\n",
              "      <th>Jan</th>\n",
              "      <td>3000</td>\n",
              "      <td>1000</td>\n",
              "      <td>10</td>\n",
              "    </tr>\n",
              "    <tr>\n",
              "      <th>Fev</th>\n",
              "      <td>2600</td>\n",
              "      <td>800</td>\n",
              "      <td>20</td>\n",
              "    </tr>\n",
              "    <tr>\n",
              "      <th>Mar</th>\n",
              "      <td>1400</td>\n",
              "      <td>100</td>\n",
              "      <td>80</td>\n",
              "    </tr>\n",
              "    <tr>\n",
              "      <th>Abr</th>\n",
              "      <td>1500</td>\n",
              "      <td>70</td>\n",
              "      <td>120</td>\n",
              "    </tr>\n",
              "    <tr>\n",
              "      <th>Mai</th>\n",
              "      <td>1200</td>\n",
              "      <td>50</td>\n",
              "      <td>100</td>\n",
              "    </tr>\n",
              "  </tbody>\n",
              "</table>\n",
              "</div>"
            ],
            "text/plain": [
              "     icecream  sunglasses  coats\n",
              "Jan      3000        1000     10\n",
              "Fev      2600         800     20\n",
              "Mar      1400         100     80\n",
              "Abr      1500          70    120\n",
              "Mai      1200          50    100"
            ]
          },
          "metadata": {},
          "execution_count": 16
        }
      ]
    },
    {
      "cell_type": "markdown",
      "metadata": {
        "id": "Gin_M0Y-ks_9"
      },
      "source": [
        "### Exercício 02\n",
        "\n",
        "Lembre-se da sala de aula que pandas contém chamadas `loc` e `iloc` para acessar o índice. Sabendo disto, implemente a função abaixo que retorna a quantidade de vendas em um dado mês na forma de `string`. A sua função deve retorna uma Series do pandas. Por exemplo, segue a saída esperada para 'Jan'.\n",
        "\n",
        "```python\n",
        "month_sales(df, 'Jan')\n",
        "```\n",
        "\n",
        "```\n",
        "icecream      3000\n",
        "sunglasses    1000\n",
        "coats           10\n",
        "Name: Jan, dtype: int64\n",
        "```"
      ]
    },
    {
      "cell_type": "code",
      "metadata": {
        "id": "ODGaNj64ks_9"
      },
      "source": [
        "def month_sales(df, month: str):\n",
        "    return df.loc[month]"
      ],
      "execution_count": null,
      "outputs": []
    },
    {
      "cell_type": "code",
      "metadata": {
        "id": "b0emB_1Jks_-"
      },
      "source": [
        "series = month_sales(df, 'Jan')\n",
        "assert_equal(3000, series.loc['icecream'])\n",
        "assert_equal(1000, series.loc['sunglasses'])\n",
        "assert_equal(10, series.loc['coats'])"
      ],
      "execution_count": null,
      "outputs": []
    },
    {
      "cell_type": "markdown",
      "metadata": {
        "id": "aixeXPhhks_-"
      },
      "source": [
        "series = month_sales(df, 'Jan')\n",
        "assert_equal(3000, series.loc['icecream'])\n",
        "assert_equal(1000, series.loc['sunglasses'])\n",
        "assert_equal(10, series.loc['coats'])"
      ]
    },
    {
      "cell_type": "markdown",
      "metadata": {
        "id": "O6q_Hbbdks_-"
      },
      "source": [
        "### Exercício 03\n",
        "\n",
        "Agora, implemente uma função que retorna uma linha do DataFrame via um inteiro."
      ]
    },
    {
      "cell_type": "code",
      "metadata": {
        "id": "exwUQufoks_-"
      },
      "source": [
        "def row_sales(df, row: int):\n",
        "    return df.iloc[row]"
      ],
      "execution_count": null,
      "outputs": []
    },
    {
      "cell_type": "code",
      "metadata": {
        "id": "0khs2IWjks_-"
      },
      "source": [
        "series = row_sales(df, 0)\n",
        "assert_equal(3000, series.loc['icecream'])\n",
        "assert_equal(1000, series.loc['sunglasses'])\n",
        "assert_equal(10, series.loc['coats'])"
      ],
      "execution_count": null,
      "outputs": []
    },
    {
      "cell_type": "markdown",
      "metadata": {
        "id": "ng9EKSMXks_-"
      },
      "source": [
        "### Exercício 04 (Sem correção Automática)\n",
        "\n",
        "Agora, faça um gráfico estilo o abaixo para entender a venda de produtos ao longo dos meses. Esta tarefa não tem correção automática, use o gráfico abaixo para saber se acertou ou não.\n",
        "\n",
        "Lembre-se que em Pandas os data frames contém um método [plot](https://pandas.pydata.org/pandas-docs/stable/reference/api/pandas.DataFrame.plot.html). Leia a documentação do mesmo caso necessário.\n",
        "\n",
        "![](https://raw.githubusercontent.com/icd-ufmg/icd-ufmg.github.io/master/listas/l2/plot1.png)"
      ]
    },
    {
      "cell_type": "code",
      "metadata": {
        "colab": {
          "base_uri": "https://localhost:8080/",
          "height": 630
        },
        "id": "PSBSxwZVn5GR",
        "outputId": "3f1a2018-eebf-4037-ff81-ae9929a2c34f"
      },
      "source": [
        "df.plot.bar(figsize=(18, 10), fontsize=16, lw=5)"
      ],
      "execution_count": null,
      "outputs": [
        {
          "output_type": "execute_result",
          "data": {
            "text/plain": [
              "<matplotlib.axes._subplots.AxesSubplot at 0x7fb77e3f3f90>"
            ]
          },
          "metadata": {},
          "execution_count": 25
        },
        {
          "output_type": "display_data",
          "data": {
            "image/png": "[encoded data removed]",
            "text/plain": [
              "<Figure size 1296x720 with 1 Axes>"
            ]
          },
          "metadata": {
            "needs_background": "light"
          }
        }
      ]
    },
    {
      "cell_type": "markdown",
      "metadata": {
        "id": "jfllx4M8ks__"
      },
      "source": [
        "### Exercício 05\n",
        "\n",
        "Agora, altere a função abaixo para retornar 'Norte' caso você acha ache que o país das vendas acima é do hemisfério norte. Retorne 'Sul' caso contraŕio."
      ]
    },
    {
      "cell_type": "code",
      "metadata": {
        "id": "x8zYjrY2ks__"
      },
      "source": [
        "def north_or_south():\n",
        "    if (df['coats'].loc[['Jun','Jul','Ago']].mean() > df['coats'].loc[['Dez','Jan','Fev']].mean()):\n",
        "        return 'Sul'\n",
        "    else:\n",
        "        return 'Norte'"
      ],
      "execution_count": null,
      "outputs": []
    },
    {
      "cell_type": "markdown",
      "metadata": {
        "id": "h6mEpoLlks__"
      },
      "source": [
        "### Exercício 06\n",
        "\n",
        "Por fim, crie um método que retorne as estatísticas agregadas. Seu método deve retornar um novo DataFrame do seguinte formato.\n",
        "\n",
        "```\n",
        "          icecream   sunglasses       coats\n",
        "count    12.000000    12.000000   12.000000\n",
        "mean   1241.666667   297.500000  259.166667\n",
        "std     879.522942   367.896354  308.676304\n",
        "min     300.000000    50.000000   10.000000\n",
        "25%     575.000000    67.500000   65.000000\n",
        "50%    1000.000000   110.000000  110.000000\n",
        "75%    1600.000000   342.500000  395.000000\n",
        "max    3000.000000  1000.000000  900.000000\n",
        "```\n",
        "\n",
        "Uma única chamada Pandas resolve este problema!"
      ]
    },
    {
      "cell_type": "code",
      "metadata": {
        "id": "r_klCRkkks__"
      },
      "source": [
        "def questao6(df):\n",
        "    return df.describe()"
      ],
      "execution_count": null,
      "outputs": []
    },
    {
      "cell_type": "markdown",
      "metadata": {
        "id": "2iSbmelbks__"
      },
      "source": [
        "## Arquivos\n",
        "\n",
        "É bem mais comum fazer uso de DataFrames que já existem em arquivos. Note que o trabalho do cientista de dados nem sempre vai ter tais arquivos prontos. Em várias ocasiões, você vai ter que coletar e organizar os mesmos. Limpeza e coleta de dados é uma parte fundamental do seu trabalho. Durante a matéria, boa parte dos notebooks já vão ter dados prontos.\n",
        "\n",
        "Neste último exercício, vamos fazer uso dos dados de [John Snow](http://blog.rtwilson.com/john-snows-cholera-data-in-more-formats/). Os dados já foram limpos para a tarefa."
      ]
    },
    {
      "cell_type": "code",
      "metadata": {
        "id": "paOFDCISktAA",
        "colab": {
          "base_uri": "https://localhost:8080/",
          "height": 204
        },
        "outputId": "a4a0308e-66f4-4bee-fd81-5c5726ab7088"
      },
      "source": [
        "df = pd.read_csv('https://raw.githubusercontent.com/icd-ufmg/icd-ufmg.github.io/master/listas/l2/snow.csv')\n",
        "df.head()"
      ],
      "execution_count": null,
      "outputs": [
        {
          "output_type": "execute_result",
          "data": {
            "text/html": [
              "<div>\n",
              "<style scoped>\n",
              "    .dataframe tbody tr th:only-of-type {\n",
              "        vertical-align: middle;\n",
              "    }\n",
              "\n",
              "    .dataframe tbody tr th {\n",
              "        vertical-align: top;\n",
              "    }\n",
              "\n",
              "    .dataframe thead th {\n",
              "        text-align: right;\n",
              "    }\n",
              "</style>\n",
              "<table border=\"1\" class=\"dataframe\">\n",
              "  <thead>\n",
              "    <tr style=\"text-align: right;\">\n",
              "      <th></th>\n",
              "      <th>Count</th>\n",
              "      <th>geometry</th>\n",
              "      <th>NearestPumpID</th>\n",
              "    </tr>\n",
              "  </thead>\n",
              "  <tbody>\n",
              "    <tr>\n",
              "      <th>0</th>\n",
              "      <td>3</td>\n",
              "      <td>POINT (529308.7414200425 181031.3515464273)</td>\n",
              "      <td>0</td>\n",
              "    </tr>\n",
              "    <tr>\n",
              "      <th>1</th>\n",
              "      <td>2</td>\n",
              "      <td>POINT (529312.163571333 181025.1724011325)</td>\n",
              "      <td>0</td>\n",
              "    </tr>\n",
              "    <tr>\n",
              "      <th>2</th>\n",
              "      <td>1</td>\n",
              "      <td>POINT (529314.3824294576 181020.2936884186)</td>\n",
              "      <td>0</td>\n",
              "    </tr>\n",
              "    <tr>\n",
              "      <th>3</th>\n",
              "      <td>1</td>\n",
              "      <td>POINT (529317.3796448297 181014.2587706869)</td>\n",
              "      <td>0</td>\n",
              "    </tr>\n",
              "    <tr>\n",
              "      <th>4</th>\n",
              "      <td>4</td>\n",
              "      <td>POINT (529320.6754489439 181007.8716281414)</td>\n",
              "      <td>0</td>\n",
              "    </tr>\n",
              "  </tbody>\n",
              "</table>\n",
              "</div>"
            ],
            "text/plain": [
              "   Count                                     geometry  NearestPumpID\n",
              "0      3  POINT (529308.7414200425 181031.3515464273)              0\n",
              "1      2   POINT (529312.163571333 181025.1724011325)              0\n",
              "2      1  POINT (529314.3824294576 181020.2936884186)              0\n",
              "3      1  POINT (529317.3796448297 181014.2587706869)              0\n",
              "4      4  POINT (529320.6754489439 181007.8716281414)              0"
            ]
          },
          "metadata": {},
          "execution_count": 54
        }
      ]
    },
    {
      "cell_type": "markdown",
      "metadata": {
        "id": "c3zbkfS6ktAA"
      },
      "source": [
        "A coluna Count indica o número de mortes em uma casa. A NearestPumpID indica qual bomba d'água é a mais próxima da casa. Os dados não vão bater com os da aula, pois eu não sabia exatamente onde cada casa pegava água. Apenas assumi ser no local mais próximo!"
      ]
    },
    {
      "cell_type": "markdown",
      "metadata": {
        "id": "gmWv6rWUktAA"
      },
      "source": [
        "## Groupby\n",
        "\n",
        "Vamos responder uma pergunta com a função groupby. Lembrando a ideia é separar os dados com base em valores comuns, ou seja, agrupar por nomes e realizar alguma operação. O comando abaixo agrupa todos os recem-náscidos por nome. Imagine a mesma fazendo uma operação equivalente ao laço abaixo:\n",
        "\n",
        "```python\n",
        "buckets = {}                    # Mapa de dados\n",
        "names = set(df['Name'])         # Conjunto de nomes únicos\n",
        "for idx, row in df.iterrows():  # Para cada linha dos dados\n",
        "    name = row['Name']\n",
        "    if name not in buckets:\n",
        "        buckets[name] = []      # Uma lista para cada nome\n",
        "    buckets[name].append(row)   # Separa a linha para cada nome\n",
        "```\n",
        "O código acima é bastante lento!!! O groupby é optimizado. Com base na linha abaixo, o mesmo nem retorna nehum resultado ainda. Apenas um objeto onde podemos fazer agregações."
      ]
    },
    {
      "cell_type": "markdown",
      "metadata": {
        "id": "rj8kZ78MktAA"
      },
      "source": [
        "### Exercício 07\n",
        "\n",
        "Implemente uma função que retorna a quantidade de mortes para cada bomba. Use o `groupby`."
      ]
    },
    {
      "cell_type": "code",
      "metadata": {
        "id": "s3V3gmFTktAA"
      },
      "source": [
        "def mortes_por_pump(df):\n",
        "    return df[['Count', 'NearestPumpID']].groupby('NearestPumpID').sum()"
      ],
      "execution_count": null,
      "outputs": []
    },
    {
      "cell_type": "code",
      "metadata": {
        "id": "zOBp7nFAktAA"
      },
      "source": [
        ""
      ],
      "execution_count": null,
      "outputs": []
    }
  ]
}