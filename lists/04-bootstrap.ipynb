{
  "nbformat": 4,
  "nbformat_minor": 0,
  "metadata": {
    "colab": {
      "name": "Lista 04 - Bootstrap.ipynb",
      "provenance": [],
      "collapsed_sections": [
        "ZoqeIRs6tAeJ",
        "FLwdrfiTCqo9"
      ],
      "toc_visible": true,
      "include_colab_link": true
    },
    "kernelspec": {
      "name": "python3",
      "display_name": "Python 3"
    },
    "language_info": {
      "name": "python"
    }
  },
  "cells": [
    {
      "cell_type": "markdown",
      "metadata": {
        "id": "view-in-github",
        "colab_type": "text"
      },
      "source": [
        "<a href=\"https://colab.research.google.com/github/brenocsp/intro-data-science/blob/main/lists/4-bootstrap.ipynb\" target=\"_parent\"><img src=\"https://colab.research.google.com/assets/colab-badge.svg\" alt=\"Open In Colab\"/></a>"
      ]
    },
    {
      "cell_type": "markdown",
      "metadata": {
        "id": "AumlbrSa9B6-"
      },
      "source": [
        "# Lista 3 - ICs e Bootstrap"
      ]
    },
    {
      "cell_type": "markdown",
      "metadata": {
        "id": "9kanULcm6e_P"
      },
      "source": [
        "## Intervalos de Confiança"
      ]
    },
    {
      "cell_type": "markdown",
      "metadata": {
        "id": "ZwWt4tZ9KyJW"
      },
      "source": [
        "Intervalos de confiança são intervalos calculados a partir de observações que podem variar de amostra para amostra e que com dada frequência (nível de confiança) inclui o parâmetro de interesse real não observável. \n",
        "\n",
        "**Por exemplo:** Um intervalo com nível de confiança de 99% para a média de uma variável aleatória significa que ao calcularmos *n* intervalos de confiança tomando como base *n* amostras aleatórias, espera-se que 99% dos intervalos construídos contenham o valor real do parâmetro (média).\n",
        "\n",
        "Em outras palavras, o nível de confiança seria a proporção de intervalos de confiança construídos em experimentos separados da mesma população e com o mesmo procedimento que contém o parâmetro de interesse real."
      ]
    },
    {
      "cell_type": "markdown",
      "metadata": {
        "id": "UJNKIoa66qWP"
      },
      "source": [
        "Foram ministradas duas maneiras de construírmos intervalos de confiança:\n",
        "\n",
        "- Probabilisticamente direto dos dados (Forma clássica).\n",
        "- Via sub-amostragem com reposição (*Bootstrap*)."
      ]
    },
    {
      "cell_type": "markdown",
      "metadata": {
        "id": "jnVjOUUzv_LJ"
      },
      "source": [
        "Para o primeiro caso, lembrando do conceito visto em aula, temos (para um IC com 95% de confiança):\n",
        "\n",
        "$$\\begin{align}\n",
        "0.95 = P(-z \\le Z \\le z)=P \\left(-1.96 \\le \\frac {\\bar X-\\mu}{\\sigma/\\sqrt{n}} \\le 1.96 \\right) = P \\left( \\bar X - 1.96 \\frac \\sigma {\\sqrt{n}} \\le \\mu \\le \\bar X + 1.96 \\frac \\sigma {\\sqrt{n}}\\right).\n",
        "\\end{align}$$"
      ]
    },
    {
      "cell_type": "markdown",
      "metadata": {
        "id": "KVA8KGEW8JhE"
      },
      "source": [
        "Vamos colocar na prática!"
      ]
    },
    {
      "cell_type": "markdown",
      "metadata": {
        "id": "nWTB0e1NtN1n"
      },
      "source": [
        "## Exemplo Inicial"
      ]
    },
    {
      "cell_type": "markdown",
      "metadata": {
        "id": "ZdiXKyXmQGoS"
      },
      "source": [
        "Vamos começar construindo um intervalo de confiança pra a média de uma distribuição Normal (Gaussiana) com média $\\mu = 0$ e variância $\\sigma² = 1$."
      ]
    },
    {
      "cell_type": "code",
      "metadata": {
        "colab": {
          "base_uri": "https://localhost:8080/",
          "height": 553
        },
        "id": "VF6HWP1vQmHl",
        "outputId": "d6d56a0d-10d2-4cfc-9418-8c81f3862439"
      },
      "source": [
        "import numpy as np\n",
        "import matplotlib.pyplot as plt\n",
        "import seaborn as sns\n",
        "import scipy.stats as ss\n",
        "plt.rcParams[\"figure.figsize\"] = (10,8)\n",
        "\n",
        "def confidence_interval(loc, scale, alpha=0.99):\n",
        "  \"\"\"Essa função cria uma distribuição Normal com base nos parâmetros fornecidos e constrói um intervalo de confiança para sua média.\n",
        "  \n",
        "  Parameters:\n",
        "  -----------\n",
        "  loc (float): Média da distribuição desejada.\n",
        "  scale (float): Desvio padrão da distribuição desejada.\n",
        "  alpha (float): Nível de confiança do intervalo. Deve ser um valor entre 0 e 1. Default = 0.99, o que corresponde a 99% de confiança.\n",
        "\n",
        "  Returns:\n",
        "  -----------\n",
        "  X (array): Dados gerados segundo uma distribuição Normal(0,1).\n",
        "  LI (float): Limite inferior do intervalo calculado.\n",
        "  LS (float): Limite superior do intervalo calculado.\n",
        "\n",
        "  \"\"\"\n",
        "  \n",
        "  # Gerando amostra de uma Normal(0,1) de tamanho N\n",
        "  N = 1000\n",
        "  X = np.random.normal(loc=loc, scale=scale, size=N)\n",
        "\n",
        "  # Criando plot da amostra gerada\n",
        "  plt.xlabel('Valores', fontsize=12)\n",
        "  plt.ylabel('Frequências', fontsize=12)\n",
        "  plt.title('Histograma de amostra de uma Distribuição Normal(0,1)', fontsize=16)\n",
        "\n",
        "  plt.hist(X, color='#A3333D', alpha=0.9, rwidth=0.85, bins=15)\n",
        "  plt.show()\n",
        "\n",
        "  # Calculando intervalo de  95% de confiança para a média manualmente\n",
        "  LI = X.mean() - 1.96 * (X.std(ddof=1) / np.sqrt(N)) # LI = limite inferior\n",
        "  LS = X.mean() + 1.96 * (X.std(ddof=1) / np.sqrt(N)) # LS = limite superior\n",
        "  print(\"INTERVALO DE CONFIANCA (manual) = [{:.4f}, {:.4f}]\".format(LI, LS))\n",
        "\n",
        "  # Utilizando o valor da confiança como base, utilizamos o pacote scipy.stats\n",
        "  LI = X.mean() - ss.norm.ppf(alpha+(1-alpha)/2).round(2) * (X.std(ddof=1) / np.sqrt(N))\n",
        "  LS = X.mean() + ss.norm.ppf(alpha+(1-alpha)/2).round(2) * (X.std(ddof=1) / np.sqrt(N))\n",
        "\n",
        "  # Printando intervalo de confiança\n",
        "  print(\"INTERVALO DE CONFIANCA (com scipy)= [{:.4f}, {:.4f}]\".format(LI, LS))\n",
        "\n",
        "  return X, LI, LS\n",
        "\n",
        "X, LI, LS = confidence_interval(loc=0, scale=1, alpha=0.95)"
      ],
      "execution_count": null,
      "outputs": [
        {
          "output_type": "display_data",
          "data": {
            "image/png": "[encoded data removed]",
            "text/plain": [
              "<Figure size 720x576 with 1 Axes>"
            ]
          },
          "metadata": {
            "needs_background": "light"
          }
        },
        {
          "output_type": "stream",
          "name": "stdout",
          "text": [
            "INTERVALO DE CONFIANCA (manual) = [-0.0544, 0.0674]\n",
            "INTERVALO DE CONFIANCA (com scipy)= [-0.0544, 0.0674]\n"
          ]
        }
      ]
    },
    {
      "cell_type": "markdown",
      "metadata": {
        "id": "Ob__-W20QGlU"
      },
      "source": [
        "Podemos afirmar que, se pudermos repetir muitas vezes o experimento e coletarmos os dados, aproximadamente em 95% das vezes a média populacional estará no intervalo encontrado.\n",
        "\n",
        "**Algumas observações interessantes. Note que:**\n",
        "- A cada vez que executamos o código acima, tanto os intervalos como o histograma dos dados são diferentes. Estamos realizando uma amostra de uma distribuição.\n",
        "- A medida que o tamanho da amostra (N) cresce, o tamanho do intervalo - para um mesmo nível de confiança - cai. Isso ocorre pois com mais dados temos uma maior certeza de que os valores encontrados de fato representam a população de interesse.\n",
        "- Os valores dos intervalos de confiança (manual e scipy) só coincidem quando *alpha=0.95*. Essa é a vantagem de se utilizar o pacote. Para valores diferentes de 0.95, deve-se consultar o valor correspondente na distribuição Z."
      ]
    },
    {
      "cell_type": "markdown",
      "metadata": {
        "id": "DbPnGld79G4s"
      },
      "source": [
        "## Dados ENEM 2015."
      ]
    },
    {
      "cell_type": "markdown",
      "metadata": {
        "id": "-V5G53Xm7CDL"
      },
      "source": [
        "Nos exercícios dessa seção vamos trabalhar com os dados do [ENEM 2015](https://raw.githubusercontent.com/pedroharaujo/ICD_Docencia/master/enem2015.csv).\n",
        "\n",
        "Importando pandas e carregando dados."
      ]
    },
    {
      "cell_type": "code",
      "metadata": {
        "id": "yv4wKf8XKkqc"
      },
      "source": [
        "import pandas as pd\n",
        "\n",
        "url = 'https://raw.githubusercontent.com/pedroharaujo/ICD_Docencia/master/enem2015.csv'\n",
        "data = pd.read_csv(url)"
      ],
      "execution_count": null,
      "outputs": []
    },
    {
      "cell_type": "markdown",
      "metadata": {
        "id": "Zuz-TU799Wm2"
      },
      "source": [
        "Primeiras visualizações do banco de dados do ENEM 2015."
      ]
    },
    {
      "cell_type": "code",
      "metadata": {
        "colab": {
          "base_uri": "https://localhost:8080/",
          "height": 206
        },
        "id": "CXXzJbG7Nb91",
        "outputId": "babc3307-eb02-4378-a0fe-f57b0de4b79b"
      },
      "source": [
        "data.head()"
      ],
      "execution_count": null,
      "outputs": [
        {
          "output_type": "execute_result",
          "data": {
            "text/html": [
              "\n",
              "  <div id=\"df-f799e48b-a11b-4382-8554-fc710d6c2974\">\n",
              "    <div class=\"colab-df-container\">\n",
              "      <div>\n",
              "<style scoped>\n",
              "    .dataframe tbody tr th:only-of-type {\n",
              "        vertical-align: middle;\n",
              "    }\n",
              "\n",
              "    .dataframe tbody tr th {\n",
              "        vertical-align: top;\n",
              "    }\n",
              "\n",
              "    .dataframe thead th {\n",
              "        text-align: right;\n",
              "    }\n",
              "</style>\n",
              "<table border=\"1\" class=\"dataframe\">\n",
              "  <thead>\n",
              "    <tr style=\"text-align: right;\">\n",
              "      <th></th>\n",
              "      <th>DEPENDENCIA_ADMINISTRATIVA</th>\n",
              "      <th>NOTA_MEDIA_ESCOLA</th>\n",
              "      <th>TAXA_DE_APROVACAO</th>\n",
              "      <th>TAXA_DE_PARTICIPACAO</th>\n",
              "    </tr>\n",
              "  </thead>\n",
              "  <tbody>\n",
              "    <tr>\n",
              "      <th>0</th>\n",
              "      <td>Federal</td>\n",
              "      <td>659.258362</td>\n",
              "      <td>92.2</td>\n",
              "      <td>96.894409</td>\n",
              "    </tr>\n",
              "    <tr>\n",
              "      <th>1</th>\n",
              "      <td>Federal</td>\n",
              "      <td>637.646728</td>\n",
              "      <td>86.5</td>\n",
              "      <td>98.717949</td>\n",
              "    </tr>\n",
              "    <tr>\n",
              "      <th>2</th>\n",
              "      <td>Estadual</td>\n",
              "      <td>556.710632</td>\n",
              "      <td>82.5</td>\n",
              "      <td>74.603180</td>\n",
              "    </tr>\n",
              "    <tr>\n",
              "      <th>3</th>\n",
              "      <td>Estadual</td>\n",
              "      <td>542.865967</td>\n",
              "      <td>70.2</td>\n",
              "      <td>54.651165</td>\n",
              "    </tr>\n",
              "    <tr>\n",
              "      <th>4</th>\n",
              "      <td>Estadual</td>\n",
              "      <td>557.379150</td>\n",
              "      <td>67.0</td>\n",
              "      <td>64.864861</td>\n",
              "    </tr>\n",
              "  </tbody>\n",
              "</table>\n",
              "</div>\n",
              "      <button class=\"colab-df-convert\" onclick=\"convertToInteractive('df-f799e48b-a11b-4382-8554-fc710d6c2974')\"\n",
              "              title=\"Convert this dataframe to an interactive table.\"\n",
              "              style=\"display:none;\">\n",
              "        \n",
              "  <svg xmlns=\"http://www.w3.org/2000/svg\" height=\"24px\"viewBox=\"0 0 24 24\"\n",
              "       width=\"24px\">\n",
              "    <path d=\"M0 0h24v24H0V0z\" fill=\"none\"/>\n",
              "    <path d=\"M18.56 5.44l.94 2.06.94-2.06 2.06-.94-2.06-.94-.94-2.06-.94 2.06-2.06.94zm-11 1L8.5 8.5l.94-2.06 2.06-.94-2.06-.94L8.5 2.5l-.94 2.06-2.06.94zm10 10l.94 2.06.94-2.06 2.06-.94-2.06-.94-.94-2.06-.94 2.06-2.06.94z\"/><path d=\"M17.41 7.96l-1.37-1.37c-.4-.4-.92-.59-1.43-.59-.52 0-1.04.2-1.43.59L10.3 9.45l-7.72 7.72c-.78.78-.78 2.05 0 2.83L4 21.41c.39.39.9.59 1.41.59.51 0 1.02-.2 1.41-.59l7.78-7.78 2.81-2.81c.8-.78.8-2.07 0-2.86zM5.41 20L4 18.59l7.72-7.72 1.47 1.35L5.41 20z\"/>\n",
              "  </svg>\n",
              "      </button>\n",
              "      \n",
              "  <style>\n",
              "    .colab-df-container {\n",
              "      display:flex;\n",
              "      flex-wrap:wrap;\n",
              "      gap: 12px;\n",
              "    }\n",
              "\n",
              "    .colab-df-convert {\n",
              "      background-color: #E8F0FE;\n",
              "      border: none;\n",
              "      border-radius: 50%;\n",
              "      cursor: pointer;\n",
              "      display: none;\n",
              "      fill: #1967D2;\n",
              "      height: 32px;\n",
              "      padding: 0 0 0 0;\n",
              "      width: 32px;\n",
              "    }\n",
              "\n",
              "    .colab-df-convert:hover {\n",
              "      background-color: #E2EBFA;\n",
              "      box-shadow: 0px 1px 2px rgba(60, 64, 67, 0.3), 0px 1px 3px 1px rgba(60, 64, 67, 0.15);\n",
              "      fill: #174EA6;\n",
              "    }\n",
              "\n",
              "    [theme=dark] .colab-df-convert {\n",
              "      background-color: #3B4455;\n",
              "      fill: #D2E3FC;\n",
              "    }\n",
              "\n",
              "    [theme=dark] .colab-df-convert:hover {\n",
              "      background-color: #434B5C;\n",
              "      box-shadow: 0px 1px 3px 1px rgba(0, 0, 0, 0.15);\n",
              "      filter: drop-shadow(0px 1px 2px rgba(0, 0, 0, 0.3));\n",
              "      fill: #FFFFFF;\n",
              "    }\n",
              "  </style>\n",
              "\n",
              "      <script>\n",
              "        const buttonEl =\n",
              "          document.querySelector('#df-f799e48b-a11b-4382-8554-fc710d6c2974 button.colab-df-convert');\n",
              "        buttonEl.style.display =\n",
              "          google.colab.kernel.accessAllowed ? 'block' : 'none';\n",
              "\n",
              "        async function convertToInteractive(key) {\n",
              "          const element = document.querySelector('#df-f799e48b-a11b-4382-8554-fc710d6c2974');\n",
              "          const dataTable =\n",
              "            await google.colab.kernel.invokeFunction('convertToInteractive',\n",
              "                                                     [key], {});\n",
              "          if (!dataTable) return;\n",
              "\n",
              "          const docLinkHtml = 'Like what you see? Visit the ' +\n",
              "            '<a target=\"_blank\" href=https://colab.research.google.com/notebooks/data_table.ipynb>data table notebook</a>'\n",
              "            + ' to learn more about interactive tables.';\n",
              "          element.innerHTML = '';\n",
              "          dataTable['output_type'] = 'display_data';\n",
              "          await google.colab.output.renderOutput(dataTable, element);\n",
              "          const docLink = document.createElement('div');\n",
              "          docLink.innerHTML = docLinkHtml;\n",
              "          element.appendChild(docLink);\n",
              "        }\n",
              "      </script>\n",
              "    </div>\n",
              "  </div>\n",
              "  "
            ],
            "text/plain": [
              "  DEPENDENCIA_ADMINISTRATIVA  ...  TAXA_DE_PARTICIPACAO\n",
              "0                    Federal  ...             96.894409\n",
              "1                    Federal  ...             98.717949\n",
              "2                   Estadual  ...             74.603180\n",
              "3                   Estadual  ...             54.651165\n",
              "4                   Estadual  ...             64.864861\n",
              "\n",
              "[5 rows x 4 columns]"
            ]
          },
          "metadata": {},
          "execution_count": 30
        }
      ]
    },
    {
      "cell_type": "code",
      "metadata": {
        "colab": {
          "base_uri": "https://localhost:8080/",
          "height": 300
        },
        "id": "toIeoUHsNjVd",
        "outputId": "ad3ec33f-e69c-43f7-c61e-645b8abca547"
      },
      "source": [
        "data.describe()"
      ],
      "execution_count": null,
      "outputs": [
        {
          "output_type": "execute_result",
          "data": {
            "text/html": [
              "\n",
              "  <div id=\"df-f2442ff8-f055-4319-90da-d022cd157e88\">\n",
              "    <div class=\"colab-df-container\">\n",
              "      <div>\n",
              "<style scoped>\n",
              "    .dataframe tbody tr th:only-of-type {\n",
              "        vertical-align: middle;\n",
              "    }\n",
              "\n",
              "    .dataframe tbody tr th {\n",
              "        vertical-align: top;\n",
              "    }\n",
              "\n",
              "    .dataframe thead th {\n",
              "        text-align: right;\n",
              "    }\n",
              "</style>\n",
              "<table border=\"1\" class=\"dataframe\">\n",
              "  <thead>\n",
              "    <tr style=\"text-align: right;\">\n",
              "      <th></th>\n",
              "      <th>NOTA_MEDIA_ESCOLA</th>\n",
              "      <th>TAXA_DE_APROVACAO</th>\n",
              "      <th>TAXA_DE_PARTICIPACAO</th>\n",
              "    </tr>\n",
              "  </thead>\n",
              "  <tbody>\n",
              "    <tr>\n",
              "      <th>count</th>\n",
              "      <td>1685.000000</td>\n",
              "      <td>1683.000000</td>\n",
              "      <td>1685.000000</td>\n",
              "    </tr>\n",
              "    <tr>\n",
              "      <th>mean</th>\n",
              "      <td>575.391745</td>\n",
              "      <td>86.044444</td>\n",
              "      <td>75.263669</td>\n",
              "    </tr>\n",
              "    <tr>\n",
              "      <th>std</th>\n",
              "      <td>40.796223</td>\n",
              "      <td>10.334011</td>\n",
              "      <td>16.886193</td>\n",
              "    </tr>\n",
              "    <tr>\n",
              "      <th>min</th>\n",
              "      <td>487.007141</td>\n",
              "      <td>47.700000</td>\n",
              "      <td>50.000000</td>\n",
              "    </tr>\n",
              "    <tr>\n",
              "      <th>25%</th>\n",
              "      <td>544.937500</td>\n",
              "      <td>79.500000</td>\n",
              "      <td>59.615387</td>\n",
              "    </tr>\n",
              "    <tr>\n",
              "      <th>50%</th>\n",
              "      <td>561.520752</td>\n",
              "      <td>87.800000</td>\n",
              "      <td>72.916672</td>\n",
              "    </tr>\n",
              "    <tr>\n",
              "      <th>75%</th>\n",
              "      <td>607.530579</td>\n",
              "      <td>94.550000</td>\n",
              "      <td>92.857140</td>\n",
              "    </tr>\n",
              "    <tr>\n",
              "      <th>max</th>\n",
              "      <td>713.629028</td>\n",
              "      <td>100.000000</td>\n",
              "      <td>100.000000</td>\n",
              "    </tr>\n",
              "  </tbody>\n",
              "</table>\n",
              "</div>\n",
              "      <button class=\"colab-df-convert\" onclick=\"convertToInteractive('df-f2442ff8-f055-4319-90da-d022cd157e88')\"\n",
              "              title=\"Convert this dataframe to an interactive table.\"\n",
              "              style=\"display:none;\">\n",
              "        \n",
              "  <svg xmlns=\"http://www.w3.org/2000/svg\" height=\"24px\"viewBox=\"0 0 24 24\"\n",
              "       width=\"24px\">\n",
              "    <path d=\"M0 0h24v24H0V0z\" fill=\"none\"/>\n",
              "    <path d=\"M18.56 5.44l.94 2.06.94-2.06 2.06-.94-2.06-.94-.94-2.06-.94 2.06-2.06.94zm-11 1L8.5 8.5l.94-2.06 2.06-.94-2.06-.94L8.5 2.5l-.94 2.06-2.06.94zm10 10l.94 2.06.94-2.06 2.06-.94-2.06-.94-.94-2.06-.94 2.06-2.06.94z\"/><path d=\"M17.41 7.96l-1.37-1.37c-.4-.4-.92-.59-1.43-.59-.52 0-1.04.2-1.43.59L10.3 9.45l-7.72 7.72c-.78.78-.78 2.05 0 2.83L4 21.41c.39.39.9.59 1.41.59.51 0 1.02-.2 1.41-.59l7.78-7.78 2.81-2.81c.8-.78.8-2.07 0-2.86zM5.41 20L4 18.59l7.72-7.72 1.47 1.35L5.41 20z\"/>\n",
              "  </svg>\n",
              "      </button>\n",
              "      \n",
              "  <style>\n",
              "    .colab-df-container {\n",
              "      display:flex;\n",
              "      flex-wrap:wrap;\n",
              "      gap: 12px;\n",
              "    }\n",
              "\n",
              "    .colab-df-convert {\n",
              "      background-color: #E8F0FE;\n",
              "      border: none;\n",
              "      border-radius: 50%;\n",
              "      cursor: pointer;\n",
              "      display: none;\n",
              "      fill: #1967D2;\n",
              "      height: 32px;\n",
              "      padding: 0 0 0 0;\n",
              "      width: 32px;\n",
              "    }\n",
              "\n",
              "    .colab-df-convert:hover {\n",
              "      background-color: #E2EBFA;\n",
              "      box-shadow: 0px 1px 2px rgba(60, 64, 67, 0.3), 0px 1px 3px 1px rgba(60, 64, 67, 0.15);\n",
              "      fill: #174EA6;\n",
              "    }\n",
              "\n",
              "    [theme=dark] .colab-df-convert {\n",
              "      background-color: #3B4455;\n",
              "      fill: #D2E3FC;\n",
              "    }\n",
              "\n",
              "    [theme=dark] .colab-df-convert:hover {\n",
              "      background-color: #434B5C;\n",
              "      box-shadow: 0px 1px 3px 1px rgba(0, 0, 0, 0.15);\n",
              "      filter: drop-shadow(0px 1px 2px rgba(0, 0, 0, 0.3));\n",
              "      fill: #FFFFFF;\n",
              "    }\n",
              "  </style>\n",
              "\n",
              "      <script>\n",
              "        const buttonEl =\n",
              "          document.querySelector('#df-f2442ff8-f055-4319-90da-d022cd157e88 button.colab-df-convert');\n",
              "        buttonEl.style.display =\n",
              "          google.colab.kernel.accessAllowed ? 'block' : 'none';\n",
              "\n",
              "        async function convertToInteractive(key) {\n",
              "          const element = document.querySelector('#df-f2442ff8-f055-4319-90da-d022cd157e88');\n",
              "          const dataTable =\n",
              "            await google.colab.kernel.invokeFunction('convertToInteractive',\n",
              "                                                     [key], {});\n",
              "          if (!dataTable) return;\n",
              "\n",
              "          const docLinkHtml = 'Like what you see? Visit the ' +\n",
              "            '<a target=\"_blank\" href=https://colab.research.google.com/notebooks/data_table.ipynb>data table notebook</a>'\n",
              "            + ' to learn more about interactive tables.';\n",
              "          element.innerHTML = '';\n",
              "          dataTable['output_type'] = 'display_data';\n",
              "          await google.colab.output.renderOutput(dataTable, element);\n",
              "          const docLink = document.createElement('div');\n",
              "          docLink.innerHTML = docLinkHtml;\n",
              "          element.appendChild(docLink);\n",
              "        }\n",
              "      </script>\n",
              "    </div>\n",
              "  </div>\n",
              "  "
            ],
            "text/plain": [
              "       NOTA_MEDIA_ESCOLA  TAXA_DE_APROVACAO  TAXA_DE_PARTICIPACAO\n",
              "count        1685.000000        1683.000000           1685.000000\n",
              "mean          575.391745          86.044444             75.263669\n",
              "std            40.796223          10.334011             16.886193\n",
              "min           487.007141          47.700000             50.000000\n",
              "25%           544.937500          79.500000             59.615387\n",
              "50%           561.520752          87.800000             72.916672\n",
              "75%           607.530579          94.550000             92.857140\n",
              "max           713.629028         100.000000            100.000000"
            ]
          },
          "metadata": {},
          "execution_count": 31
        }
      ]
    },
    {
      "cell_type": "markdown",
      "metadata": {
        "id": "rGEHgaEBQGis"
      },
      "source": [
        "## Exercício 01"
      ]
    },
    {
      "cell_type": "markdown",
      "metadata": {
        "id": "SjLpnwC19vcV"
      },
      "source": [
        "Altere a função a baixo para retornar o intervalo de confiança para a média da variável 'NOTA_MEDIA_ESCOLA' para escolas com 'DEPENDENCIA_ADMINISTRATIVA' == Estadual.\n",
        "\n",
        "Nível de confiança: 99%\n",
        "\n",
        "**Lembrete**: será necessário aplicar os conhecimentos de pandas do módulo anterior para filtrar o DataFrame selecionando apenas os casos de interesse."
      ]
    },
    {
      "cell_type": "code",
      "metadata": {
        "id": "7nAXnIpk6tPr"
      },
      "source": [
        "def CI(array):\n",
        "  # Retorne uma tupla com os limites inferior e superior do intervalo de confiança, respectivamente\n",
        "  # return (LI, LS)\n",
        "  exc1Data = data[data['DEPENDENCIA_ADMINISTRATIVA']=='Estadual']\n",
        "  interval = ss.norm.interval(alpha=0.99, loc=np.mean(exc1Data['NOTA_MEDIA_ESCOLA']), scale=ss.sem(exc1Data['NOTA_MEDIA_ESCOLA']))\n",
        "\n",
        "  return interval"
      ],
      "execution_count": null,
      "outputs": []
    },
    {
      "cell_type": "markdown",
      "metadata": {
        "id": "tpE-OB2A-eI5"
      },
      "source": [
        "Carregando os módulos de testes!"
      ]
    },
    {
      "cell_type": "code",
      "metadata": {
        "id": "Eynd-EnyNkuq"
      },
      "source": [
        "from numpy.testing import assert_almost_equal\n",
        "from numpy.testing import assert_equal\n",
        "\n",
        "from numpy.testing import assert_array_almost_equal\n",
        "from numpy.testing import assert_array_equal"
      ],
      "execution_count": null,
      "outputs": []
    },
    {
      "cell_type": "markdown",
      "metadata": {
        "id": "7GjnqG_DRRX2"
      },
      "source": [
        "Nosso teste"
      ]
    },
    {
      "cell_type": "code",
      "metadata": {
        "id": "fB3QNl7iRRX2"
      },
      "source": [
        "(LI, LS) = CI(data)\n",
        "\n",
        "assert_equal(548.13, LI.round(2))\n",
        "assert_equal(551.09, LS.round(2))"
      ],
      "execution_count": null,
      "outputs": []
    },
    {
      "cell_type": "markdown",
      "metadata": {
        "id": "ZoqeIRs6tAeJ"
      },
      "source": [
        "## Exercício 02 (Sem correção automática)"
      ]
    },
    {
      "cell_type": "markdown",
      "metadata": {
        "id": "AoNoA0HQzGI9"
      },
      "source": [
        "Plote uma CDF da coluna 'TAXA_DE_APROVACAO'.\n",
        "\n",
        "**Use o statsmodels e crie um objeto `ecdf = ECDF(...)`.**\n",
        "\n",
        "\n",
        "Esta tarefa não tem correção automática, use o gráfico abaixo para saber se acertou ou não.\n",
        "\n",
        "![](https://github.com/pedroharaujo/ICD_Docencia/blob/master/ECDF.png?raw=true)"
      ]
    },
    {
      "cell_type": "code",
      "metadata": {
        "id": "6bGem0S0zOb2"
      },
      "source": [
        "\n",
        "# codigo para importar a função ECDF\n",
        "from statsmodels.distributions.empirical_distribution import ECDF"
      ],
      "execution_count": null,
      "outputs": []
    },
    {
      "cell_type": "code",
      "metadata": {
        "id": "QWq52qQp2u3A",
        "colab": {
          "base_uri": "https://localhost:8080/",
          "height": 517
        },
        "outputId": "b39b8faf-9035-46c1-84db-0bb7737ad8fb"
      },
      "source": [
        "# YOUR CODE HERE\n",
        "\n",
        "ecdf = ECDF(data['TAXA_DE_APROVACAO'])\n",
        "\n",
        "plt.xlabel('Taxa de Aprovação (%)', fontsize=12)\n",
        "plt.ylabel('% of Total', fontsize=12)\n",
        "plt.title('Empirical CDF for TAXA_DE_APROVACAO', fontsize=14)\n",
        "\n",
        "plt.plot(ecdf.x, ecdf.y)\n",
        "plt.show()"
      ],
      "execution_count": null,
      "outputs": [
        {
          "output_type": "display_data",
          "data": {
            "image/png": "[encoded data removed]",
            "text/plain": [
              "<Figure size 720x576 with 1 Axes>"
            ]
          },
          "metadata": {
            "needs_background": "light"
          }
        }
      ]
    },
    {
      "cell_type": "markdown",
      "metadata": {
        "id": "FLwdrfiTCqo9"
      },
      "source": [
        "## Bootstrap"
      ]
    },
    {
      "cell_type": "markdown",
      "metadata": {
        "id": "6VmU_-Q2qAmo"
      },
      "source": [
        "Quando falamos em bootstrap deve-se ter em mente que estamos falando de amostragem com reposição.\n",
        "\n",
        "De maneira simplista, utilizamos bootstrap quando queremos construir um intervalo de confiança para uma variável e dispomos de poucos dados. Ao realizarmos várias sub-amostras **com reposição**, a lei dos grandes números nos garante que estamos aproximando a população de interesse.\n",
        "\n",
        "Note o destaque para o termo com reposição. É CRUCIAL que as sub-amostras sejam feitas com reposição. Só assim garantimos a aleatoriedade!\n",
        "\n",
        "Veja o exemplo abaixo."
      ]
    },
    {
      "cell_type": "code",
      "metadata": {
        "id": "HusB0hXVAXHD",
        "colab": {
          "base_uri": "https://localhost:8080/"
        },
        "outputId": "9897cd5a-2a49-487c-b095-00ba65f15e79"
      },
      "source": [
        "col = 'TAXA_DE_PARTICIPACAO'\n",
        "n_sub = 10000 #numero de sub-amostras\n",
        "size = len(data) #tamanho do dataframe\n",
        "values = np.zeros(n_sub)\n",
        "\n",
        "def bootstrap(n_sub, size, col):\n",
        "  for i in range(n_sub):\n",
        "    # replace=TRUE garanta amostras com reposição\n",
        "    # random_state=i garante replicabilidade do experimento\n",
        "    sample = data.sample(size, replace=True, random_state=i) \n",
        "    \n",
        "    # Lembre que podemos utilizar mediana, média ou qualquer outra estatística agregada\n",
        "    # values[i] = sample[col].median()\n",
        "    values[i] = sample[col].mean()\n",
        "  \n",
        "  # Gerando valores inferior e superior para um nível de confiança de 95%\n",
        "  LI = np.percentile(values, 2.5)\n",
        "  LS = np.percentile(values, 97.5)\n",
        "  return values, LI, LS\n",
        "\n",
        "values, LI, LS = bootstrap(n_sub, size, col)\n",
        "print('Intervalo de Confianca: [{}, {}]'.format(LI.round(4), LS.round(4)))"
      ],
      "execution_count": null,
      "outputs": [
        {
          "output_type": "stream",
          "name": "stdout",
          "text": [
            "Intervalo de Confianca: [74.4523, 76.0718]\n"
          ]
        }
      ]
    },
    {
      "cell_type": "markdown",
      "metadata": {
        "id": "Nh2ftLwCuA-0"
      },
      "source": [
        "## Exercício 03"
      ]
    },
    {
      "cell_type": "markdown",
      "metadata": {
        "id": "snm4iPdYtf-l"
      },
      "source": [
        "Realizando um groupy pela coluna 'DEPENDENCIA_ADMINISTRATIVA' conseguimos observar para quais casos vale a pena utilizarmos bootstrap."
      ]
    },
    {
      "cell_type": "code",
      "metadata": {
        "colab": {
          "base_uri": "https://localhost:8080/",
          "height": 206
        },
        "id": "lecmZMWcpIkl",
        "outputId": "12acac21-75bd-4a2f-c806-4e57a5105636"
      },
      "source": [
        "data.groupby('DEPENDENCIA_ADMINISTRATIVA').count()"
      ],
      "execution_count": null,
      "outputs": [
        {
          "output_type": "execute_result",
          "data": {
            "text/html": [
              "\n",
              "  <div id=\"df-7434f412-a33b-4142-ba30-603cc272da4e\">\n",
              "    <div class=\"colab-df-container\">\n",
              "      <div>\n",
              "<style scoped>\n",
              "    .dataframe tbody tr th:only-of-type {\n",
              "        vertical-align: middle;\n",
              "    }\n",
              "\n",
              "    .dataframe tbody tr th {\n",
              "        vertical-align: top;\n",
              "    }\n",
              "\n",
              "    .dataframe thead th {\n",
              "        text-align: right;\n",
              "    }\n",
              "</style>\n",
              "<table border=\"1\" class=\"dataframe\">\n",
              "  <thead>\n",
              "    <tr style=\"text-align: right;\">\n",
              "      <th></th>\n",
              "      <th>NOTA_MEDIA_ESCOLA</th>\n",
              "      <th>TAXA_DE_APROVACAO</th>\n",
              "      <th>TAXA_DE_PARTICIPACAO</th>\n",
              "    </tr>\n",
              "    <tr>\n",
              "      <th>DEPENDENCIA_ADMINISTRATIVA</th>\n",
              "      <th></th>\n",
              "      <th></th>\n",
              "      <th></th>\n",
              "    </tr>\n",
              "  </thead>\n",
              "  <tbody>\n",
              "    <tr>\n",
              "      <th>Estadual</th>\n",
              "      <td>1054</td>\n",
              "      <td>1054</td>\n",
              "      <td>1054</td>\n",
              "    </tr>\n",
              "    <tr>\n",
              "      <th>Federal</th>\n",
              "      <td>43</td>\n",
              "      <td>42</td>\n",
              "      <td>43</td>\n",
              "    </tr>\n",
              "    <tr>\n",
              "      <th>Municipal</th>\n",
              "      <td>22</td>\n",
              "      <td>22</td>\n",
              "      <td>22</td>\n",
              "    </tr>\n",
              "    <tr>\n",
              "      <th>Privada</th>\n",
              "      <td>566</td>\n",
              "      <td>565</td>\n",
              "      <td>566</td>\n",
              "    </tr>\n",
              "  </tbody>\n",
              "</table>\n",
              "</div>\n",
              "      <button class=\"colab-df-convert\" onclick=\"convertToInteractive('df-7434f412-a33b-4142-ba30-603cc272da4e')\"\n",
              "              title=\"Convert this dataframe to an interactive table.\"\n",
              "              style=\"display:none;\">\n",
              "        \n",
              "  <svg xmlns=\"http://www.w3.org/2000/svg\" height=\"24px\"viewBox=\"0 0 24 24\"\n",
              "       width=\"24px\">\n",
              "    <path d=\"M0 0h24v24H0V0z\" fill=\"none\"/>\n",
              "    <path d=\"M18.56 5.44l.94 2.06.94-2.06 2.06-.94-2.06-.94-.94-2.06-.94 2.06-2.06.94zm-11 1L8.5 8.5l.94-2.06 2.06-.94-2.06-.94L8.5 2.5l-.94 2.06-2.06.94zm10 10l.94 2.06.94-2.06 2.06-.94-2.06-.94-.94-2.06-.94 2.06-2.06.94z\"/><path d=\"M17.41 7.96l-1.37-1.37c-.4-.4-.92-.59-1.43-.59-.52 0-1.04.2-1.43.59L10.3 9.45l-7.72 7.72c-.78.78-.78 2.05 0 2.83L4 21.41c.39.39.9.59 1.41.59.51 0 1.02-.2 1.41-.59l7.78-7.78 2.81-2.81c.8-.78.8-2.07 0-2.86zM5.41 20L4 18.59l7.72-7.72 1.47 1.35L5.41 20z\"/>\n",
              "  </svg>\n",
              "      </button>\n",
              "      \n",
              "  <style>\n",
              "    .colab-df-container {\n",
              "      display:flex;\n",
              "      flex-wrap:wrap;\n",
              "      gap: 12px;\n",
              "    }\n",
              "\n",
              "    .colab-df-convert {\n",
              "      background-color: #E8F0FE;\n",
              "      border: none;\n",
              "      border-radius: 50%;\n",
              "      cursor: pointer;\n",
              "      display: none;\n",
              "      fill: #1967D2;\n",
              "      height: 32px;\n",
              "      padding: 0 0 0 0;\n",
              "      width: 32px;\n",
              "    }\n",
              "\n",
              "    .colab-df-convert:hover {\n",
              "      background-color: #E2EBFA;\n",
              "      box-shadow: 0px 1px 2px rgba(60, 64, 67, 0.3), 0px 1px 3px 1px rgba(60, 64, 67, 0.15);\n",
              "      fill: #174EA6;\n",
              "    }\n",
              "\n",
              "    [theme=dark] .colab-df-convert {\n",
              "      background-color: #3B4455;\n",
              "      fill: #D2E3FC;\n",
              "    }\n",
              "\n",
              "    [theme=dark] .colab-df-convert:hover {\n",
              "      background-color: #434B5C;\n",
              "      box-shadow: 0px 1px 3px 1px rgba(0, 0, 0, 0.15);\n",
              "      filter: drop-shadow(0px 1px 2px rgba(0, 0, 0, 0.3));\n",
              "      fill: #FFFFFF;\n",
              "    }\n",
              "  </style>\n",
              "\n",
              "      <script>\n",
              "        const buttonEl =\n",
              "          document.querySelector('#df-7434f412-a33b-4142-ba30-603cc272da4e button.colab-df-convert');\n",
              "        buttonEl.style.display =\n",
              "          google.colab.kernel.accessAllowed ? 'block' : 'none';\n",
              "\n",
              "        async function convertToInteractive(key) {\n",
              "          const element = document.querySelector('#df-7434f412-a33b-4142-ba30-603cc272da4e');\n",
              "          const dataTable =\n",
              "            await google.colab.kernel.invokeFunction('convertToInteractive',\n",
              "                                                     [key], {});\n",
              "          if (!dataTable) return;\n",
              "\n",
              "          const docLinkHtml = 'Like what you see? Visit the ' +\n",
              "            '<a target=\"_blank\" href=https://colab.research.google.com/notebooks/data_table.ipynb>data table notebook</a>'\n",
              "            + ' to learn more about interactive tables.';\n",
              "          element.innerHTML = '';\n",
              "          dataTable['output_type'] = 'display_data';\n",
              "          await google.colab.output.renderOutput(dataTable, element);\n",
              "          const docLink = document.createElement('div');\n",
              "          docLink.innerHTML = docLinkHtml;\n",
              "          element.appendChild(docLink);\n",
              "        }\n",
              "      </script>\n",
              "    </div>\n",
              "  </div>\n",
              "  "
            ],
            "text/plain": [
              "                            NOTA_MEDIA_ESCOLA  ...  TAXA_DE_PARTICIPACAO\n",
              "DEPENDENCIA_ADMINISTRATIVA                     ...                      \n",
              "Estadual                                 1054  ...                  1054\n",
              "Federal                                    43  ...                    43\n",
              "Municipal                                  22  ...                    22\n",
              "Privada                                   566  ...                   566\n",
              "\n",
              "[4 rows x 3 columns]"
            ]
          },
          "metadata": {},
          "execution_count": 38
        }
      ]
    },
    {
      "cell_type": "markdown",
      "metadata": {
        "id": "cMQteG5et_wj"
      },
      "source": [
        "**A)** Na função abaixo, retorne o número da opção que indica para quais 'DEPENDENCIAS_ADMINISTRATIVAS' é aconselhado utilizar Bootstrap para construção do intervalo de confiança:\n",
        "\n",
        "- 1) Estadual e Federal.\n",
        "- 2) Estadual e Municipal.\n",
        "- 3) Estadual e Privada.\n",
        "- 4) Federal e Municipal.\n",
        "- 5) Federal e Privada.\n",
        "- 6) Municipal e Privada."
      ]
    },
    {
      "cell_type": "code",
      "metadata": {
        "id": "VKRjH8ZxpPdv"
      },
      "source": [
        "def resposta():\n",
        "  # Escolha uma das opções acima\n",
        "  # return 1 ou 2 ou 3 ou 4 ou 5 ou 6\n",
        "  # Escreva sua resposta abaixo: Federal ou Municipal pois são as que possui menos dados\n",
        "  # YOUR CODE HERE\n",
        "  return 4"
      ],
      "execution_count": null,
      "outputs": []
    },
    {
      "cell_type": "code",
      "metadata": {
        "id": "C0po63eTvz5k"
      },
      "source": [
        "assert_equal(4, resposta())"
      ],
      "execution_count": null,
      "outputs": []
    },
    {
      "cell_type": "markdown",
      "metadata": {
        "id": "Yfd0Qm3xw4wL"
      },
      "source": [
        "**B)** Construa um intervalo de confiança via Bootstrap para a média da variável 'NOTA_MEDIA_ESCOLA' para escolas de 'DEPENDENCIA_ADMINISTRATIVA' **Federal**. Você deve utilizar 5000 amostras e nível de confiança de 90%.\n",
        "\n",
        "*Nota*: você deve utilizar o argumento random_state=i na função data.sample, como no exemplo inicial da seção de Bootstrap."
      ]
    },
    {
      "cell_type": "code",
      "metadata": {
        "id": "eHLyqTxd0u6g"
      },
      "source": [
        "def bootstrap_mean(n_sub, alpha, dependencia='Federal'):\n",
        "  # Retorne um vetor com os valores obtidos.\n",
        "  # Retorne tambem uma tupla com os limites inferiores e superiores do IC construído.\n",
        "  # Exemplo:\n",
        "  # return values, (LI, LS)\n",
        "\n",
        "  exc3Data = data[data['DEPENDENCIA_ADMINISTRATIVA']==dependencia]\n",
        "  size = len(exc3Data)\n",
        "  values = np.zeros(n_sub)\n",
        "\n",
        "  for i in range(n_sub):\n",
        "    sample = exc3Data.sample(size, replace=True, random_state=i) \n",
        "    values[i] = sample['NOTA_MEDIA_ESCOLA'].mean()\n",
        "\n",
        "  LI = np.percentile(values, 100*((1-alpha)/2))\n",
        "  LS = np.percentile(values, 100*(alpha+ (1-alpha)/2))\n",
        "  \n",
        "  return values, (LI, LS)"
      ],
      "execution_count": null,
      "outputs": []
    },
    {
      "cell_type": "code",
      "metadata": {
        "id": "-C0BkpeW1QlF",
        "colab": {
          "base_uri": "https://localhost:8080/"
        },
        "outputId": "aff8a025-5e92-4ccf-abc2-0b70ead8c68b"
      },
      "source": [
        "values, (LI, LS) = bootstrap_mean(n_sub=5000, alpha=0.9)\n",
        "\n",
        "assert_equal(622.03, LI.round(2))\n",
        "assert_equal(635.43, LS.round(2))"
      ],
      "execution_count": null,
      "outputs": [
        {
          "output_type": "stream",
          "name": "stdout",
          "text": [
            "15.81624705296531\n"
          ]
        }
      ]
    },
    {
      "cell_type": "markdown",
      "metadata": {
        "id": "jQltzed7WC_7"
      },
      "source": [
        "## Exercício 04"
      ]
    },
    {
      "cell_type": "markdown",
      "metadata": {
        "id": "qZq7arokWPb4"
      },
      "source": [
        "Altere a função abaixo para que retorne a 'DEPENDENCIA_ADMINISTRATIVA' (Federal, Estadual, Municipal ou Privada) cujo intervalo de confiança para *mediana* via *bootstrap* para a variável 'TAXA_DE_PARTICIPACAO' apresente maior amplitude (LS-LI), e qual esse valor. \n",
        "\n",
        "Utilize:\n",
        "- 95% como nível de confiança.\n",
        "- 5000 como número de sub-amostras."
      ]
    },
    {
      "cell_type": "code",
      "metadata": {
        "id": "Ztgw_idYZnQ3"
      },
      "source": [
        "def bootstrap_median(n_sub, alpha, dependencia):\n",
        "\n",
        "  exc4Data = data[data['DEPENDENCIA_ADMINISTRATIVA']==dependencia]\n",
        "  size = len(exc4Data)\n",
        "  values = np.zeros(n_sub)\n",
        "\n",
        "  for i in range(n_sub):\n",
        "    sample = exc4Data.sample(size, replace=True, random_state=i) \n",
        "    values[i] = sample['TAXA_DE_PARTICIPACAO'].median()\n",
        "\n",
        "  LI = np.percentile(values, 100*((1-alpha)/2))\n",
        "  LS = np.percentile(values, 100*(alpha+ (1-alpha)/2))\n",
        "  \n",
        "  return LS-LI\n",
        "\n",
        "\n",
        "def ci_amplitude():\n",
        "  amp = []\n",
        "\n",
        "  amp.append(('Federal', bootstrap_median(n_sub=5000, alpha=0.95, dependencia='Federal')))\n",
        "  amp.append(('Estadual', bootstrap_median(n_sub=5000, alpha=0.95, dependencia='Estadual')))\n",
        "  amp.append(('Municipal', bootstrap_median(n_sub=5000, alpha=0.95, dependencia='Municipal')))\n",
        "  amp.append(('Privada', bootstrap_median(n_sub=5000, alpha=0.95, dependencia='Privada')))\n",
        "\n",
        "  amp.sort(key=lambda tup: tup[1], reverse=True)\n",
        "\n",
        "  return amp[0]"
      ],
      "execution_count": null,
      "outputs": []
    },
    {
      "cell_type": "code",
      "metadata": {
        "id": "iSM60rO4ZEPs"
      },
      "source": [
        "(dep, amp) = ci_amplitude()\n",
        "assert_equal(dep, 'Municipal')\n",
        "assert_equal(amp.round(2), 11.09)"
      ],
      "execution_count": null,
      "outputs": []
    }
  ]
}
