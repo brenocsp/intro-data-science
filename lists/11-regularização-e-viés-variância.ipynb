{
  "nbformat": 4,
  "nbformat_minor": 0,
  "metadata": {
    "kernelspec": {
      "display_name": "Python 3",
      "language": "python",
      "name": "python3"
    },
    "language_info": {
      "codemirror_mode": {
        "name": "ipython",
        "version": 3
      },
      "file_extension": ".py",
      "mimetype": "text/x-python",
      "name": "python",
      "nbconvert_exporter": "python",
      "pygments_lexer": "ipython3",
      "version": "3.6.5"
    },
    "colab": {
      "name": "Lista 11 - Regularização e Viés Variância.ipynb",
      "provenance": [],
      "collapsed_sections": [],
      "toc_visible": true,
      "include_colab_link": true
    }
  },
  "cells": [
    {
      "cell_type": "markdown",
      "metadata": {
        "id": "view-in-github",
        "colab_type": "text"
      },
      "source": [
        "<a href=\"https://colab.research.google.com/github/brenocsp/intro-data-science/blob/main/lists/11-regulariza%C3%A7%C3%A3o-e-vi%C3%A9s-vari%C3%A2ncia.ipynb\" target=\"_parent\"><img src=\"https://colab.research.google.com/assets/colab-badge.svg\" alt=\"Open In Colab\"/></a>"
      ]
    },
    {
      "cell_type": "code",
      "metadata": {
        "id": "kus2gWWteT65"
      },
      "source": [
        "# -*- coding: utf8\n",
        "\n",
        "from scipy import stats as ss\n",
        "\n",
        "import matplotlib.pyplot as plt\n",
        "import numpy as np\n",
        "import pandas as pd\n",
        "import seaborn as sns\n",
        "\n",
        "plt.rcParams['figure.figsize']  = (18, 10)\n",
        "plt.rcParams['axes.labelsize']  = 20\n",
        "plt.rcParams['axes.titlesize']  = 20\n",
        "plt.rcParams['legend.fontsize'] = 20\n",
        "plt.rcParams['xtick.labelsize'] = 20\n",
        "plt.rcParams['ytick.labelsize'] = 20\n",
        "plt.rcParams['lines.linewidth'] = 4"
      ],
      "execution_count": null,
      "outputs": []
    },
    {
      "cell_type": "code",
      "metadata": {
        "id": "eQfmdIR8eT7O"
      },
      "source": [
        "plt.ion()\n",
        "plt.style.use('seaborn-colorblind')\n",
        "plt.rcParams['figure.figsize']  = (12, 8)"
      ],
      "execution_count": null,
      "outputs": []
    },
    {
      "cell_type": "code",
      "metadata": {
        "id": "sv3zBgHWeT7d"
      },
      "source": [
        "def despine(ax=None):\n",
        "    if ax is None:\n",
        "        ax = plt.gca()\n",
        "    # Hide the right and top spines\n",
        "    ax.spines['right'].set_visible(False)\n",
        "    ax.spines['top'].set_visible(False)\n",
        "\n",
        "    # Only show ticks on the left and bottom spines\n",
        "    ax.yaxis.set_ticks_position('left')\n",
        "    ax.xaxis.set_ticks_position('bottom')"
      ],
      "execution_count": null,
      "outputs": []
    },
    {
      "cell_type": "markdown",
      "metadata": {
        "id": "3trwdCEfeT7r"
      },
      "source": [
        "# Aula 5 - Regularização e Viés-Variância\n",
        "\n",
        "Nesta aula, iremos adicionar o conceito de regularização aos nossos modelos. Vamos continuar nosso foco nos dados de preços de apartamentos em BH e utilizar o modelo de regressão múltipla visto na Aula 4.\n",
        "\n"
      ]
    },
    {
      "cell_type": "markdown",
      "metadata": {
        "id": "9mDQn3SMMcD4"
      },
      "source": [
        "## Relembrando a Aula 4"
      ]
    },
    {
      "cell_type": "markdown",
      "metadata": {
        "id": "Es0vO2zWMZ4J"
      },
      "source": [
        "### Dados\n",
        "\n",
        "Relembrando, temos 4 possíveis preditores de preço:\n",
        "1. Área\n",
        "1. Quartos\n",
        "1. Suítes\n",
        "1. Vagas"
      ]
    },
    {
      "cell_type": "code",
      "metadata": {
        "id": "_JruAGN5eT7t",
        "colab": {
          "base_uri": "https://localhost:8080/",
          "height": 206
        },
        "outputId": "3bbcc183-4006-4cbb-84e1-d619609a880b"
      },
      "source": [
        "df = pd.read_csv('https://raw.githubusercontent.com/icd-ufmg/material/master/'\\\n",
        "                 'aulas/19-Multipla/aptosBH.txt', index_col=0)\n",
        "df.reset_index(inplace=True)\n",
        "df.head()"
      ],
      "execution_count": null,
      "outputs": [
        {
          "output_type": "execute_result",
          "data": {
            "text/html": [
              "\n",
              "  <div id=\"df-893d2c50-3f54-43d4-8ef5-f6d46cd8a11a\">\n",
              "    <div class=\"colab-df-container\">\n",
              "      <div>\n",
              "<style scoped>\n",
              "    .dataframe tbody tr th:only-of-type {\n",
              "        vertical-align: middle;\n",
              "    }\n",
              "\n",
              "    .dataframe tbody tr th {\n",
              "        vertical-align: top;\n",
              "    }\n",
              "\n",
              "    .dataframe thead th {\n",
              "        text-align: right;\n",
              "    }\n",
              "</style>\n",
              "<table border=\"1\" class=\"dataframe\">\n",
              "  <thead>\n",
              "    <tr style=\"text-align: right;\">\n",
              "      <th></th>\n",
              "      <th>ID</th>\n",
              "      <th>area</th>\n",
              "      <th>quartos</th>\n",
              "      <th>suites</th>\n",
              "      <th>vagas</th>\n",
              "      <th>preco</th>\n",
              "    </tr>\n",
              "  </thead>\n",
              "  <tbody>\n",
              "    <tr>\n",
              "      <th>0</th>\n",
              "      <td>353534.0</td>\n",
              "      <td>110.00</td>\n",
              "      <td>3.0</td>\n",
              "      <td>1.0</td>\n",
              "      <td>2.0</td>\n",
              "      <td>880000.0</td>\n",
              "    </tr>\n",
              "    <tr>\n",
              "      <th>1</th>\n",
              "      <td>366113.0</td>\n",
              "      <td>101.89</td>\n",
              "      <td>3.0</td>\n",
              "      <td>1.0</td>\n",
              "      <td>4.0</td>\n",
              "      <td>900000.0</td>\n",
              "    </tr>\n",
              "    <tr>\n",
              "      <th>2</th>\n",
              "      <td>186728.0</td>\n",
              "      <td>191.00</td>\n",
              "      <td>3.0</td>\n",
              "      <td>1.0</td>\n",
              "      <td>3.0</td>\n",
              "      <td>920000.0</td>\n",
              "    </tr>\n",
              "    <tr>\n",
              "      <th>3</th>\n",
              "      <td>366115.0</td>\n",
              "      <td>101.89</td>\n",
              "      <td>3.0</td>\n",
              "      <td>1.0</td>\n",
              "      <td>4.0</td>\n",
              "      <td>950000.0</td>\n",
              "    </tr>\n",
              "    <tr>\n",
              "      <th>4</th>\n",
              "      <td>353022.0</td>\n",
              "      <td>280.61</td>\n",
              "      <td>3.0</td>\n",
              "      <td>1.0</td>\n",
              "      <td>4.0</td>\n",
              "      <td>1000000.0</td>\n",
              "    </tr>\n",
              "  </tbody>\n",
              "</table>\n",
              "</div>\n",
              "      <button class=\"colab-df-convert\" onclick=\"convertToInteractive('df-893d2c50-3f54-43d4-8ef5-f6d46cd8a11a')\"\n",
              "              title=\"Convert this dataframe to an interactive table.\"\n",
              "              style=\"display:none;\">\n",
              "        \n",
              "  <svg xmlns=\"http://www.w3.org/2000/svg\" height=\"24px\"viewBox=\"0 0 24 24\"\n",
              "       width=\"24px\">\n",
              "    <path d=\"M0 0h24v24H0V0z\" fill=\"none\"/>\n",
              "    <path d=\"M18.56 5.44l.94 2.06.94-2.06 2.06-.94-2.06-.94-.94-2.06-.94 2.06-2.06.94zm-11 1L8.5 8.5l.94-2.06 2.06-.94-2.06-.94L8.5 2.5l-.94 2.06-2.06.94zm10 10l.94 2.06.94-2.06 2.06-.94-2.06-.94-.94-2.06-.94 2.06-2.06.94z\"/><path d=\"M17.41 7.96l-1.37-1.37c-.4-.4-.92-.59-1.43-.59-.52 0-1.04.2-1.43.59L10.3 9.45l-7.72 7.72c-.78.78-.78 2.05 0 2.83L4 21.41c.39.39.9.59 1.41.59.51 0 1.02-.2 1.41-.59l7.78-7.78 2.81-2.81c.8-.78.8-2.07 0-2.86zM5.41 20L4 18.59l7.72-7.72 1.47 1.35L5.41 20z\"/>\n",
              "  </svg>\n",
              "      </button>\n",
              "      \n",
              "  <style>\n",
              "    .colab-df-container {\n",
              "      display:flex;\n",
              "      flex-wrap:wrap;\n",
              "      gap: 12px;\n",
              "    }\n",
              "\n",
              "    .colab-df-convert {\n",
              "      background-color: #E8F0FE;\n",
              "      border: none;\n",
              "      border-radius: 50%;\n",
              "      cursor: pointer;\n",
              "      display: none;\n",
              "      fill: #1967D2;\n",
              "      height: 32px;\n",
              "      padding: 0 0 0 0;\n",
              "      width: 32px;\n",
              "    }\n",
              "\n",
              "    .colab-df-convert:hover {\n",
              "      background-color: #E2EBFA;\n",
              "      box-shadow: 0px 1px 2px rgba(60, 64, 67, 0.3), 0px 1px 3px 1px rgba(60, 64, 67, 0.15);\n",
              "      fill: #174EA6;\n",
              "    }\n",
              "\n",
              "    [theme=dark] .colab-df-convert {\n",
              "      background-color: #3B4455;\n",
              "      fill: #D2E3FC;\n",
              "    }\n",
              "\n",
              "    [theme=dark] .colab-df-convert:hover {\n",
              "      background-color: #434B5C;\n",
              "      box-shadow: 0px 1px 3px 1px rgba(0, 0, 0, 0.15);\n",
              "      filter: drop-shadow(0px 1px 2px rgba(0, 0, 0, 0.3));\n",
              "      fill: #FFFFFF;\n",
              "    }\n",
              "  </style>\n",
              "\n",
              "      <script>\n",
              "        const buttonEl =\n",
              "          document.querySelector('#df-893d2c50-3f54-43d4-8ef5-f6d46cd8a11a button.colab-df-convert');\n",
              "        buttonEl.style.display =\n",
              "          google.colab.kernel.accessAllowed ? 'block' : 'none';\n",
              "\n",
              "        async function convertToInteractive(key) {\n",
              "          const element = document.querySelector('#df-893d2c50-3f54-43d4-8ef5-f6d46cd8a11a');\n",
              "          const dataTable =\n",
              "            await google.colab.kernel.invokeFunction('convertToInteractive',\n",
              "                                                     [key], {});\n",
              "          if (!dataTable) return;\n",
              "\n",
              "          const docLinkHtml = 'Like what you see? Visit the ' +\n",
              "            '<a target=\"_blank\" href=https://colab.research.google.com/notebooks/data_table.ipynb>data table notebook</a>'\n",
              "            + ' to learn more about interactive tables.';\n",
              "          element.innerHTML = '';\n",
              "          dataTable['output_type'] = 'display_data';\n",
              "          await google.colab.output.renderOutput(dataTable, element);\n",
              "          const docLink = document.createElement('div');\n",
              "          docLink.innerHTML = docLinkHtml;\n",
              "          element.appendChild(docLink);\n",
              "        }\n",
              "      </script>\n",
              "    </div>\n",
              "  </div>\n",
              "  "
            ],
            "text/plain": [
              "         ID    area  quartos  suites  vagas      preco\n",
              "0  353534.0  110.00      3.0     1.0    2.0   880000.0\n",
              "1  366113.0  101.89      3.0     1.0    4.0   900000.0\n",
              "2  186728.0  191.00      3.0     1.0    3.0   920000.0\n",
              "3  366115.0  101.89      3.0     1.0    4.0   950000.0\n",
              "4  353022.0  280.61      3.0     1.0    4.0  1000000.0"
            ]
          },
          "metadata": {},
          "execution_count": 128
        }
      ]
    },
    {
      "cell_type": "markdown",
      "metadata": {
        "id": "VeyhSMqReT76"
      },
      "source": [
        "Cada preditor é correlacionado com o preço de alguma forma. No pairplot abaixo, observe a última coluna, onde cada linha corresponde a um preditor."
      ]
    },
    {
      "cell_type": "code",
      "metadata": {
        "id": "iL24Yj9AeT78",
        "colab": {
          "base_uri": "https://localhost:8080/",
          "height": 1000
        },
        "outputId": "0c9e765b-63c0-4097-99d0-43fbcc6e91db"
      },
      "source": [
        "sns.pairplot(df, diag_kws={'edgecolor':'k'}, plot_kws={'alpha':0.5, 'edgecolor':'k'})"
      ],
      "execution_count": null,
      "outputs": [
        {
          "output_type": "execute_result",
          "data": {
            "text/plain": [
              "<seaborn.axisgrid.PairGrid at 0x7f17410c2c10>"
            ]
          },
          "metadata": {},
          "execution_count": 129
        },
        {
          "output_type": "display_data",
          "data": {
            "image/png": "[encoded data removed]",
            "text/plain": [
              "<Figure size 1080x1080 with 42 Axes>"
            ]
          },
          "metadata": {
            "needs_background": "light"
          }
        }
      ]
    },
    {
      "cell_type": "markdown",
      "metadata": {
        "id": "fJSena36eT8H"
      },
      "source": [
        "### Regressão Múltipla\n",
        "\n",
        "Para realizar uma regressão múltipla, vamos representar nossos dados na forma matricial. Sendo `n` o número de linhas nos nossos dados (observações) e `f` o número de colunas (features/atríbutos). Os dados podem ser vistos como a matriz abaixo:\n",
        "\n",
        "$$\n",
        "\\mathbf{X} = \\begin{pmatrix}\\mathbf {x} _{1}^{\\mathsf {T}}\\\\\\mathbf {x} _{2}^{\\mathsf {T}}\\\\\\vdots \\\\\\mathbf {x} _{n}^{\\mathsf {T}}\\end{pmatrix} =\\begin{pmatrix}1&x_{11}&\\cdots &x_{1f}\\\\1&x_{21}&\\cdots &x_{2f}\\\\\\vdots &\\vdots &\\ddots &\\vdots \\\\1&x_{n1}&\\cdots &x_{nf}\\end{pmatrix}\n",
        "$$\n",
        "\n",
        "Observe como a primeira coluna é toda `1`. A mesma vai capturar o fator constante, intercepto, da regressão linear. O nosso modelo é capturado pela equação abaixo:\n",
        "\n",
        "$$y_i = \\theta_0 x_{i0} + \\theta_1 x_{i1}^{1} + \\theta_2 x_{i2}^{2} + \\cdots + \\theta_f x_{if}^{f} + \\epsilon_i$$\n",
        "\n",
        "Aqui, $x_{i0} = 1$ sempre (por isso usamos uma coluna de 1s). Dessa forma, obtemos a equação:\n",
        "\n",
        "$$y_i = \\theta_0 + \\theta_1 x_{i1}^{1} + \\theta_2 x_{i2}^{2} + \\cdots + \\theta_f x_{if}^{f} + \\epsilon_i$$"
      ]
    },
    {
      "cell_type": "markdown",
      "metadata": {
        "id": "mwS5ZsREeT8I"
      },
      "source": [
        "Vamos organizar uma matriz de fatores explanatórios X usando pandas."
      ]
    },
    {
      "cell_type": "code",
      "metadata": {
        "id": "h36dpy9PeT8M",
        "colab": {
          "base_uri": "https://localhost:8080/",
          "height": 206
        },
        "outputId": "391b8c36-5c0e-4c51-87b5-cd267204299e"
      },
      "source": [
        "df['intercepto'] = 1\n",
        "y = df['preco']\n",
        "X = df[['intercepto', 'area', 'quartos', 'suites', 'vagas']]\n",
        "X.head()"
      ],
      "execution_count": null,
      "outputs": [
        {
          "output_type": "execute_result",
          "data": {
            "text/html": [
              "\n",
              "  <div id=\"df-6788c330-6418-476a-bcbc-4fc45384c2a8\">\n",
              "    <div class=\"colab-df-container\">\n",
              "      <div>\n",
              "<style scoped>\n",
              "    .dataframe tbody tr th:only-of-type {\n",
              "        vertical-align: middle;\n",
              "    }\n",
              "\n",
              "    .dataframe tbody tr th {\n",
              "        vertical-align: top;\n",
              "    }\n",
              "\n",
              "    .dataframe thead th {\n",
              "        text-align: right;\n",
              "    }\n",
              "</style>\n",
              "<table border=\"1\" class=\"dataframe\">\n",
              "  <thead>\n",
              "    <tr style=\"text-align: right;\">\n",
              "      <th></th>\n",
              "      <th>intercepto</th>\n",
              "      <th>area</th>\n",
              "      <th>quartos</th>\n",
              "      <th>suites</th>\n",
              "      <th>vagas</th>\n",
              "    </tr>\n",
              "  </thead>\n",
              "  <tbody>\n",
              "    <tr>\n",
              "      <th>0</th>\n",
              "      <td>1</td>\n",
              "      <td>110.00</td>\n",
              "      <td>3.0</td>\n",
              "      <td>1.0</td>\n",
              "      <td>2.0</td>\n",
              "    </tr>\n",
              "    <tr>\n",
              "      <th>1</th>\n",
              "      <td>1</td>\n",
              "      <td>101.89</td>\n",
              "      <td>3.0</td>\n",
              "      <td>1.0</td>\n",
              "      <td>4.0</td>\n",
              "    </tr>\n",
              "    <tr>\n",
              "      <th>2</th>\n",
              "      <td>1</td>\n",
              "      <td>191.00</td>\n",
              "      <td>3.0</td>\n",
              "      <td>1.0</td>\n",
              "      <td>3.0</td>\n",
              "    </tr>\n",
              "    <tr>\n",
              "      <th>3</th>\n",
              "      <td>1</td>\n",
              "      <td>101.89</td>\n",
              "      <td>3.0</td>\n",
              "      <td>1.0</td>\n",
              "      <td>4.0</td>\n",
              "    </tr>\n",
              "    <tr>\n",
              "      <th>4</th>\n",
              "      <td>1</td>\n",
              "      <td>280.61</td>\n",
              "      <td>3.0</td>\n",
              "      <td>1.0</td>\n",
              "      <td>4.0</td>\n",
              "    </tr>\n",
              "  </tbody>\n",
              "</table>\n",
              "</div>\n",
              "      <button class=\"colab-df-convert\" onclick=\"convertToInteractive('df-6788c330-6418-476a-bcbc-4fc45384c2a8')\"\n",
              "              title=\"Convert this dataframe to an interactive table.\"\n",
              "              style=\"display:none;\">\n",
              "        \n",
              "  <svg xmlns=\"http://www.w3.org/2000/svg\" height=\"24px\"viewBox=\"0 0 24 24\"\n",
              "       width=\"24px\">\n",
              "    <path d=\"M0 0h24v24H0V0z\" fill=\"none\"/>\n",
              "    <path d=\"M18.56 5.44l.94 2.06.94-2.06 2.06-.94-2.06-.94-.94-2.06-.94 2.06-2.06.94zm-11 1L8.5 8.5l.94-2.06 2.06-.94-2.06-.94L8.5 2.5l-.94 2.06-2.06.94zm10 10l.94 2.06.94-2.06 2.06-.94-2.06-.94-.94-2.06-.94 2.06-2.06.94z\"/><path d=\"M17.41 7.96l-1.37-1.37c-.4-.4-.92-.59-1.43-.59-.52 0-1.04.2-1.43.59L10.3 9.45l-7.72 7.72c-.78.78-.78 2.05 0 2.83L4 21.41c.39.39.9.59 1.41.59.51 0 1.02-.2 1.41-.59l7.78-7.78 2.81-2.81c.8-.78.8-2.07 0-2.86zM5.41 20L4 18.59l7.72-7.72 1.47 1.35L5.41 20z\"/>\n",
              "  </svg>\n",
              "      </button>\n",
              "      \n",
              "  <style>\n",
              "    .colab-df-container {\n",
              "      display:flex;\n",
              "      flex-wrap:wrap;\n",
              "      gap: 12px;\n",
              "    }\n",
              "\n",
              "    .colab-df-convert {\n",
              "      background-color: #E8F0FE;\n",
              "      border: none;\n",
              "      border-radius: 50%;\n",
              "      cursor: pointer;\n",
              "      display: none;\n",
              "      fill: #1967D2;\n",
              "      height: 32px;\n",
              "      padding: 0 0 0 0;\n",
              "      width: 32px;\n",
              "    }\n",
              "\n",
              "    .colab-df-convert:hover {\n",
              "      background-color: #E2EBFA;\n",
              "      box-shadow: 0px 1px 2px rgba(60, 64, 67, 0.3), 0px 1px 3px 1px rgba(60, 64, 67, 0.15);\n",
              "      fill: #174EA6;\n",
              "    }\n",
              "\n",
              "    [theme=dark] .colab-df-convert {\n",
              "      background-color: #3B4455;\n",
              "      fill: #D2E3FC;\n",
              "    }\n",
              "\n",
              "    [theme=dark] .colab-df-convert:hover {\n",
              "      background-color: #434B5C;\n",
              "      box-shadow: 0px 1px 3px 1px rgba(0, 0, 0, 0.15);\n",
              "      filter: drop-shadow(0px 1px 2px rgba(0, 0, 0, 0.3));\n",
              "      fill: #FFFFFF;\n",
              "    }\n",
              "  </style>\n",
              "\n",
              "      <script>\n",
              "        const buttonEl =\n",
              "          document.querySelector('#df-6788c330-6418-476a-bcbc-4fc45384c2a8 button.colab-df-convert');\n",
              "        buttonEl.style.display =\n",
              "          google.colab.kernel.accessAllowed ? 'block' : 'none';\n",
              "\n",
              "        async function convertToInteractive(key) {\n",
              "          const element = document.querySelector('#df-6788c330-6418-476a-bcbc-4fc45384c2a8');\n",
              "          const dataTable =\n",
              "            await google.colab.kernel.invokeFunction('convertToInteractive',\n",
              "                                                     [key], {});\n",
              "          if (!dataTable) return;\n",
              "\n",
              "          const docLinkHtml = 'Like what you see? Visit the ' +\n",
              "            '<a target=\"_blank\" href=https://colab.research.google.com/notebooks/data_table.ipynb>data table notebook</a>'\n",
              "            + ' to learn more about interactive tables.';\n",
              "          element.innerHTML = '';\n",
              "          dataTable['output_type'] = 'display_data';\n",
              "          await google.colab.output.renderOutput(dataTable, element);\n",
              "          const docLink = document.createElement('div');\n",
              "          docLink.innerHTML = docLinkHtml;\n",
              "          element.appendChild(docLink);\n",
              "        }\n",
              "      </script>\n",
              "    </div>\n",
              "  </div>\n",
              "  "
            ],
            "text/plain": [
              "   intercepto    area  quartos  suites  vagas\n",
              "0           1  110.00      3.0     1.0    2.0\n",
              "1           1  101.89      3.0     1.0    4.0\n",
              "2           1  191.00      3.0     1.0    3.0\n",
              "3           1  101.89      3.0     1.0    4.0\n",
              "4           1  280.61      3.0     1.0    4.0"
            ]
          },
          "metadata": {},
          "execution_count": 130
        }
      ]
    },
    {
      "cell_type": "markdown",
      "metadata": {
        "id": "83LIor_IeT8Y"
      },
      "source": [
        "Temos 216 observações."
      ]
    },
    {
      "cell_type": "code",
      "metadata": {
        "id": "QiVDcLVZeT8Z",
        "colab": {
          "base_uri": "https://localhost:8080/"
        },
        "outputId": "fd9927c2-5293-49d2-f8bf-d57627b48098"
      },
      "source": [
        "y.shape"
      ],
      "execution_count": null,
      "outputs": [
        {
          "output_type": "execute_result",
          "data": {
            "text/plain": [
              "(216,)"
            ]
          },
          "metadata": {},
          "execution_count": 131
        }
      ]
    },
    {
      "cell_type": "markdown",
      "metadata": {
        "id": "HeUixdF4eT8h"
      },
      "source": [
        "5 atributos, onde um deles é o intercepto."
      ]
    },
    {
      "cell_type": "code",
      "metadata": {
        "id": "b7po7E1zeT8i",
        "colab": {
          "base_uri": "https://localhost:8080/"
        },
        "outputId": "bcfb3421-a2b7-4e7b-c4a8-2bfd0f7a2f1e"
      },
      "source": [
        "X.shape"
      ],
      "execution_count": null,
      "outputs": [
        {
          "output_type": "execute_result",
          "data": {
            "text/plain": [
              "(216, 5)"
            ]
          },
          "metadata": {},
          "execution_count": 132
        }
      ]
    },
    {
      "cell_type": "markdown",
      "metadata": {
        "id": "jLLhrruDeT8u"
      },
      "source": [
        "X.values retorna a matriz."
      ]
    },
    {
      "cell_type": "code",
      "metadata": {
        "id": "woc2IDjxeT8w",
        "colab": {
          "base_uri": "https://localhost:8080/"
        },
        "outputId": "02eb6e12-288a-4ffe-aa2a-6afe210c3642"
      },
      "source": [
        "X = X.values\n",
        "y = y.values # pegar a matriz\n",
        "X"
      ],
      "execution_count": null,
      "outputs": [
        {
          "output_type": "execute_result",
          "data": {
            "text/plain": [
              "array([[  1.  , 110.  ,   3.  ,   1.  ,   2.  ],\n",
              "       [  1.  , 101.89,   3.  ,   1.  ,   4.  ],\n",
              "       [  1.  , 191.  ,   3.  ,   1.  ,   3.  ],\n",
              "       ...,\n",
              "       [  1.  ,  70.  ,   2.  ,   2.  ,   2.  ],\n",
              "       [  1.  ,  70.  ,   2.  ,   2.  ,   2.  ],\n",
              "       [  1.  , 115.  ,   3.  ,   1.  ,   2.  ]])"
            ]
          },
          "metadata": {},
          "execution_count": 133
        }
      ]
    },
    {
      "cell_type": "markdown",
      "metadata": {
        "id": "tQlfPGtXeT9h"
      },
      "source": [
        "### Normalização dos dados\n",
        "\n",
        "A normalização dos dados pode ser útil para ajudar o gradiente. O algoritmo funciona sem tal passo, porém é mais chato definir uma taxa de aprendizado quando não temos isto e, além disso, a convergência é mais lenta.\n",
        "\n",
        "Quando as features aparecem com ordens de grandeza muito diferentes (ex: idade entre 0 a 100 e renda mensal entre  800 e 100.000 reais) a função de custo é distorcida, tornando o ponto mínimo difícil de alcançar. Sendo assim, um truque importante é garantir que todos as features estejam em uma escala similar. \n",
        "\n",
        "Abaixo normalizamos as features dos dados de preços de apartamentos em BH e, em seguida, calculamos o gradiente descendente e o gradiente descendente estocástico."
      ]
    },
    {
      "cell_type": "code",
      "metadata": {
        "id": "SnKbYmoNeT9j"
      },
      "source": [
        "df = pd.read_csv('https://raw.githubusercontent.com/icd-ufmg/material/master/'\\\n",
        "                 'aulas/19-Multipla/aptosBH.txt', index_col=0)\n",
        "z_df = (df - df.mean())/df.std()\n",
        "\n",
        "y = z_df['preco']\n",
        "X = z_df[['area', 'quartos', 'suites', 'vagas']]\n",
        "X['intercepto'] = 1\n",
        "\n",
        "X = X.values\n",
        "y = y.values"
      ],
      "execution_count": null,
      "outputs": []
    },
    {
      "cell_type": "markdown",
      "metadata": {
        "id": "TFd473aNTEsn"
      },
      "source": [
        "### Erros e Validação\n",
        "\n",
        "Ainda podemos usar o R-quadrado para avaliar a qualidade de uma regressão linear múltipla. A interpretação permanece a mesma: quanto da variância dos dados é capturada pelo modelo."
      ]
    },
    {
      "cell_type": "code",
      "metadata": {
        "id": "U_Q1jWHTTNlJ"
      },
      "source": [
        "def erro(X, y, theta):\n",
        "    return y - X@theta\n",
        "\n",
        "def multiple_r_squared(X, y, theta):\n",
        "    sse = sum(erro(X, y, theta)**2)\n",
        "    sst = sum((y - np.mean(y))**2)\n",
        "    return 1.0 - sse / sst"
      ],
      "execution_count": null,
      "outputs": []
    },
    {
      "cell_type": "markdown",
      "metadata": {
        "id": "esMZfwr1eT9P"
      },
      "source": [
        "## Gradiente Descendente com Regularização L2\n",
        "\n",
        "Vamos retomar a implementação do gradiente descendente da Aula 4. Após definir o modelo, a função de erro e a Jacobiana para a regressão múltipla, podemos calcular o gradiente descendente. Contudo, desta vez adicionaremos o termo de regularização L2 para tentar controlar o problema de viés-variância.\n",
        "\n"
      ]
    },
    {
      "cell_type": "markdown",
      "metadata": {
        "id": "sjIgC0u1Gthj"
      },
      "source": [
        "Como visto anteriormente, a função de perda na forma matricial é:\n",
        "\n",
        "$$L({\\boldsymbol {\\theta }}) = ||\\mathbf{y} - \\mathbf{X} {\\boldsymbol {\\theta }}||^2_2$$\n",
        "\n",
        "Adicionando a penalidade:\n",
        "\n",
        "$$L({\\boldsymbol {\\theta }}) = ||\\mathbf{y} - \\mathbf{X} {\\boldsymbol {\\theta }}||^2_2 + \\beta||{\\boldsymbol {\\theta }}||^2_2 $$"
      ]
    },
    {
      "cell_type": "markdown",
      "source": [
        "Carregando módulos de testes"
      ],
      "metadata": {
        "id": "Hxt7yNzR7Z4v"
      }
    },
    {
      "cell_type": "code",
      "source": [
        "from numpy.testing import assert_almost_equal\n",
        "from numpy.testing import assert_equal\n",
        "\n",
        "from numpy.testing import assert_array_almost_equal\n",
        "from numpy.testing import assert_array_equal"
      ],
      "metadata": {
        "id": "xOjFWMTw7cIJ"
      },
      "execution_count": null,
      "outputs": []
    },
    {
      "cell_type": "markdown",
      "metadata": {
        "id": "VNf6NkuiM4e5"
      },
      "source": [
        "#### Exercício 1\n",
        "\n",
        "Anteriormente, tínhamos a seguinte função para calcular a matriz Jacobiana:"
      ]
    },
    {
      "cell_type": "code",
      "metadata": {
        "id": "qgVKPtrOeT9F"
      },
      "source": [
        "def derivadas_regressao(theta, X, y):\n",
        "    return -2 * ((y - X @ theta) @ X)"
      ],
      "execution_count": null,
      "outputs": []
    },
    {
      "cell_type": "markdown",
      "metadata": {
        "id": "iwNcZeLPKlLY"
      },
      "source": [
        "Como podemos modificar a função `derivadas_regressao` para adicionar o termo de regularização?\n",
        "\n",
        "Dica: você provavelmente irá precisar de adicionar 1 argumento à chamada da função."
      ]
    },
    {
      "cell_type": "code",
      "metadata": {
        "id": "wbBB98N6Kf-8"
      },
      "source": [
        "# A keyword \"pass\" em python indica apenas que não temos nada \n",
        "# para executar na função.\n",
        "# Delete \"pass\" e complete a função abaixo.\n",
        "# Não se esqueça de adicionar os argumentos necessários \n",
        "# para executar a sua função.\n",
        "def derivadas_regressao_reg(theta, X, y, reg):\n",
        "    return -2 * ((y - X @ theta) @ X) + 2 * reg * theta"
      ],
      "execution_count": null,
      "outputs": []
    },
    {
      "cell_type": "markdown",
      "metadata": {
        "id": "nvEchX2gNSMv"
      },
      "source": [
        "#### Exercício 2\n",
        "\n",
        "Agora, vamos relembrar a implementação do gradiente descentende:"
      ]
    },
    {
      "cell_type": "code",
      "metadata": {
        "id": "psFVnyH8eT9R"
      },
      "source": [
        "def gd(theta, d_fun, X, y, lambda_=0.0001, tol=0.00001, max_iter=10000):\n",
        "    theta = theta.copy()\n",
        "    #print('Iter {}; theta = '.format(0), theta)\n",
        "    old_err_sq = np.inf\n",
        "    i = 0\n",
        "    while True:\n",
        "        # Computar as derivadas\n",
        "        grad = d_fun(theta, X, y)\n",
        "        # Atualizar\n",
        "        theta_novo = theta - lambda_ * grad\n",
        "        \n",
        "        # Parar quando o erro convergir\n",
        "        err_sq = ((X.dot(theta) - y) ** 2).mean()\n",
        "        if np.abs(old_err_sq - err_sq) <= tol:\n",
        "            break\n",
        "        theta = theta_novo\n",
        "        old_err_sq = err_sq\n",
        "        #print('Iter {}; theta = '.format(i+1), theta)\n",
        "        i += 1\n",
        "        if i == max_iter:\n",
        "            break\n",
        "    return theta"
      ],
      "execution_count": null,
      "outputs": []
    },
    {
      "cell_type": "markdown",
      "metadata": {
        "id": "qz2TeEr8NbUG"
      },
      "source": [
        "Novamente, como podemos modificar a função acima para adicionar o termo de regularização?\n",
        "\n",
        "Dica: você provavelmente irá precisar de adicionar 1 argumento à chamada da função."
      ]
    },
    {
      "cell_type": "code",
      "metadata": {
        "id": "J_ku9b5qPypK"
      },
      "source": [
        "def gd_reg(theta, d_fun, X, y, reg, lambda_=0.0001, tol=0.00001, max_iter=10000):\n",
        "    theta = theta.copy()\n",
        "    #print('Iter {}; theta = '.format(0), theta)\n",
        "    old_err_sq = np.inf\n",
        "    i = 0\n",
        "    while True:\n",
        "        # Computar as derivadas\n",
        "        grad = d_fun(theta, X, y, reg)\n",
        "        # Atualizar\n",
        "        theta_novo = theta - lambda_ * grad \n",
        "        \n",
        "        # Parar quando o erro convergir\n",
        "        err_sq = ((X.dot(theta) - y) ** 2).mean() + (reg * np.sum(np.square(theta)))\n",
        "        if np.abs(old_err_sq - err_sq) <= tol:\n",
        "            break\n",
        "        theta = theta_novo\n",
        "        old_err_sq = err_sq\n",
        "        #print('Iter {}; theta = '.format(i+1), theta)\n",
        "        i += 1\n",
        "        if i == max_iter:\n",
        "            break\n",
        "    return theta"
      ],
      "execution_count": null,
      "outputs": []
    },
    {
      "cell_type": "markdown",
      "metadata": {
        "id": "uAcr-nHzPzs6"
      },
      "source": [
        "### Exercício 3 (Sem correcao)\n",
        "\n",
        "Dependendo de como você fez as implementações dos exercícios acima, um pequeno erro pode passar despercebido. Você sabe apontar o problema?\n",
        "\n",
        "Dica: https://www.textbook.ds100.org/ch/16/reg_ridge.html"
      ]
    },
    {
      "cell_type": "markdown",
      "metadata": {
        "id": "KG-bNT5WeT-d"
      },
      "source": [
        "### Exercício 4\n",
        "\n",
        "Ainda considerando o exemplo da predição do preço de apartamentos em BH, calcule o valor do R-quadrado da regressão com regularização L2, utilizando $\\beta=0.1$. Compare com os resultados sem o termo de regularização.\n",
        "\n",
        "Mais um detalhe: não se esqueça de separar seus dados em treino e teste para que possamos avaliar a qualidade do nosso modelo. Você pode utilizar a função `train_test_split`, da biblioteca sklearn.\n",
        "\n",
        "```\n",
        "from sklearn.model_selection import train_test_split\n",
        "\n",
        "X_train, X_test, y_train, y_test = train_test_split(X, y, test_size=0.33, random_state=42)\n",
        "\n",
        "# test_size: porcentagem dos dados que serão utilizados para treino, valor default = 0.33\n",
        "# random_state: semente para amostragem aleatória dos conjuntos de treino e teste, valor default = 42\n",
        "```"
      ]
    },
    {
      "cell_type": "markdown",
      "metadata": {
        "id": "Dg5fBLmbRwU-"
      },
      "source": [
        "Importando os dados e dividindo em conjuntos de treino e de teste:"
      ]
    },
    {
      "cell_type": "code",
      "metadata": {
        "id": "dduUVxLhRvQ9"
      },
      "source": [
        "from sklearn.model_selection import train_test_split\n",
        "\n",
        "df = pd.read_csv('https://raw.githubusercontent.com/icd-ufmg/material/master/'\\\n",
        "                 'aulas/19-Multipla/aptosBH.txt', index_col=0)\n",
        "z_df = (df - df.mean())/df.std()\n",
        "\n",
        "y = z_df['preco']\n",
        "X = z_df[['area', 'quartos', 'suites', 'vagas']]\n",
        "X['intercepto'] = 1\n",
        "\n",
        "X = X.values\n",
        "y = y.values\n",
        "\n",
        "X_train, X_test, y_train, y_test = train_test_split(X, y, test_size=0.33, random_state=42)"
      ],
      "execution_count": null,
      "outputs": []
    },
    {
      "cell_type": "markdown",
      "metadata": {
        "id": "AqsMPYkAaOB_"
      },
      "source": [
        "#### Regressão sem regularização"
      ]
    },
    {
      "cell_type": "code",
      "metadata": {
        "id": "pjrnD0_uaL_R",
        "colab": {
          "base_uri": "https://localhost:8080/"
        },
        "outputId": "ab42049a-b3e6-4ad6-f3bb-bdc036bc7444"
      },
      "source": [
        "theta = np.ones(5)\n",
        "theta = gd(theta, derivadas_regressao, X_train, y_train)\n",
        "\n",
        "print(\"R2 em treino sem regularizacao = \", multiple_r_squared(X_train, y_train, theta))\n",
        "print(\"R2 em teste sem regularizacao = \", multiple_r_squared(X_test, y_test, theta))"
      ],
      "execution_count": null,
      "outputs": [
        {
          "output_type": "stream",
          "name": "stdout",
          "text": [
            "R2 em treino sem regularizacao =  0.7903872923299036\n",
            "R2 em teste sem regularizacao =  0.7236500429272192\n"
          ]
        }
      ]
    },
    {
      "cell_type": "code",
      "source": [
        ""
      ],
      "metadata": {
        "id": "aFOwIm4G8qkF"
      },
      "execution_count": null,
      "outputs": []
    },
    {
      "cell_type": "markdown",
      "metadata": {
        "id": "Ne__8j6MaWOM"
      },
      "source": [
        "#### Regressão com regularização L2\n",
        "\n",
        " Para $\\beta=0.1$:"
      ]
    },
    {
      "cell_type": "code",
      "metadata": {
        "id": "L6RII0RpeT-g",
        "colab": {
          "base_uri": "https://localhost:8080/",
          "height": 391
        },
        "outputId": "0a028ca6-8df3-4470-b009-0dc1f094793c"
      },
      "source": [
        "beta = 0.1\n",
        "# complete o código\n",
        "# lembre-se de usar X_train e y_train para obter os valores de theta\n",
        "theta_reg = gd_reg(theta, derivadas_regressao_reg, X_train, y_train, beta)\n",
        "\n",
        "\n",
        "# não altere as próximas linhas\n",
        "r2_train = multiple_r_squared(X_train, y_train, theta_reg)\n",
        "r2_test =  multiple_r_squared(X_test, y_test, theta_reg)\n",
        "\n",
        "assert_equal(np.round(r2_train,4), np.round(0.79,4))\n",
        "assert_equal(np.round(r2_test,4), np.round(0.722,4))"
      ],
      "execution_count": null,
      "outputs": [
        {
          "output_type": "error",
          "ename": "AssertionError",
          "evalue": "ignored",
          "traceback": [
            "\u001b[0;31m---------------------------------------------------------------------------\u001b[0m",
            "\u001b[0;31mAssertionError\u001b[0m                            Traceback (most recent call last)",
            "\u001b[0;32m<ipython-input-143-91319ed90a75>\u001b[0m in \u001b[0;36m<module>\u001b[0;34m()\u001b[0m\n\u001b[1;32m      9\u001b[0m \u001b[0mr2_test\u001b[0m \u001b[0;34m=\u001b[0m  \u001b[0mmultiple_r_squared\u001b[0m\u001b[0;34m(\u001b[0m\u001b[0mX_test\u001b[0m\u001b[0;34m,\u001b[0m \u001b[0my_test\u001b[0m\u001b[0;34m,\u001b[0m \u001b[0mtheta_reg\u001b[0m\u001b[0;34m)\u001b[0m\u001b[0;34m\u001b[0m\u001b[0;34m\u001b[0m\u001b[0m\n\u001b[1;32m     10\u001b[0m \u001b[0;34m\u001b[0m\u001b[0m\n\u001b[0;32m---> 11\u001b[0;31m \u001b[0massert_equal\u001b[0m\u001b[0;34m(\u001b[0m\u001b[0mnp\u001b[0m\u001b[0;34m.\u001b[0m\u001b[0mround\u001b[0m\u001b[0;34m(\u001b[0m\u001b[0mr2_train\u001b[0m\u001b[0;34m,\u001b[0m\u001b[0;36m4\u001b[0m\u001b[0;34m)\u001b[0m\u001b[0;34m,\u001b[0m \u001b[0mnp\u001b[0m\u001b[0;34m.\u001b[0m\u001b[0mround\u001b[0m\u001b[0;34m(\u001b[0m\u001b[0;36m0.79\u001b[0m\u001b[0;34m,\u001b[0m\u001b[0;36m4\u001b[0m\u001b[0;34m)\u001b[0m\u001b[0;34m)\u001b[0m\u001b[0;34m\u001b[0m\u001b[0;34m\u001b[0m\u001b[0m\n\u001b[0m\u001b[1;32m     12\u001b[0m \u001b[0massert_equal\u001b[0m\u001b[0;34m(\u001b[0m\u001b[0mnp\u001b[0m\u001b[0;34m.\u001b[0m\u001b[0mround\u001b[0m\u001b[0;34m(\u001b[0m\u001b[0mr2_test\u001b[0m\u001b[0;34m,\u001b[0m\u001b[0;36m4\u001b[0m\u001b[0;34m)\u001b[0m\u001b[0;34m,\u001b[0m \u001b[0mnp\u001b[0m\u001b[0;34m.\u001b[0m\u001b[0mround\u001b[0m\u001b[0;34m(\u001b[0m\u001b[0;36m0.722\u001b[0m\u001b[0;34m,\u001b[0m\u001b[0;36m4\u001b[0m\u001b[0;34m)\u001b[0m\u001b[0;34m)\u001b[0m\u001b[0;34m\u001b[0m\u001b[0;34m\u001b[0m\u001b[0m\n",
            "\u001b[0;32m/usr/local/lib/python3.7/dist-packages/numpy/testing/_private/utils.py\u001b[0m in \u001b[0;36massert_equal\u001b[0;34m(actual, desired, err_msg, verbose)\u001b[0m\n\u001b[1;32m    423\u001b[0m         \u001b[0;31m# Explicitly use __eq__ for comparison, gh-2552\u001b[0m\u001b[0;34m\u001b[0m\u001b[0;34m\u001b[0m\u001b[0;34m\u001b[0m\u001b[0m\n\u001b[1;32m    424\u001b[0m         \u001b[0;32mif\u001b[0m \u001b[0;32mnot\u001b[0m \u001b[0;34m(\u001b[0m\u001b[0mdesired\u001b[0m \u001b[0;34m==\u001b[0m \u001b[0mactual\u001b[0m\u001b[0;34m)\u001b[0m\u001b[0;34m:\u001b[0m\u001b[0;34m\u001b[0m\u001b[0;34m\u001b[0m\u001b[0m\n\u001b[0;32m--> 425\u001b[0;31m             \u001b[0;32mraise\u001b[0m \u001b[0mAssertionError\u001b[0m\u001b[0;34m(\u001b[0m\u001b[0mmsg\u001b[0m\u001b[0;34m)\u001b[0m\u001b[0;34m\u001b[0m\u001b[0;34m\u001b[0m\u001b[0m\n\u001b[0m\u001b[1;32m    426\u001b[0m \u001b[0;34m\u001b[0m\u001b[0m\n\u001b[1;32m    427\u001b[0m     \u001b[0;32mexcept\u001b[0m \u001b[0;34m(\u001b[0m\u001b[0mDeprecationWarning\u001b[0m\u001b[0;34m,\u001b[0m \u001b[0mFutureWarning\u001b[0m\u001b[0;34m)\u001b[0m \u001b[0;32mas\u001b[0m \u001b[0me\u001b[0m\u001b[0;34m:\u001b[0m\u001b[0;34m\u001b[0m\u001b[0;34m\u001b[0m\u001b[0m\n",
            "\u001b[0;31mAssertionError\u001b[0m: \nItems are not equal:\n ACTUAL: 0.7904\n DESIRED: 0.79"
          ]
        }
      ]
    },
    {
      "cell_type": "markdown",
      "metadata": {
        "id": "3vEhwqH-TzFa"
      },
      "source": [
        "Para $\\beta=0.01$:"
      ]
    },
    {
      "cell_type": "code",
      "metadata": {
        "id": "zit08bM5T5iQ"
      },
      "source": [
        "beta = 0.01\n",
        "# complete o código\n",
        "# lembre-se de usar X_train e y_train para obter os valores de theta\n",
        "\n",
        "vetor = np.array([1,1,1,1,1])\n",
        "theta_reg = gd_reg(vetor, derivadas_regressao_reg, X_train, y_train, beta)\n",
        "\n",
        "# não altere as próximas linhas\n",
        "r2_train = multiple_r_squared(X_train, y_train, theta_reg)\n",
        "r2_test =  multiple_r_squared(X_test, y_test, theta_reg)\n",
        "\n",
        "assert_equal(np.round(r2_train,4), np.round(0.7903,4))\n",
        "assert_equal(np.round(r2_test,4), np.round(0.7235,4))"
      ],
      "execution_count": null,
      "outputs": []
    },
    {
      "cell_type": "markdown",
      "metadata": {
        "id": "W2uG-QhqT6Un"
      },
      "source": [
        "Para $\\beta=1$:"
      ]
    },
    {
      "cell_type": "code",
      "metadata": {
        "id": "D3vRlZ9VUBl_"
      },
      "source": [
        "beta = 1\n",
        "# complete o código\n",
        "# lembre-se de usar X_train e y_train para obter os valores de theta\n",
        "\n",
        "vetor = np.array([1,1,1,1,1])\n",
        "theta_reg = gd_reg(vetor, derivadas_regressao_reg, X_train, y_train, beta)\n",
        "\n",
        "# não altere as próximas linhas\n",
        "r2_train = multiple_r_squared(X_train, y_train, theta_reg)\n",
        "r2_test =  multiple_r_squared(X_test, y_test, theta_reg)\n",
        "\n",
        "assert_equal(np.round(r2_train,4), np.round(0.7878,4))\n",
        "assert_equal(np.round(r2_test,4), np.round(0.7148,4))"
      ],
      "execution_count": null,
      "outputs": []
    },
    {
      "cell_type": "markdown",
      "metadata": {
        "id": "Dk53Nq0f8dJT"
      },
      "source": [
        "# sklearn: RidgeRegression (sem correcao automatica)"
      ]
    },
    {
      "cell_type": "markdown",
      "metadata": {
        "id": "6RI3B0G_88H1"
      },
      "source": [
        "Por último, temos um exemplo de regressão linear com regularização L2 utilizando a biblioteca sklearn. Neste exemplo, iremos utilizar a *Ridge Regression*, mas note que o sklearn também oferece outras alternativas, como o [*Stochastic Gradient Descent Regressor*](https://scikit-learn.org/stable/modules/generated/sklearn.linear_model.SGDRegressor.html).\n",
        "\n",
        "Ainda, vamos utilizar a versão com validação cruzada, *RidgeCV*, cuja documentação você encontra [aqui](https://scikit-learn.org/stable/modules/generated/sklearn.linear_model.RidgeCV.html). Caso prefira, você também pode aprender sobre a função *Ridge* sem validação cruzada [aqui](https://scikit-learn.org/stable/modules/generated/sklearn.linear_model.Ridge.html)."
      ]
    },
    {
      "cell_type": "code",
      "metadata": {
        "id": "BOHa2uum8cl2",
        "colab": {
          "base_uri": "https://localhost:8080/"
        },
        "outputId": "e8802eb8-dabb-4866-83f2-70ff9c4dce58"
      },
      "source": [
        "# exemplo 1\n",
        "from sklearn.linear_model import RidgeCV\n",
        "from sklearn.model_selection import train_test_split\n",
        "\n",
        "X_train, X_test, y_train, y_test = train_test_split(X, y, test_size=0.2)\n",
        "\n",
        "# No sklearn, o coeficiente de regularizacao recebe o nome de alpha\n",
        "clf = RidgeCV(alphas=[1e-3, 1e-2, 1e-1, 1]).fit(X_train, y_train, )\n",
        "\n",
        "print(\"R2 (treino): \", clf.score(X_train, y_train))\n",
        "print(\"R2 (teste): \", clf.score(X_test, y_test))\n",
        "print(\"Melhor valor de beta encontrado na validacao cruzada: \", clf.alpha_)"
      ],
      "execution_count": null,
      "outputs": [
        {
          "output_type": "stream",
          "name": "stdout",
          "text": [
            "R2 (treino):  0.7895803736802278\n",
            "R2 (teste):  0.61486303261604\n",
            "Melhor valor de beta encontrado na validacao cruzada:  1.0\n"
          ]
        }
      ]
    },
    {
      "cell_type": "code",
      "metadata": {
        "id": "XzR3uMK8Aao_",
        "colab": {
          "base_uri": "https://localhost:8080/"
        },
        "outputId": "002b2296-33c3-4bb9-e0fe-550e1b07a48a"
      },
      "source": [
        "# exemplo 2\n",
        "from sklearn.datasets import load_diabetes\n",
        "from sklearn.linear_model import RidgeCV\n",
        "\n",
        "X, y = load_diabetes(return_X_y=True)\n",
        "clf = RidgeCV(alphas=[1e-3, 1e-2, 1e-1, 1]).fit(X, y)\n",
        "clf.score(X, y)"
      ],
      "execution_count": null,
      "outputs": [
        {
          "output_type": "execute_result",
          "data": {
            "text/plain": [
              "0.5166287840315833"
            ]
          },
          "metadata": {},
          "execution_count": 100
        }
      ]
    },
    {
      "cell_type": "markdown",
      "metadata": {
        "id": "ery8NzvpAbyN"
      },
      "source": [
        "Tente reproduzir os exemplos acima utilizando outras bases de dados e alterando os parâmetros das funções `train_test_spit` e `RidgeCV`. Para facilitar, você pode utilizar alguns dos conjuntos de dados que o sklearn oferece, descritos [aqui](https://scikit-learn.org/stable/datasets/index.html)."
      ]
    },
    {
      "cell_type": "code",
      "metadata": {
        "id": "_UleSxEyB_CL"
      },
      "source": [
        "# exercício opcional"
      ],
      "execution_count": null,
      "outputs": []
    }
  ]
}