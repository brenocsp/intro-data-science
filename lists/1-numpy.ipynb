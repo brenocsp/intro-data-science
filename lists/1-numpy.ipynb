{
  "nbformat": 4,
  "nbformat_minor": 0,
  "metadata": {
    "kernelspec": {
      "display_name": "Python 3",
      "language": "python",
      "name": "python3"
    },
    "language_info": {
      "codemirror_mode": {
        "name": "ipython",
        "version": 3
      },
      "file_extension": ".py",
      "mimetype": "text/x-python",
      "name": "python",
      "nbconvert_exporter": "python",
      "pygments_lexer": "ipython3",
      "version": "3.7.3"
    },
    "colab": {
      "name": "dcc212l1.ipynb",
      "provenance": [],
      "include_colab_link": true
    }
  },
  "cells": [
    {
      "cell_type": "markdown",
      "metadata": {
        "id": "view-in-github",
        "colab_type": "text"
      },
      "source": [
        "<a href=\"https://colab.research.google.com/github/brenocsp/intro-data-science/blob/main/lists/numpy.ipynb\" target=\"_parent\"><img src=\"https://colab.research.google.com/assets/colab-badge.svg\" alt=\"Open In Colab\"/></a>"
      ]
    },
    {
      "cell_type": "markdown",
      "metadata": {
        "id": "t_R8bD2mdtW0"
      },
      "source": [
        "# Lista 01 - Introdução e Revisão Numpy\n",
        "\n",
        "[NumPy](http://numpy.org) é um pacote incrivelmente poderoso em Python, onipresente em qualquer projeto de ciência de dados. Possui forte integração com o [Pandas](http://pandas.pydata.org), outra ferramenta que iremos abordar na matéria. NumPy adiciona suporte para matrizes multidimensionais e funções matemáticas que permitem que você execute facilmente cálculos de álgebra linear. Este notebook será uma coleção de exemplos de álgebra linear computados usando NumPy. \n",
        "\n",
        "## Numpy \n",
        "\n",
        "Para fazer uso de Numpy precisamos importar a biblioteca"
      ]
    },
    {
      "cell_type": "code",
      "metadata": {
        "id": "R2kSLMjtdtW4"
      },
      "source": [
        "# -*- coding: utf8\n",
        "\n",
        "import numpy as np"
      ],
      "execution_count": null,
      "outputs": []
    },
    {
      "cell_type": "markdown",
      "metadata": {
        "id": "VRvVJ_rddtW6"
      },
      "source": [
        "Quando pensamos no lado prático de ciência de dados, um aspecto chave que ajuda na implementação de novos algoritmos é a vetorização. De forma simples, vetorização consiste do uso de tipos como **escalar**, **vetor** e **matriz** para realizar uma computação mais eficaz (em tempo de execução).\n",
        "\n",
        "Uma matriz é uma coleção de valores, normalmente representada por uma grade 𝑚 × 𝑛, onde 𝑚 é o número de linhas e 𝑛 é o número de colunas. Os comprimentos das arestas 𝑚 e 𝑛 não precisam ser necessariamente diferentes. Se tivermos 𝑚 = 𝑛, chamamos isso de matriz quadrada. Um caso particularmente interessante de uma matriz é quando 𝑚 = 1 ou 𝑛 = 1. Nesse caso, temos um caso especial de uma matriz que chamamos de vetor. Embora haja um objeto de matriz em NumPy, faremos tudo usando matrizes NumPy porque elas podem ter dimensões maiores que 2. \n",
        "\n",
        "1. **Escalar:** Um vetor de zero dimensões"
      ]
    },
    {
      "cell_type": "code",
      "metadata": {
        "id": "r4VKplRAdtW7",
        "outputId": "af5893bf-818a-4455-e5cc-bdfbd1930d0b"
      },
      "source": [
        "1"
      ],
      "execution_count": null,
      "outputs": [
        {
          "data": {
            "text/plain": [
              "1"
            ]
          },
          "execution_count": 2,
          "metadata": {},
          "output_type": "execute_result"
        }
      ]
    },
    {
      "cell_type": "markdown",
      "metadata": {
        "id": "JSPi6hvVdtW7"
      },
      "source": [
        "2. **Vetor:** Representa uma dimensão"
      ]
    },
    {
      "cell_type": "markdown",
      "metadata": {
        "id": "CaShtIOndtW8"
      },
      "source": [
        "Abaixo vamos criar um vetor simples. Inicialmente, vamos criar uma lista."
      ]
    },
    {
      "cell_type": "code",
      "metadata": {
        "id": "zmcvD49ZdtW8"
      },
      "source": [
        "data_list = [3.5, 5, 2, 8, 4.2]"
      ],
      "execution_count": null,
      "outputs": []
    },
    {
      "cell_type": "markdown",
      "metadata": {
        "id": "9GwtrRYrdtW9"
      },
      "source": [
        "Observe o tipo da mesma."
      ]
    },
    {
      "cell_type": "code",
      "metadata": {
        "id": "e8VsdhuHdtW9",
        "outputId": "c1773035-14f6-44ad-db10-c155beec874f"
      },
      "source": [
        "type(data_list)"
      ],
      "execution_count": null,
      "outputs": [
        {
          "data": {
            "text/plain": [
              "list"
            ]
          },
          "execution_count": 4,
          "metadata": {},
          "output_type": "execute_result"
        }
      ]
    },
    {
      "cell_type": "markdown",
      "metadata": {
        "id": "W4S46uLadtW-"
      },
      "source": [
        "Embora vetores e listas sejam parecidos, vetores Numpy são otimizados para operações de Álgebra Linear. Ciência de Dados faz bastante uso de tais operações, sendo este um dos motivos da dependência em Numpy.\n",
        "\n",
        "Abaixo criamos um vetor."
      ]
    },
    {
      "cell_type": "code",
      "metadata": {
        "id": "7RpYOoUFdtW_",
        "outputId": "f37ebae4-aa76-44e9-941f-0d4042e19e60"
      },
      "source": [
        "data = np.array(data_list)\n",
        "print(data)\n",
        "print(type(data))"
      ],
      "execution_count": null,
      "outputs": [
        {
          "name": "stdout",
          "output_type": "stream",
          "text": [
            "[3.5 5.  2.  8.  4.2]\n",
            "<class 'numpy.ndarray'>\n"
          ]
        }
      ]
    },
    {
      "cell_type": "markdown",
      "metadata": {
        "id": "8lBOVveodtW_"
      },
      "source": [
        "Observe como podemos somar o mesmo com um número. Não é possível fazer tal operação com listas."
      ]
    },
    {
      "cell_type": "code",
      "metadata": {
        "id": "V-_U83pQdtXA",
        "outputId": "4796e41a-87dd-42c1-e45d-e66fa59a8dbb"
      },
      "source": [
        "data + 7"
      ],
      "execution_count": null,
      "outputs": [
        {
          "data": {
            "text/plain": [
              "array([10.5, 12. ,  9. , 15. , 11.2])"
            ]
          },
          "execution_count": 6,
          "metadata": {},
          "output_type": "execute_result"
        }
      ]
    },
    {
      "cell_type": "markdown",
      "metadata": {
        "id": "BUKYPPaodtXA"
      },
      "source": [
        "3. **Matrizes:** Representam duas dimensões."
      ]
    },
    {
      "cell_type": "code",
      "metadata": {
        "id": "JXwbkdHKdtXC",
        "outputId": "cdae799b-680a-456a-bf4f-1d3dc2a293dd"
      },
      "source": [
        "X = np.array([[2, 4],\n",
        "              [1, 3]])\n",
        "X"
      ],
      "execution_count": null,
      "outputs": [
        {
          "data": {
            "text/plain": [
              "array([[2, 4],\n",
              "       [1, 3]])"
            ]
          },
          "execution_count": 7,
          "metadata": {},
          "output_type": "execute_result"
        }
      ]
    },
    {
      "cell_type": "markdown",
      "metadata": {
        "id": "_cuEIhcCdtXC"
      },
      "source": [
        "Podemos indexar as matrizes e os vetores."
      ]
    },
    {
      "cell_type": "code",
      "metadata": {
        "id": "bgcQnP0GdtXD",
        "outputId": "14f07018-c803-47a8-9898-d91eb158e3f6"
      },
      "source": [
        "data[0]"
      ],
      "execution_count": null,
      "outputs": [
        {
          "data": {
            "text/plain": [
              "3.5"
            ]
          },
          "execution_count": 8,
          "metadata": {},
          "output_type": "execute_result"
        }
      ]
    },
    {
      "cell_type": "code",
      "metadata": {
        "id": "yHtvo3lcdtXD",
        "outputId": "0ea31fd6-c621-4b1e-a3f9-c715a0e44eb5"
      },
      "source": [
        "X[0, 1] # aqui é primeira linha, segunda coluna"
      ],
      "execution_count": null,
      "outputs": [
        {
          "data": {
            "text/plain": [
              "4"
            ]
          },
          "execution_count": 9,
          "metadata": {},
          "output_type": "execute_result"
        }
      ]
    },
    {
      "cell_type": "markdown",
      "metadata": {
        "id": "Gbor_GMCdtXD"
      },
      "source": [
        "Podemos também criar vetores/matrizes de números aleatórios"
      ]
    },
    {
      "cell_type": "code",
      "metadata": {
        "id": "JLprpSGvdtXD",
        "outputId": "eee0d561-21c3-4607-d339-82b25b69a85c"
      },
      "source": [
        "X = np.random.randn(4, 3) # Gera números aleatórios de uma normal\n",
        "print(X)"
      ],
      "execution_count": null,
      "outputs": [
        {
          "name": "stdout",
          "output_type": "stream",
          "text": [
            "[[-8.28699627e-01 -2.30961904e+00 -9.23109737e-01]\n",
            " [-1.61505056e+00 -1.82539186e-02 -6.32265265e-01]\n",
            " [-3.71359726e-02 -8.50479988e-01  1.73683801e+00]\n",
            " [-1.42512347e-04 -6.58202904e-01  2.88636778e-01]]\n"
          ]
        }
      ]
    },
    {
      "cell_type": "markdown",
      "metadata": {
        "id": "tGDbETg9dtXE"
      },
      "source": [
        "### Indexando\n",
        "\n",
        "Pegando a primeira linha"
      ]
    },
    {
      "cell_type": "code",
      "metadata": {
        "id": "io2tvhgfdtXE",
        "outputId": "82369dff-faa3-4d7f-e93f-5920dd67e085"
      },
      "source": [
        "X[0] # observe que 0 é a linha 1, compare com o X[0, 1] de antes."
      ],
      "execution_count": null,
      "outputs": [
        {
          "data": {
            "text/plain": [
              "array([-0.82869963, -2.30961904, -0.92310974])"
            ]
          },
          "execution_count": 11,
          "metadata": {},
          "output_type": "execute_result"
        }
      ]
    },
    {
      "cell_type": "code",
      "metadata": {
        "id": "p5qDBLTudtXE",
        "outputId": "e2cb3f4e-acc1-4b99-a6db-d6460116699e"
      },
      "source": [
        "X[1] # segunda"
      ],
      "execution_count": null,
      "outputs": [
        {
          "data": {
            "text/plain": [
              "array([-1.61505056, -0.01825392, -0.63226527])"
            ]
          },
          "execution_count": 12,
          "metadata": {},
          "output_type": "execute_result"
        }
      ]
    },
    {
      "cell_type": "code",
      "metadata": {
        "id": "iA-YtwfzdtXF",
        "outputId": "3c4bb70d-c15c-44cd-bcd5-392f893839df"
      },
      "source": [
        "X[2] # terceira"
      ],
      "execution_count": null,
      "outputs": [
        {
          "data": {
            "text/plain": [
              "array([-0.03713597, -0.85047999,  1.73683801])"
            ]
          },
          "execution_count": 13,
          "metadata": {},
          "output_type": "execute_result"
        }
      ]
    },
    {
      "cell_type": "markdown",
      "metadata": {
        "id": "MVAZI1v-dtXF"
      },
      "source": [
        "Observe como todos os tipos retornados são `array`. Array é o nome genérico de Numpy para vetores e matrizes. "
      ]
    },
    {
      "cell_type": "markdown",
      "metadata": {
        "id": "uHhvj_7zdtXF"
      },
      "source": [
        "`X[:, c]` pega uma coluna"
      ]
    },
    {
      "cell_type": "code",
      "metadata": {
        "id": "OpSJZVPwdtXF",
        "outputId": "15b3c915-af5c-4e4b-a726-041bdd689037"
      },
      "source": [
        "X[:, 0]"
      ],
      "execution_count": null,
      "outputs": [
        {
          "data": {
            "text/plain": [
              "array([-8.28699627e-01, -1.61505056e+00, -3.71359726e-02, -1.42512347e-04])"
            ]
          },
          "execution_count": 14,
          "metadata": {},
          "output_type": "execute_result"
        }
      ]
    },
    {
      "cell_type": "code",
      "metadata": {
        "id": "eQx_wFsXdtXG",
        "outputId": "4ad243c4-8074-4eaa-9a33-87f7387b7258"
      },
      "source": [
        "X[:, 1]"
      ],
      "execution_count": null,
      "outputs": [
        {
          "data": {
            "text/plain": [
              "array([-2.30961904, -0.01825392, -0.85047999, -0.6582029 ])"
            ]
          },
          "execution_count": 15,
          "metadata": {},
          "output_type": "execute_result"
        }
      ]
    },
    {
      "cell_type": "markdown",
      "metadata": {
        "id": "tfbrxH-PdtXG"
      },
      "source": [
        "`X[um_vetor]` pega as linhas da matriz. `X[:, um_vetor]` pega as colunas"
      ]
    },
    {
      "cell_type": "code",
      "metadata": {
        "id": "_CcNX2fQdtXG",
        "outputId": "4aa7cd43-527c-45d9-a6b8-89f47f89e945"
      },
      "source": [
        "X[[0, 0, 1]] # observe que pego a primeira linha, indexada por 0, duas vezes"
      ],
      "execution_count": null,
      "outputs": [
        {
          "data": {
            "text/plain": [
              "array([[-0.82869963, -2.30961904, -0.92310974],\n",
              "       [-0.82869963, -2.30961904, -0.92310974],\n",
              "       [-1.61505056, -0.01825392, -0.63226527]])"
            ]
          },
          "execution_count": 16,
          "metadata": {},
          "output_type": "execute_result"
        }
      ]
    },
    {
      "cell_type": "markdown",
      "metadata": {
        "id": "AYRmrJuvdtXH"
      },
      "source": [
        "Abaixo pego a segunda a primeira coluna"
      ]
    },
    {
      "cell_type": "code",
      "metadata": {
        "id": "5AWp7hNmdtXH",
        "outputId": "7a2e577f-98f1-4784-b295-3dd9084188bc"
      },
      "source": [
        "X[:, [1, 0]]"
      ],
      "execution_count": null,
      "outputs": [
        {
          "data": {
            "text/plain": [
              "array([[-2.30961904e+00, -8.28699627e-01],\n",
              "       [-1.82539186e-02, -1.61505056e+00],\n",
              "       [-8.50479988e-01, -3.71359726e-02],\n",
              "       [-6.58202904e-01, -1.42512347e-04]])"
            ]
          },
          "execution_count": 17,
          "metadata": {},
          "output_type": "execute_result"
        }
      ]
    },
    {
      "cell_type": "markdown",
      "metadata": {
        "id": "OSOXzvExdtXH"
      },
      "source": [
        "### Indexação Booleana\n",
        "\n",
        "`X[vetor_booleano]` retorna as linhas (ou colunas quando X[:, vetor_booleano]) onde o vetor é true"
      ]
    },
    {
      "cell_type": "code",
      "metadata": {
        "id": "W1ZEntqadtXH",
        "outputId": "6f0d7bf2-8d90-4611-b6ef-d4abe424f9cb"
      },
      "source": [
        "X[[True, False, True, False]]"
      ],
      "execution_count": null,
      "outputs": [
        {
          "data": {
            "text/plain": [
              "array([[-0.82869963, -2.30961904, -0.92310974],\n",
              "       [-0.03713597, -0.85047999,  1.73683801]])"
            ]
          },
          "execution_count": 18,
          "metadata": {},
          "output_type": "execute_result"
        }
      ]
    },
    {
      "cell_type": "code",
      "metadata": {
        "id": "Hy0YCfB_dtXH",
        "outputId": "e9cd5665-6d3c-438d-a2b0-5043a7629085"
      },
      "source": [
        "X[:, [False, True, True]]"
      ],
      "execution_count": null,
      "outputs": [
        {
          "data": {
            "text/plain": [
              "array([[-2.30961904, -0.92310974],\n",
              "       [-0.01825392, -0.63226527],\n",
              "       [-0.85047999,  1.73683801],\n",
              "       [-0.6582029 ,  0.28863678]])"
            ]
          },
          "execution_count": 19,
          "metadata": {},
          "output_type": "execute_result"
        }
      ]
    },
    {
      "cell_type": "markdown",
      "metadata": {
        "id": "yklDfvTsdtXI"
      },
      "source": [
        "### Reshape, Flatten e Ravel\n",
        "\n",
        "Todo vetor ou matriz pode ser redimensionado. Observe como uma matriz abaixo de 9x8=72 elementos. Podemos redimensionar os mesmos para outros arrays de tamanho 72."
      ]
    },
    {
      "cell_type": "code",
      "metadata": {
        "id": "02vrOkZTdtXI"
      },
      "source": [
        "X = np.random.randn(9, 8)"
      ],
      "execution_count": null,
      "outputs": []
    },
    {
      "cell_type": "markdown",
      "metadata": {
        "id": "fUuDziGIdtXI"
      },
      "source": [
        "Criando uma matriz de 18x4."
      ]
    },
    {
      "cell_type": "code",
      "metadata": {
        "id": "NNTpNckrdtXI",
        "outputId": "8f3417f1-3da2-47cc-daa0-e423e6b0be92"
      },
      "source": [
        "X.reshape((18, 4))"
      ],
      "execution_count": null,
      "outputs": [
        {
          "data": {
            "text/plain": [
              "array([[-0.27317993, -0.29414633, -0.6022491 , -0.63745675],\n",
              "       [ 0.28478323, -0.61757506, -0.06574421,  1.79104517],\n",
              "       [-1.41989931,  2.01772199,  0.79909735,  2.00704578],\n",
              "       [ 0.40912025,  1.28484141, -0.04231897,  0.31686876],\n",
              "       [ 0.58579576,  0.59732797, -0.77674338, -0.8509191 ],\n",
              "       [ 1.48236667, -1.44625812, -0.90798637,  0.76169099],\n",
              "       [-0.00891063,  1.03867245,  2.24641729, -0.36329358],\n",
              "       [-0.00648919,  0.0955519 , -1.10820027, -1.5757523 ],\n",
              "       [-0.05259193, -0.66730637,  0.11442752, -1.20559619],\n",
              "       [ 0.94186158, -0.88679058, -1.3059159 , -2.86664027],\n",
              "       [ 1.50678901, -0.92955681, -1.45924939,  0.3378637 ],\n",
              "       [ 3.7549434 ,  0.31710889,  0.41401744,  0.16457517],\n",
              "       [ 0.08452597,  0.38747958,  0.03474171, -1.43348703],\n",
              "       [-1.7036983 ,  0.47424453,  1.65152842, -0.73665845],\n",
              "       [-0.8504203 , -0.14251315, -0.54545833,  0.16766592],\n",
              "       [ 0.51913773, -0.63864761, -2.2091628 ,  0.86677625],\n",
              "       [-0.45556057,  0.08022124,  0.11213436,  1.52079991],\n",
              "       [ 0.32564504, -0.82042081, -0.39942851,  0.24143379]])"
            ]
          },
          "execution_count": 21,
          "metadata": {},
          "output_type": "execute_result"
        }
      ]
    },
    {
      "cell_type": "markdown",
      "metadata": {
        "id": "n9chnvE_dtXI"
      },
      "source": [
        "Ou um vetor de 72"
      ]
    },
    {
      "cell_type": "code",
      "metadata": {
        "id": "9oxRXvtsdtXI",
        "outputId": "8c419d31-64b7-4eef-d79a-c7567cdfcee7"
      },
      "source": [
        "X.reshape(72)"
      ],
      "execution_count": null,
      "outputs": [
        {
          "data": {
            "text/plain": [
              "array([-0.27317993, -0.29414633, -0.6022491 , -0.63745675,  0.28478323,\n",
              "       -0.61757506, -0.06574421,  1.79104517, -1.41989931,  2.01772199,\n",
              "        0.79909735,  2.00704578,  0.40912025,  1.28484141, -0.04231897,\n",
              "        0.31686876,  0.58579576,  0.59732797, -0.77674338, -0.8509191 ,\n",
              "        1.48236667, -1.44625812, -0.90798637,  0.76169099, -0.00891063,\n",
              "        1.03867245,  2.24641729, -0.36329358, -0.00648919,  0.0955519 ,\n",
              "       -1.10820027, -1.5757523 , -0.05259193, -0.66730637,  0.11442752,\n",
              "       -1.20559619,  0.94186158, -0.88679058, -1.3059159 , -2.86664027,\n",
              "        1.50678901, -0.92955681, -1.45924939,  0.3378637 ,  3.7549434 ,\n",
              "        0.31710889,  0.41401744,  0.16457517,  0.08452597,  0.38747958,\n",
              "        0.03474171, -1.43348703, -1.7036983 ,  0.47424453,  1.65152842,\n",
              "       -0.73665845, -0.8504203 , -0.14251315, -0.54545833,  0.16766592,\n",
              "        0.51913773, -0.63864761, -2.2091628 ,  0.86677625, -0.45556057,\n",
              "        0.08022124,  0.11213436,  1.52079991,  0.32564504, -0.82042081,\n",
              "       -0.39942851,  0.24143379])"
            ]
          },
          "execution_count": 22,
          "metadata": {},
          "output_type": "execute_result"
        }
      ]
    },
    {
      "cell_type": "markdown",
      "metadata": {
        "id": "jKwPuivWdtXJ"
      },
      "source": [
        "A chamada flatten e ravel faz a mesma coisa, criam uma visão de uma dimensão da matriz."
      ]
    },
    {
      "cell_type": "code",
      "metadata": {
        "id": "fmVIea1JdtXJ",
        "outputId": "ea03b9a4-4769-4255-b856-7a749e5220e9"
      },
      "source": [
        "X.flatten()"
      ],
      "execution_count": null,
      "outputs": [
        {
          "data": {
            "text/plain": [
              "array([-0.27317993, -0.29414633, -0.6022491 , -0.63745675,  0.28478323,\n",
              "       -0.61757506, -0.06574421,  1.79104517, -1.41989931,  2.01772199,\n",
              "        0.79909735,  2.00704578,  0.40912025,  1.28484141, -0.04231897,\n",
              "        0.31686876,  0.58579576,  0.59732797, -0.77674338, -0.8509191 ,\n",
              "        1.48236667, -1.44625812, -0.90798637,  0.76169099, -0.00891063,\n",
              "        1.03867245,  2.24641729, -0.36329358, -0.00648919,  0.0955519 ,\n",
              "       -1.10820027, -1.5757523 , -0.05259193, -0.66730637,  0.11442752,\n",
              "       -1.20559619,  0.94186158, -0.88679058, -1.3059159 , -2.86664027,\n",
              "        1.50678901, -0.92955681, -1.45924939,  0.3378637 ,  3.7549434 ,\n",
              "        0.31710889,  0.41401744,  0.16457517,  0.08452597,  0.38747958,\n",
              "        0.03474171, -1.43348703, -1.7036983 ,  0.47424453,  1.65152842,\n",
              "       -0.73665845, -0.8504203 , -0.14251315, -0.54545833,  0.16766592,\n",
              "        0.51913773, -0.63864761, -2.2091628 ,  0.86677625, -0.45556057,\n",
              "        0.08022124,  0.11213436,  1.52079991,  0.32564504, -0.82042081,\n",
              "       -0.39942851,  0.24143379])"
            ]
          },
          "execution_count": 23,
          "metadata": {},
          "output_type": "execute_result"
        }
      ]
    },
    {
      "cell_type": "code",
      "metadata": {
        "id": "JPYyDdOzdtXJ",
        "outputId": "004b6faa-56d2-403a-fc76-8deb0fb95fd0"
      },
      "source": [
        "X.ravel()"
      ],
      "execution_count": null,
      "outputs": [
        {
          "data": {
            "text/plain": [
              "array([-0.27317993, -0.29414633, -0.6022491 , -0.63745675,  0.28478323,\n",
              "       -0.61757506, -0.06574421,  1.79104517, -1.41989931,  2.01772199,\n",
              "        0.79909735,  2.00704578,  0.40912025,  1.28484141, -0.04231897,\n",
              "        0.31686876,  0.58579576,  0.59732797, -0.77674338, -0.8509191 ,\n",
              "        1.48236667, -1.44625812, -0.90798637,  0.76169099, -0.00891063,\n",
              "        1.03867245,  2.24641729, -0.36329358, -0.00648919,  0.0955519 ,\n",
              "       -1.10820027, -1.5757523 , -0.05259193, -0.66730637,  0.11442752,\n",
              "       -1.20559619,  0.94186158, -0.88679058, -1.3059159 , -2.86664027,\n",
              "        1.50678901, -0.92955681, -1.45924939,  0.3378637 ,  3.7549434 ,\n",
              "        0.31710889,  0.41401744,  0.16457517,  0.08452597,  0.38747958,\n",
              "        0.03474171, -1.43348703, -1.7036983 ,  0.47424453,  1.65152842,\n",
              "       -0.73665845, -0.8504203 , -0.14251315, -0.54545833,  0.16766592,\n",
              "        0.51913773, -0.63864761, -2.2091628 ,  0.86677625, -0.45556057,\n",
              "        0.08022124,  0.11213436,  1.52079991,  0.32564504, -0.82042081,\n",
              "       -0.39942851,  0.24143379])"
            ]
          },
          "execution_count": 24,
          "metadata": {},
          "output_type": "execute_result"
        }
      ]
    },
    {
      "cell_type": "markdown",
      "metadata": {
        "id": "F0PxYe8PdtXJ"
      },
      "source": [
        "As funções incorporadas ao NumPy podem ser facilmente chamadas em matrizes. A maioria das funções são aplicadas a um elemento de array (como a multiplicação escalar). Por exemplo, se chamarmos `log()` em um array, o logaritmo será obtido de cada elemento. "
      ]
    },
    {
      "cell_type": "code",
      "metadata": {
        "id": "GOtHh6vudtXJ",
        "outputId": "eb832414-29e8-41d3-a9dc-526f8d3f9722"
      },
      "source": [
        "np.log(data)"
      ],
      "execution_count": null,
      "outputs": [
        {
          "data": {
            "text/plain": [
              "array([1.25276297, 1.60943791, 0.69314718, 2.07944154, 1.43508453])"
            ]
          },
          "execution_count": 25,
          "metadata": {},
          "output_type": "execute_result"
        }
      ]
    },
    {
      "cell_type": "markdown",
      "metadata": {
        "id": "1SsrI1AndtXJ"
      },
      "source": [
        "Mean tira a média"
      ]
    },
    {
      "cell_type": "code",
      "metadata": {
        "id": "BPd34XiPdtXK",
        "outputId": "758aa31b-3694-400e-d6fb-8890c3259288"
      },
      "source": [
        "np.mean(data)"
      ],
      "execution_count": null,
      "outputs": [
        {
          "data": {
            "text/plain": [
              "4.54"
            ]
          },
          "execution_count": 26,
          "metadata": {},
          "output_type": "execute_result"
        }
      ]
    },
    {
      "cell_type": "markdown",
      "metadata": {
        "id": "qBBKMRzUdtXK"
      },
      "source": [
        "Algumas funções podem ser chamadas direto no vetor, nem todas serão assim. O importante é ler a [documentação](http://numpy.org) e aprender. Com um pouco de prática você vai se acostumando."
      ]
    },
    {
      "cell_type": "code",
      "metadata": {
        "id": "u8_9QfxudtXK",
        "outputId": "35d79c74-1ecb-4cdd-c486-581543ae2b39"
      },
      "source": [
        "data.mean()"
      ],
      "execution_count": null,
      "outputs": [
        {
          "data": {
            "text/plain": [
              "4.54"
            ]
          },
          "execution_count": 27,
          "metadata": {},
          "output_type": "execute_result"
        }
      ]
    },
    {
      "cell_type": "markdown",
      "metadata": {
        "id": "u_Nf7RwYdtXK"
      },
      "source": [
        "Abaixo temos a mediana,"
      ]
    },
    {
      "cell_type": "code",
      "metadata": {
        "id": "H_ylvN53dtXK",
        "outputId": "dd57330f-6eb3-4b9f-c711-603626baa4b9"
      },
      "source": [
        "np.median(data) # por exemplo, não existe data.median(). Faz sentido? Não. Mas é assim."
      ],
      "execution_count": null,
      "outputs": [
        {
          "data": {
            "text/plain": [
              "4.2"
            ]
          },
          "execution_count": 28,
          "metadata": {},
          "output_type": "execute_result"
        }
      ]
    },
    {
      "cell_type": "markdown",
      "metadata": {
        "id": "R05S-BWYdtXK"
      },
      "source": [
        "Em matrizes as funções operam em todos os elemntos."
      ]
    },
    {
      "cell_type": "code",
      "metadata": {
        "id": "_cCMkQRHdtXL",
        "outputId": "6d74a7b4-a314-46a7-8edd-b113053168cd"
      },
      "source": [
        "np.median(X)"
      ],
      "execution_count": null,
      "outputs": [
        {
          "data": {
            "text/plain": [
              "0.01412626452440558"
            ]
          },
          "execution_count": 29,
          "metadata": {},
          "output_type": "execute_result"
        }
      ]
    },
    {
      "cell_type": "code",
      "metadata": {
        "id": "TSQ3PB5DdtXL",
        "outputId": "eb42cc06-eb55-4ce2-92c7-a32005349680"
      },
      "source": [
        "X.mean()"
      ],
      "execution_count": null,
      "outputs": [
        {
          "data": {
            "text/plain": [
              "-0.00791608029237454"
            ]
          },
          "execution_count": 30,
          "metadata": {},
          "output_type": "execute_result"
        }
      ]
    },
    {
      "cell_type": "code",
      "metadata": {
        "id": "rnqBraJydtXL",
        "outputId": "7498b960-e515-49ea-efbf-5c3336647564"
      },
      "source": [
        "np.log(X + 10)"
      ],
      "execution_count": null,
      "outputs": [
        {
          "data": {
            "text/plain": [
              "array([[2.27488703, 2.27272917, 2.24047039, 2.23671697, 2.33066545,\n",
              "        2.23883825, 2.29598897, 2.46734036],\n",
              "       [2.14944565, 2.48638239, 2.37946255, 2.48549363, 2.34268237,\n",
              "        2.42346036, 2.29834422, 2.3337803 ],\n",
              "       [2.35951308, 2.36060189, 2.22172819, 2.21365343, 2.44081253,\n",
              "        2.14636883, 2.2073964 , 2.3759927 ],\n",
              "       [2.30169363, 2.40140478, 2.50523343, 2.26557939, 2.30193596,\n",
              "        2.31209492, 2.18512947, 2.13111418],\n",
              "       [2.29731202, 2.23352368, 2.31396287, 2.17411559, 2.39259595,\n",
              "        2.20972495, 2.16264281, 1.96478233],\n",
              "       [2.44293721, 2.20502113, 2.1448489 , 2.33581324, 2.62139828,\n",
              "        2.33380357, 2.34315273, 2.31890865],\n",
              "       [2.31100217, 2.34060119, 2.30605324, 2.14786076, 2.11580984,\n",
              "        2.34891934, 2.45543737, 2.22606484],\n",
              "       [2.21370794, 2.28823125, 2.24649523, 2.31921268, 2.35319624,\n",
              "        2.23658977, 2.05294832, 2.38571008],\n",
              "       [2.25595873, 2.31057521, 2.31373612, 2.44415409, 2.33463061,\n",
              "        2.21698136, 2.26182263, 2.32644163]])"
            ]
          },
          "execution_count": 31,
          "metadata": {},
          "output_type": "execute_result"
        }
      ]
    },
    {
      "cell_type": "markdown",
      "metadata": {
        "id": "AtQMgjJwdtXL"
      },
      "source": [
        "Porém, caso você queira a media de linhas ou colunas use `axis`. Antes, vamos ver o tamanho do vetor."
      ]
    },
    {
      "cell_type": "code",
      "metadata": {
        "id": "07DsXolhdtXL",
        "outputId": "e21b7d9e-77e5-44c2-ecc9-13f9273661f4"
      },
      "source": [
        "X.shape"
      ],
      "execution_count": null,
      "outputs": [
        {
          "data": {
            "text/plain": [
              "(9, 8)"
            ]
          },
          "execution_count": 32,
          "metadata": {},
          "output_type": "execute_result"
        }
      ]
    },
    {
      "cell_type": "code",
      "metadata": {
        "id": "Lfonk-iYdtXL",
        "outputId": "993b05e1-23dc-427c-a04f-410674dd1b82"
      },
      "source": [
        "np.mean(X, axis=0) # média das colunas. como temos 8 colunas, temos 8 elementos."
      ],
      "execution_count": null,
      "outputs": [
        {
          "data": {
            "text/plain": [
              "array([-0.09816133,  0.23198895, -0.00854244, -0.0508197 ,  0.66751894,\n",
              "       -0.24866061, -0.44146791, -0.11518455])"
            ]
          },
          "execution_count": 33,
          "metadata": {},
          "output_type": "execute_result"
        }
      ]
    },
    {
      "cell_type": "code",
      "metadata": {
        "id": "g9wULwg5dtXM",
        "outputId": "f74a45e2-1fcc-461d-e31e-055e0ef64db1"
      },
      "source": [
        "np.mean(X, axis=0).shape"
      ],
      "execution_count": null,
      "outputs": [
        {
          "data": {
            "text/plain": [
              "(8,)"
            ]
          },
          "execution_count": 34,
          "metadata": {},
          "output_type": "execute_result"
        }
      ]
    },
    {
      "cell_type": "code",
      "metadata": {
        "id": "bdTijNVSdtXM",
        "outputId": "1f8e7c0c-44a0-4d79-b3c3-9f4e965af38d"
      },
      "source": [
        "np.mean(X, axis=1) # média das linhas"
      ],
      "execution_count": null,
      "outputs": [
        {
          "data": {
            "text/plain": [
              "array([-0.05181537,  0.67155966, -0.0693407 ,  0.03974946, -0.74106902,\n",
              "        0.51331143, -0.15516545, -0.35407779,  0.07560306])"
            ]
          },
          "execution_count": 35,
          "metadata": {},
          "output_type": "execute_result"
        }
      ]
    },
    {
      "cell_type": "code",
      "metadata": {
        "id": "iFILXvWqdtXM",
        "outputId": "bbd7ebcf-344c-43f1-ea2e-b5f1b368ae4f"
      },
      "source": [
        "np.mean(X, axis=1).shape"
      ],
      "execution_count": null,
      "outputs": [
        {
          "data": {
            "text/plain": [
              "(9,)"
            ]
          },
          "execution_count": 36,
          "metadata": {},
          "output_type": "execute_result"
        }
      ]
    },
    {
      "cell_type": "markdown",
      "metadata": {
        "id": "wI-biQ3BdtXM"
      },
      "source": [
        "Lembre-se que eixo 0 é coluna. Eixo 1 é linas."
      ]
    },
    {
      "cell_type": "markdown",
      "metadata": {
        "id": "JMoTZbmSdtXM"
      },
      "source": [
        "### Multiplicação de Matrizes"
      ]
    },
    {
      "cell_type": "markdown",
      "metadata": {
        "id": "a5hDffK_dtXM"
      },
      "source": [
        "Para transpor uma matriz fazemos uso de .T"
      ]
    },
    {
      "cell_type": "code",
      "metadata": {
        "id": "CU_0W_1NdtXM",
        "outputId": "d031ab95-5f01-49e6-8689-74db9d062ba8"
      },
      "source": [
        "X.shape"
      ],
      "execution_count": null,
      "outputs": [
        {
          "data": {
            "text/plain": [
              "(9, 8)"
            ]
          },
          "execution_count": 37,
          "metadata": {},
          "output_type": "execute_result"
        }
      ]
    },
    {
      "cell_type": "code",
      "metadata": {
        "id": "iDlcDG4NdtXM",
        "outputId": "e91cc9b2-69e8-4086-e2c7-8228161e69a3"
      },
      "source": [
        "X.T.shape"
      ],
      "execution_count": null,
      "outputs": [
        {
          "data": {
            "text/plain": [
              "(8, 9)"
            ]
          },
          "execution_count": 38,
          "metadata": {},
          "output_type": "execute_result"
        }
      ]
    },
    {
      "cell_type": "code",
      "metadata": {
        "id": "0TPccexHdtXN",
        "outputId": "30e770a7-c993-43e0-ab0a-25ab6a659ab3"
      },
      "source": [
        "X.T"
      ],
      "execution_count": null,
      "outputs": [
        {
          "data": {
            "text/plain": [
              "array([[-0.27317993, -1.41989931,  0.58579576, -0.00891063, -0.05259193,\n",
              "         1.50678901,  0.08452597, -0.8504203 , -0.45556057],\n",
              "       [-0.29414633,  2.01772199,  0.59732797,  1.03867245, -0.66730637,\n",
              "        -0.92955681,  0.38747958, -0.14251315,  0.08022124],\n",
              "       [-0.6022491 ,  0.79909735, -0.77674338,  2.24641729,  0.11442752,\n",
              "        -1.45924939,  0.03474171, -0.54545833,  0.11213436],\n",
              "       [-0.63745675,  2.00704578, -0.8509191 , -0.36329358, -1.20559619,\n",
              "         0.3378637 , -1.43348703,  0.16766592,  1.52079991],\n",
              "       [ 0.28478323,  0.40912025,  1.48236667, -0.00648919,  0.94186158,\n",
              "         3.7549434 , -1.7036983 ,  0.51913773,  0.32564504],\n",
              "       [-0.61757506,  1.28484141, -1.44625812,  0.0955519 , -0.88679058,\n",
              "         0.31710889,  0.47424453, -0.63864761, -0.82042081],\n",
              "       [-0.06574421, -0.04231897, -0.90798637, -1.10820027, -1.3059159 ,\n",
              "         0.41401744,  1.65152842, -2.2091628 , -0.39942851],\n",
              "       [ 1.79104517,  0.31686876,  0.76169099, -1.5757523 , -2.86664027,\n",
              "         0.16457517, -0.73665845,  0.86677625,  0.24143379]])"
            ]
          },
          "execution_count": 39,
          "metadata": {},
          "output_type": "execute_result"
        }
      ]
    },
    {
      "cell_type": "markdown",
      "metadata": {
        "id": "bGC2VZ3udtXN"
      },
      "source": [
        "Para multiplicar matrizes, do ponto de visto de multiplicação matricial como definido na álgebra linear, fazemos uso de `@`."
      ]
    },
    {
      "cell_type": "code",
      "metadata": {
        "id": "f3hJLE-GdtXN",
        "outputId": "e9f0c9eb-2dc0-41d0-cb5f-539663ef20a9"
      },
      "source": [
        "X @ X.T"
      ],
      "execution_count": null,
      "outputs": [
        {
          "data": {
            "text/plain": [
              "array([[ 4.60486997, -2.07294499,  3.41373158, -4.23465062, -3.32228533,\n",
              "         1.66630803, -1.45023698,  2.73578912,  0.12196485],\n",
              "       [-2.07294499, 12.67449894, -2.92702136,  2.8420691 , -5.20714587,\n",
              "        -2.52476435, -2.57850786,  0.58057083,  3.12315919],\n",
              "       [ 3.41373158, -2.92702136,  7.7210369 , -1.16236568,  2.1885472 ,\n",
              "         6.03040284, -3.79829355,  4.05701847,  0.61571484],\n",
              "       [-4.23465062,  2.8420691 , -1.16236568,  9.97756818,  5.87587812,\n",
              "        -5.09196838,  0.38746981, -0.40870831, -0.23151235],\n",
              "       [-3.32228533, -5.20714587,  2.1885472 ,  5.87587812, 13.51116309,\n",
              "         2.20972677, -0.60105706,  1.33082004, -0.98644245],\n",
              "       [ 1.66630803, -2.52476435,  6.03040284, -5.09196838,  2.20972677,\n",
              "        19.77670308, -6.45221918,  0.67850795,  0.4261668 ],\n",
              "       [-1.45023698, -2.57850786, -3.79829355,  0.38746981, -0.60105706,\n",
              "        -6.45221918,  8.61108467, -5.86074302, -3.96497656],\n",
              "       [ 2.73578912,  0.58057083,  4.05701847, -0.40870831,  1.33082004,\n",
              "         0.67850795, -5.86074302,  7.37823746,  2.35449317],\n",
              "       [ 0.12196485,  3.12315919,  0.61571484, -0.23151235, -0.98644245,\n",
              "         0.4261668 , -3.96497656,  2.35449317,  3.53634576]])"
            ]
          },
          "execution_count": 40,
          "metadata": {},
          "output_type": "execute_result"
        }
      ]
    },
    {
      "cell_type": "markdown",
      "metadata": {
        "id": "ge_ZSzyedtXN"
      },
      "source": [
        "O uso de `*` realiza uma operação ponto a ponto"
      ]
    },
    {
      "cell_type": "code",
      "metadata": {
        "id": "YapEN0uAdtXN",
        "outputId": "c9b3330e-a1dd-4219-d7bb-c2eb62e22d66"
      },
      "source": [
        "X * X"
      ],
      "execution_count": null,
      "outputs": [
        {
          "data": {
            "text/plain": [
              "array([[7.46272751e-02, 8.65220619e-02, 3.62703977e-01, 4.06351107e-01,\n",
              "        8.11014905e-02, 3.81398953e-01, 4.32230071e-03, 3.20784280e+00],\n",
              "       [2.01611404e+00, 4.07120203e+00, 6.38556569e-01, 4.02823278e+00,\n",
              "        1.67379376e-01, 1.65081744e+00, 1.79089542e-03, 1.00405808e-01],\n",
              "       [3.43156675e-01, 3.56800704e-01, 6.03330282e-01, 7.24063310e-01,\n",
              "        2.19741095e+00, 2.09166256e+00, 8.24439255e-01, 5.80173161e-01],\n",
              "       [7.93994158e-05, 1.07884046e+00, 5.04639066e+00, 1.31982226e-01,\n",
              "        4.21095331e-05, 9.13016567e-03, 1.22810784e+00, 2.48299533e+00],\n",
              "       [2.76591069e-03, 4.45297797e-01, 1.30936574e-02, 1.45346218e+00,\n",
              "        8.87103239e-01, 7.86397538e-01, 1.70541634e+00, 8.21762643e+00],\n",
              "       [2.27041312e+00, 8.64075856e-01, 2.12940879e+00, 1.14151877e-01,\n",
              "        1.40996000e+01, 1.00558050e-01, 1.71410442e-01, 2.70849850e-02],\n",
              "       [7.14463932e-03, 1.50140427e-01, 1.20698675e-03, 2.05488506e+00,\n",
              "        2.90258790e+00, 2.24907874e-01, 2.72754611e+00, 5.42665677e-01],\n",
              "       [7.23214693e-01, 2.03099971e-02, 2.97524794e-01, 2.81118613e-02,\n",
              "        2.69503985e-01, 4.07870773e-01, 4.88040029e+00, 7.51301065e-01],\n",
              "       [2.07535429e-01, 6.43544790e-03, 1.25741155e-02, 2.31283236e+00,\n",
              "        1.06044690e-01, 6.73090312e-01, 1.59543135e-01, 5.82902761e-02]])"
            ]
          },
          "execution_count": 41,
          "metadata": {},
          "output_type": "execute_result"
        }
      ]
    },
    {
      "cell_type": "markdown",
      "metadata": {
        "id": "NNUkoG_IdtXN"
      },
      "source": [
        "Observe a diferença de tamanhos"
      ]
    },
    {
      "cell_type": "code",
      "metadata": {
        "id": "b3VgKMxgdtXN",
        "outputId": "f8750fe6-88a2-404c-8878-034f324a684b"
      },
      "source": [
        "(X * X).shape"
      ],
      "execution_count": null,
      "outputs": [
        {
          "data": {
            "text/plain": [
              "(9, 8)"
            ]
          },
          "execution_count": 42,
          "metadata": {},
          "output_type": "execute_result"
        }
      ]
    },
    {
      "cell_type": "code",
      "metadata": {
        "id": "eV4IzQ3gdtXO",
        "outputId": "19110856-ca20-4b94-e1fe-3a285544ddb4"
      },
      "source": [
        "(X @ X.T).shape"
      ],
      "execution_count": null,
      "outputs": [
        {
          "data": {
            "text/plain": [
              "(9, 9)"
            ]
          },
          "execution_count": 43,
          "metadata": {},
          "output_type": "execute_result"
        }
      ]
    },
    {
      "cell_type": "markdown",
      "metadata": {
        "id": "iITM79C3dtXO"
      },
      "source": [
        "**Pense:** Para o nosso `X` de tamanho `(9, 8)`, qual o motivo de `X * X.T` não funcionar? Qual o motivo de `X @ X` não funcionar?"
      ]
    },
    {
      "cell_type": "markdown",
      "metadata": {
        "id": "msTeLDZKdtXO"
      },
      "source": [
        "## Correção Automática\n",
        "\n",
        "Nossa correção automática depende das funções abaixo. Tais funções comparam valores que serão computados pelo seu código com uma saída esperada. Normalmente, vocês não fazer uso de tais funções em notebooks como este. Porém, elas são chave em ambientes de testes automáticos (fora do nosso escopo).\n",
        "\n",
        "Observe como algumas funções comparam valores e outras comparam vetores. Além do mais, temos funções para comparar dentro de algumas casas decimais."
      ]
    },
    {
      "cell_type": "code",
      "metadata": {
        "id": "613xzkokdtXO"
      },
      "source": [
        "from numpy.testing import assert_almost_equal\n",
        "from numpy.testing import assert_equal\n",
        "\n",
        "from numpy.testing import assert_array_almost_equal\n",
        "from numpy.testing import assert_array_equal"
      ],
      "execution_count": null,
      "outputs": []
    },
    {
      "cell_type": "code",
      "metadata": {
        "id": "SwIqmI9CdtXO"
      },
      "source": [
        "# caso você mude um dos valores vamos receber um erro!\n",
        "assert_array_equal(2, 2)\n",
        "\n",
        "# caso você mude um dos valores vamos receber um erro!\n",
        "assert_array_equal([1, 2], [1, 2])\n",
        "\n",
        "# caso você mude um dos valores vamos receber um erro!\n",
        "assert_almost_equal(3.1415, 3.14, 1)"
      ],
      "execution_count": null,
      "outputs": []
    },
    {
      "cell_type": "markdown",
      "metadata": {
        "id": "cOqIEvTxdtXO"
      },
      "source": [
        "Caso você mude um dos valores abaixo vamos receber um erro! Como o abaixo.\n",
        "\n",
        "```\n",
        "-----------------------------------------------------------------------\n",
        "AssertionError                        Traceback (most recent call last)\n",
        "<ipython-input-10-396672d880f2> in <module>\n",
        "----> 1 assert_equal(2, 3) # caso você mude um dos valores vamos receber um erro!\n",
        "\n",
        "~/miniconda3/lib/python3.7/site-packages/numpy/testing/_private/utils.py in assert_equal(actual, desired, err_msg, verbose)\n",
        "    413         # Explicitly use __eq__ for comparison, gh-2552\n",
        "    414         if not (desired == actual):\n",
        "--> 415             raise AssertionError(msg)\n",
        "    416 \n",
        "    417     except (DeprecationWarning, FutureWarning) as e:\n",
        "\n",
        "AssertionError: \n",
        "Items are not equal:\n",
        " ACTUAL: 2\n",
        " DESIRED: 3\n",
        " ```"
      ]
    },
    {
      "cell_type": "markdown",
      "metadata": {
        "id": "u2JpeOh0dtXP"
      },
      "source": [
        "É essencial que todo seu código execute sem erros! Portanto, antes de submeter clique em `Kernel` no menu acima. Depois clique em `Restart & Execute All.`\n",
        "\n",
        "**Garanta que o notebook executa até o fim!** Isto é, sem erros como o acima."
      ]
    },
    {
      "cell_type": "markdown",
      "metadata": {
        "id": "TxkfB2ZDdtXP"
      },
      "source": [
        "## Funções em Python"
      ]
    },
    {
      "cell_type": "markdown",
      "metadata": {
        "id": "dgllTjNldtXP"
      },
      "source": [
        "Para criar uma função em Python fazemos uso da palavra-chave: \n",
        "```python\n",
        "def\n",
        "```\n",
        "\n",
        "Todos nossos exercícios farão uso de funções. **Mantenha a assinatura das funções exatamente como requisitado, a correção automática depende disso.** Abaixo, temos um exempo de uma função que imprime algo na tela!"
      ]
    },
    {
      "cell_type": "code",
      "metadata": {
        "id": "IqjzycF_dtXP"
      },
      "source": [
        "def print_something(txt):\n",
        "    print(f'Você passou o argumento: {txt}')"
      ],
      "execution_count": null,
      "outputs": []
    },
    {
      "cell_type": "code",
      "metadata": {
        "id": "tVUE938cdtXP",
        "outputId": "67c11731-7ee3-4f46-f61f-ddcfda8f7ad3"
      },
      "source": [
        "print_something('DCC 212')"
      ],
      "execution_count": null,
      "outputs": [
        {
          "name": "stdout",
          "output_type": "stream",
          "text": [
            "Você passou o argumento: DCC 212\n"
          ]
        }
      ]
    },
    {
      "cell_type": "markdown",
      "metadata": {
        "id": "iN8ccxtOdtXP"
      },
      "source": [
        "Podemos também dizer o tipo do argumento, porém faremos pouco uso disto em ICD."
      ]
    },
    {
      "cell_type": "code",
      "metadata": {
        "id": "vEUfI-w8dtXQ"
      },
      "source": [
        "def print_something(txt: str):\n",
        "    print(f'Você passou o argumento: {txt}')"
      ],
      "execution_count": null,
      "outputs": []
    },
    {
      "cell_type": "code",
      "metadata": {
        "id": "mrY6c8C-dtXQ",
        "outputId": "9ac46468-e240-41ea-d5bc-95bcac7ed88a"
      },
      "source": [
        "print_something('DCC 212')"
      ],
      "execution_count": null,
      "outputs": [
        {
          "name": "stdout",
          "output_type": "stream",
          "text": [
            "Você passou o argumento: DCC 212\n"
          ]
        }
      ]
    },
    {
      "cell_type": "markdown",
      "metadata": {
        "id": "NuGPz1L6dtXQ"
      },
      "source": [
        "Abaixo temos uma função que soma, a soma, dois vetores"
      ]
    },
    {
      "cell_type": "code",
      "metadata": {
        "id": "KfB4s_7EdtXQ"
      },
      "source": [
        "def sum_of_sum_vectors(array_1, array_2):\n",
        "    return (array_1 + array_2).sum()"
      ],
      "execution_count": null,
      "outputs": []
    },
    {
      "cell_type": "code",
      "metadata": {
        "id": "5baoKRLedtXQ"
      },
      "source": [
        "x = np.array([1, 2])\n",
        "y = np.array([1, 2])"
      ],
      "execution_count": null,
      "outputs": []
    },
    {
      "cell_type": "code",
      "metadata": {
        "id": "Mz8Q0H8YdtXQ",
        "outputId": "c11a0376-cc39-4d6d-cfce-edcc69643707"
      },
      "source": [
        "sum_of_sum_vectors(x, y)"
      ],
      "execution_count": null,
      "outputs": [
        {
          "data": {
            "text/plain": [
              "6"
            ]
          },
          "execution_count": 52,
          "metadata": {},
          "output_type": "execute_result"
        }
      ]
    },
    {
      "cell_type": "markdown",
      "metadata": {
        "id": "3ZDQEppxdtXQ"
      },
      "source": [
        "Abaixo temos um teste, tais testes vão avaliar o seu código. Nem todos estão aqui no notebook!"
      ]
    },
    {
      "cell_type": "code",
      "metadata": {
        "id": "2FhNSGi6dtXQ"
      },
      "source": [
        "assert_equal(6, sum_of_sum_vectors(x, y))"
      ],
      "execution_count": null,
      "outputs": []
    },
    {
      "cell_type": "markdown",
      "metadata": {
        "id": "kTukeOajdtXR"
      },
      "source": [
        "## Exercício 01\n",
        "\n",
        "Inicialmente, crie uma função que recebe duas listas de numéros, converte as duas para um vetor numpy usando `np.array` e retorna o produto interno das duas listas. \n",
        "\n",
        "__Dicas:__  \n",
        "1. Tente fazer um código sem nenhum **for**! Ou seja, numpy permite operações em vetores e matrizes, onde: `np.array([1, 2]) + np.array([2, 2]) = np.array([3, 4])`.\n",
        "\n",
        "__Funções:__\n",
        "1. `np.sum(array)` soma os elementos do array. `array.sum()` tem o mesmo efeito!"
      ]
    },
    {
      "cell_type": "code",
      "metadata": {
        "id": "9ukkDGFGdtXR"
      },
      "source": [
        "def inner(array_1, array_2):\n",
        "    # Seu código aqui!\n",
        "    # Apague o return None abaixo e mude para seu retorno\n",
        "    return None"
      ],
      "execution_count": null,
      "outputs": []
    },
    {
      "cell_type": "code",
      "metadata": {
        "id": "oZjHGwX7dtXR",
        "outputId": "c28f55d1-a28d-4791-f06e-c9071e1eabb1"
      },
      "source": [
        "x1 = np.array([2, 4, 8])\n",
        "x2 = np.array([10, 100, 1000])\n",
        "assert_equal(20 + 400 + 8000, inner(x1, x2))"
      ],
      "execution_count": null,
      "outputs": [
        {
          "ename": "AssertionError",
          "evalue": "\nItems are not equal:\n ACTUAL: 8420\n DESIRED: None",
          "output_type": "error",
          "traceback": [
            "\u001b[0;31m-----------------------------------------------------------------------\u001b[0m",
            "\u001b[0;31mAssertionError\u001b[0m                        Traceback (most recent call last)",
            "\u001b[0;32m<ipython-input-55-036b81e3788e>\u001b[0m in \u001b[0;36m<module>\u001b[0;34m\u001b[0m\n\u001b[1;32m      1\u001b[0m \u001b[0mx1\u001b[0m \u001b[0;34m=\u001b[0m \u001b[0mnp\u001b[0m\u001b[0;34m.\u001b[0m\u001b[0marray\u001b[0m\u001b[0;34m(\u001b[0m\u001b[0;34m[\u001b[0m\u001b[0;36m2\u001b[0m\u001b[0;34m,\u001b[0m \u001b[0;36m4\u001b[0m\u001b[0;34m,\u001b[0m \u001b[0;36m8\u001b[0m\u001b[0;34m]\u001b[0m\u001b[0;34m)\u001b[0m\u001b[0;34m\u001b[0m\u001b[0;34m\u001b[0m\u001b[0m\n\u001b[1;32m      2\u001b[0m \u001b[0mx2\u001b[0m \u001b[0;34m=\u001b[0m \u001b[0mnp\u001b[0m\u001b[0;34m.\u001b[0m\u001b[0marray\u001b[0m\u001b[0;34m(\u001b[0m\u001b[0;34m[\u001b[0m\u001b[0;36m10\u001b[0m\u001b[0;34m,\u001b[0m \u001b[0;36m100\u001b[0m\u001b[0;34m,\u001b[0m \u001b[0;36m1000\u001b[0m\u001b[0;34m]\u001b[0m\u001b[0;34m)\u001b[0m\u001b[0;34m\u001b[0m\u001b[0;34m\u001b[0m\u001b[0m\n\u001b[0;32m----> 3\u001b[0;31m \u001b[0massert_equal\u001b[0m\u001b[0;34m(\u001b[0m\u001b[0;36m20\u001b[0m \u001b[0;34m+\u001b[0m \u001b[0;36m400\u001b[0m \u001b[0;34m+\u001b[0m \u001b[0;36m8000\u001b[0m\u001b[0;34m,\u001b[0m \u001b[0minner\u001b[0m\u001b[0;34m(\u001b[0m\u001b[0mx1\u001b[0m\u001b[0;34m,\u001b[0m \u001b[0mx2\u001b[0m\u001b[0;34m)\u001b[0m\u001b[0;34m)\u001b[0m\u001b[0;34m\u001b[0m\u001b[0;34m\u001b[0m\u001b[0m\n\u001b[0m",
            "\u001b[0;32m~/miniconda3/lib/python3.7/site-packages/numpy/testing/_private/utils.py\u001b[0m in \u001b[0;36massert_equal\u001b[0;34m(actual, desired, err_msg, verbose)\u001b[0m\n\u001b[1;32m    378\u001b[0m     \u001b[0;31m# isscalar test to check cases such as [np.nan] != np.nan\u001b[0m\u001b[0;34m\u001b[0m\u001b[0;34m\u001b[0m\u001b[0;34m\u001b[0m\u001b[0m\n\u001b[1;32m    379\u001b[0m     \u001b[0;32mif\u001b[0m \u001b[0misscalar\u001b[0m\u001b[0;34m(\u001b[0m\u001b[0mdesired\u001b[0m\u001b[0;34m)\u001b[0m \u001b[0;34m!=\u001b[0m \u001b[0misscalar\u001b[0m\u001b[0;34m(\u001b[0m\u001b[0mactual\u001b[0m\u001b[0;34m)\u001b[0m\u001b[0;34m:\u001b[0m\u001b[0;34m\u001b[0m\u001b[0;34m\u001b[0m\u001b[0m\n\u001b[0;32m--> 380\u001b[0;31m         \u001b[0;32mraise\u001b[0m \u001b[0mAssertionError\u001b[0m\u001b[0;34m(\u001b[0m\u001b[0mmsg\u001b[0m\u001b[0;34m)\u001b[0m\u001b[0;34m\u001b[0m\u001b[0;34m\u001b[0m\u001b[0m\n\u001b[0m\u001b[1;32m    381\u001b[0m \u001b[0;34m\u001b[0m\u001b[0m\n\u001b[1;32m    382\u001b[0m     \u001b[0;31m# Inf/nan/negative zero handling\u001b[0m\u001b[0;34m\u001b[0m\u001b[0;34m\u001b[0m\u001b[0;34m\u001b[0m\u001b[0m\n",
            "\u001b[0;31mAssertionError\u001b[0m: \nItems are not equal:\n ACTUAL: 8420\n DESIRED: None"
          ]
        }
      ]
    },
    {
      "cell_type": "markdown",
      "metadata": {
        "id": "EGO6IIHxdtXR"
      },
      "source": [
        "## Exercício 02\n",
        "\n",
        "Implemente uma função utilizando numpy que recebe duas matrizes, multiplica as duas e retorne o valor médio das células da multiplicação. Por exemplo, ao multiplicar:\n",
        "\n",
        "```\n",
        "[1 2]\n",
        "[3 4] \n",
        "\n",
        "com \n",
        "\n",
        "[2 1]\n",
        "[1 2]\n",
        "\n",
        "temos\n",
        "\n",
        "[4  5 ]\n",
        "[10 11]\n",
        "\n",
        "onde a média de [4, 5, 10, 11] é\n",
        "\n",
        "7.5, sua resposta final!\n",
        "```\n",
        "\n",
        "\n",
        "__Dicas:__  \n",
        "1. Use o operador @ para multiplicar matrizes!"
      ]
    },
    {
      "cell_type": "code",
      "metadata": {
        "id": "1nut037-dtXR"
      },
      "source": [
        "def medmult(X_1, X_2):\n",
        "    # Seu código aqui!\n",
        "    # Apague o return None abaixo e mude para seu retorno\n",
        "    return None"
      ],
      "execution_count": null,
      "outputs": []
    },
    {
      "cell_type": "code",
      "metadata": {
        "id": "MBUauh0fdtXR",
        "outputId": "5fc03a11-fed9-49c9-f52e-c27b6176a00a"
      },
      "source": [
        "X = np.array([1, 2, 3, 4]).reshape(2, 2)\n",
        "Y = np.array([2, 1, 1, 2]).reshape(2, 2)\n",
        "assert_equal(7.5, medmult(X, Y))"
      ],
      "execution_count": null,
      "outputs": [
        {
          "ename": "AssertionError",
          "evalue": "\nItems are not equal:\n ACTUAL: 7.5\n DESIRED: None",
          "output_type": "error",
          "traceback": [
            "\u001b[0;31m-----------------------------------------------------------------------\u001b[0m",
            "\u001b[0;31mAssertionError\u001b[0m                        Traceback (most recent call last)",
            "\u001b[0;32m<ipython-input-57-20ce98a4ecf3>\u001b[0m in \u001b[0;36m<module>\u001b[0;34m\u001b[0m\n\u001b[1;32m      1\u001b[0m \u001b[0mX\u001b[0m \u001b[0;34m=\u001b[0m \u001b[0mnp\u001b[0m\u001b[0;34m.\u001b[0m\u001b[0marray\u001b[0m\u001b[0;34m(\u001b[0m\u001b[0;34m[\u001b[0m\u001b[0;36m1\u001b[0m\u001b[0;34m,\u001b[0m \u001b[0;36m2\u001b[0m\u001b[0;34m,\u001b[0m \u001b[0;36m3\u001b[0m\u001b[0;34m,\u001b[0m \u001b[0;36m4\u001b[0m\u001b[0;34m]\u001b[0m\u001b[0;34m)\u001b[0m\u001b[0;34m.\u001b[0m\u001b[0mreshape\u001b[0m\u001b[0;34m(\u001b[0m\u001b[0;36m2\u001b[0m\u001b[0;34m,\u001b[0m \u001b[0;36m2\u001b[0m\u001b[0;34m)\u001b[0m\u001b[0;34m\u001b[0m\u001b[0;34m\u001b[0m\u001b[0m\n\u001b[1;32m      2\u001b[0m \u001b[0mY\u001b[0m \u001b[0;34m=\u001b[0m \u001b[0mnp\u001b[0m\u001b[0;34m.\u001b[0m\u001b[0marray\u001b[0m\u001b[0;34m(\u001b[0m\u001b[0;34m[\u001b[0m\u001b[0;36m2\u001b[0m\u001b[0;34m,\u001b[0m \u001b[0;36m1\u001b[0m\u001b[0;34m,\u001b[0m \u001b[0;36m1\u001b[0m\u001b[0;34m,\u001b[0m \u001b[0;36m2\u001b[0m\u001b[0;34m]\u001b[0m\u001b[0;34m)\u001b[0m\u001b[0;34m.\u001b[0m\u001b[0mreshape\u001b[0m\u001b[0;34m(\u001b[0m\u001b[0;36m2\u001b[0m\u001b[0;34m,\u001b[0m \u001b[0;36m2\u001b[0m\u001b[0;34m)\u001b[0m\u001b[0;34m\u001b[0m\u001b[0;34m\u001b[0m\u001b[0m\n\u001b[0;32m----> 3\u001b[0;31m \u001b[0massert_equal\u001b[0m\u001b[0;34m(\u001b[0m\u001b[0;36m7.5\u001b[0m\u001b[0;34m,\u001b[0m \u001b[0mmedmult\u001b[0m\u001b[0;34m(\u001b[0m\u001b[0mX\u001b[0m\u001b[0;34m,\u001b[0m \u001b[0mY\u001b[0m\u001b[0;34m)\u001b[0m\u001b[0;34m)\u001b[0m\u001b[0;34m\u001b[0m\u001b[0;34m\u001b[0m\u001b[0m\n\u001b[0m",
            "\u001b[0;32m~/miniconda3/lib/python3.7/site-packages/numpy/testing/_private/utils.py\u001b[0m in \u001b[0;36massert_equal\u001b[0;34m(actual, desired, err_msg, verbose)\u001b[0m\n\u001b[1;32m    378\u001b[0m     \u001b[0;31m# isscalar test to check cases such as [np.nan] != np.nan\u001b[0m\u001b[0;34m\u001b[0m\u001b[0;34m\u001b[0m\u001b[0;34m\u001b[0m\u001b[0m\n\u001b[1;32m    379\u001b[0m     \u001b[0;32mif\u001b[0m \u001b[0misscalar\u001b[0m\u001b[0;34m(\u001b[0m\u001b[0mdesired\u001b[0m\u001b[0;34m)\u001b[0m \u001b[0;34m!=\u001b[0m \u001b[0misscalar\u001b[0m\u001b[0;34m(\u001b[0m\u001b[0mactual\u001b[0m\u001b[0;34m)\u001b[0m\u001b[0;34m:\u001b[0m\u001b[0;34m\u001b[0m\u001b[0;34m\u001b[0m\u001b[0m\n\u001b[0;32m--> 380\u001b[0;31m         \u001b[0;32mraise\u001b[0m \u001b[0mAssertionError\u001b[0m\u001b[0;34m(\u001b[0m\u001b[0mmsg\u001b[0m\u001b[0;34m)\u001b[0m\u001b[0;34m\u001b[0m\u001b[0;34m\u001b[0m\u001b[0m\n\u001b[0m\u001b[1;32m    381\u001b[0m \u001b[0;34m\u001b[0m\u001b[0m\n\u001b[1;32m    382\u001b[0m     \u001b[0;31m# Inf/nan/negative zero handling\u001b[0m\u001b[0;34m\u001b[0m\u001b[0;34m\u001b[0m\u001b[0;34m\u001b[0m\u001b[0m\n",
            "\u001b[0;31mAssertionError\u001b[0m: \nItems are not equal:\n ACTUAL: 7.5\n DESIRED: None"
          ]
        }
      ]
    },
    {
      "cell_type": "code",
      "metadata": {
        "id": "YZvZqh5pdtXR"
      },
      "source": [
        ""
      ],
      "execution_count": null,
      "outputs": []
    }
  ]
}
