{
  "nbformat": 4,
  "nbformat_minor": 0,
  "metadata": {
    "kernelspec": {
      "display_name": "Python 3",
      "language": "python",
      "name": "python3"
    },
    "language_info": {
      "codemirror_mode": {
        "name": "ipython",
        "version": 3
      },
      "file_extension": ".py",
      "mimetype": "text/x-python",
      "name": "python",
      "nbconvert_exporter": "python",
      "pygments_lexer": "ipython3",
      "version": "3.7.3"
    },
    "colab": {
      "name": "dcc212l1.ipynb",
      "provenance": [],
      "toc_visible": true,
      "include_colab_link": true
    }
  },
  "cells": [
    {
      "cell_type": "markdown",
      "metadata": {
        "id": "view-in-github",
        "colab_type": "text"
      },
      "source": [
        "<a href=\"https://colab.research.google.com/github/brenocsp/intro-data-science/blob/main/lists/1-numpy.ipynb\" target=\"_parent\"><img src=\"https://colab.research.google.com/assets/colab-badge.svg\" alt=\"Open In Colab\"/></a>"
      ]
    },
    {
      "cell_type": "markdown",
      "metadata": {
        "id": "t_R8bD2mdtW0"
      },
      "source": [
        "# Lista 01 - Introdução e Revisão Numpy\n",
        "\n",
        "[NumPy](http://numpy.org) é um pacote incrivelmente poderoso em Python, onipresente em qualquer projeto de ciência de dados. Possui forte integração com o [Pandas](http://pandas.pydata.org), outra ferramenta que iremos abordar na matéria. NumPy adiciona suporte para matrizes multidimensionais e funções matemáticas que permitem que você execute facilmente cálculos de álgebra linear. Este notebook será uma coleção de exemplos de álgebra linear computados usando NumPy. \n",
        "\n",
        "## Numpy \n",
        "\n",
        "Para fazer uso de Numpy precisamos importar a biblioteca"
      ]
    },
    {
      "cell_type": "code",
      "metadata": {
        "id": "R2kSLMjtdtW4"
      },
      "source": [
        "# -*- coding: utf8\n",
        "\n",
        "import numpy as np"
      ],
      "execution_count": 1,
      "outputs": []
    },
    {
      "cell_type": "markdown",
      "metadata": {
        "id": "VRvVJ_rddtW6"
      },
      "source": [
        "Quando pensamos no lado prático de ciência de dados, um aspecto chave que ajuda na implementação de novos algoritmos é a vetorização. De forma simples, vetorização consiste do uso de tipos como **escalar**, **vetor** e **matriz** para realizar uma computação mais eficaz (em tempo de execução).\n",
        "\n",
        "Uma matriz é uma coleção de valores, normalmente representada por uma grade 𝑚 × 𝑛, onde 𝑚 é o número de linhas e 𝑛 é o número de colunas. Os comprimentos das arestas 𝑚 e 𝑛 não precisam ser necessariamente diferentes. Se tivermos 𝑚 = 𝑛, chamamos isso de matriz quadrada. Um caso particularmente interessante de uma matriz é quando 𝑚 = 1 ou 𝑛 = 1. Nesse caso, temos um caso especial de uma matriz que chamamos de vetor. Embora haja um objeto de matriz em NumPy, faremos tudo usando matrizes NumPy porque elas podem ter dimensões maiores que 2. \n",
        "\n",
        "1. **Escalar:** Um vetor de zero dimensões"
      ]
    },
    {
      "cell_type": "code",
      "metadata": {
        "id": "r4VKplRAdtW7",
        "outputId": "4b6e9480-51df-4823-90d3-1e34ccd209b6",
        "colab": {
          "base_uri": "https://localhost:8080/"
        }
      },
      "source": [
        "1"
      ],
      "execution_count": 2,
      "outputs": [
        {
          "output_type": "execute_result",
          "data": {
            "text/plain": [
              "1"
            ]
          },
          "metadata": {},
          "execution_count": 2
        }
      ]
    },
    {
      "cell_type": "markdown",
      "metadata": {
        "id": "JSPi6hvVdtW7"
      },
      "source": [
        "2. **Vetor:** Representa uma dimensão"
      ]
    },
    {
      "cell_type": "markdown",
      "metadata": {
        "id": "CaShtIOndtW8"
      },
      "source": [
        "Abaixo vamos criar um vetor simples. Inicialmente, vamos criar uma lista."
      ]
    },
    {
      "cell_type": "code",
      "metadata": {
        "id": "zmcvD49ZdtW8"
      },
      "source": [
        "data_list = [3.5, 5, 2, 8, 4.2]"
      ],
      "execution_count": 3,
      "outputs": []
    },
    {
      "cell_type": "markdown",
      "metadata": {
        "id": "9GwtrRYrdtW9"
      },
      "source": [
        "Observe o tipo da mesma."
      ]
    },
    {
      "cell_type": "code",
      "metadata": {
        "id": "e8VsdhuHdtW9",
        "outputId": "aa8e647d-13f9-4ff9-8afa-9e9123993dd8",
        "colab": {
          "base_uri": "https://localhost:8080/"
        }
      },
      "source": [
        "type(data_list)"
      ],
      "execution_count": 4,
      "outputs": [
        {
          "output_type": "execute_result",
          "data": {
            "text/plain": [
              "list"
            ]
          },
          "metadata": {},
          "execution_count": 4
        }
      ]
    },
    {
      "cell_type": "markdown",
      "metadata": {
        "id": "W4S46uLadtW-"
      },
      "source": [
        "Embora vetores e listas sejam parecidos, vetores Numpy são otimizados para operações de Álgebra Linear. Ciência de Dados faz bastante uso de tais operações, sendo este um dos motivos da dependência em Numpy.\n",
        "\n",
        "Abaixo criamos um vetor."
      ]
    },
    {
      "cell_type": "code",
      "metadata": {
        "id": "7RpYOoUFdtW_",
        "outputId": "2ac70a1f-4b5c-48c7-bee2-7c43b38fe44a",
        "colab": {
          "base_uri": "https://localhost:8080/"
        }
      },
      "source": [
        "data = np.array(data_list)\n",
        "print(data)\n",
        "print(type(data))"
      ],
      "execution_count": 5,
      "outputs": [
        {
          "output_type": "stream",
          "name": "stdout",
          "text": [
            "[3.5 5.  2.  8.  4.2]\n",
            "<class 'numpy.ndarray'>\n"
          ]
        }
      ]
    },
    {
      "cell_type": "markdown",
      "metadata": {
        "id": "8lBOVveodtW_"
      },
      "source": [
        "Observe como podemos somar o mesmo com um número. Não é possível fazer tal operação com listas."
      ]
    },
    {
      "cell_type": "code",
      "metadata": {
        "id": "V-_U83pQdtXA",
        "outputId": "a9da658c-33b3-454c-a92d-5f5e0528aba3",
        "colab": {
          "base_uri": "https://localhost:8080/"
        }
      },
      "source": [
        "data + 7"
      ],
      "execution_count": 6,
      "outputs": [
        {
          "output_type": "execute_result",
          "data": {
            "text/plain": [
              "array([10.5, 12. ,  9. , 15. , 11.2])"
            ]
          },
          "metadata": {},
          "execution_count": 6
        }
      ]
    },
    {
      "cell_type": "markdown",
      "metadata": {
        "id": "BUKYPPaodtXA"
      },
      "source": [
        "3. **Matrizes:** Representam duas dimensões."
      ]
    },
    {
      "cell_type": "code",
      "metadata": {
        "id": "JXwbkdHKdtXC",
        "outputId": "227f1cf7-8ef2-4b78-95cf-a89e0f1c1337",
        "colab": {
          "base_uri": "https://localhost:8080/"
        }
      },
      "source": [
        "X = np.array([[2, 4],\n",
        "              [1, 3]])\n",
        "X"
      ],
      "execution_count": 7,
      "outputs": [
        {
          "output_type": "execute_result",
          "data": {
            "text/plain": [
              "array([[2, 4],\n",
              "       [1, 3]])"
            ]
          },
          "metadata": {},
          "execution_count": 7
        }
      ]
    },
    {
      "cell_type": "markdown",
      "metadata": {
        "id": "_cuEIhcCdtXC"
      },
      "source": [
        "Podemos indexar as matrizes e os vetores."
      ]
    },
    {
      "cell_type": "code",
      "metadata": {
        "id": "bgcQnP0GdtXD",
        "outputId": "9cff5f6d-acfc-4711-de33-53e441794aca",
        "colab": {
          "base_uri": "https://localhost:8080/"
        }
      },
      "source": [
        "data[0]"
      ],
      "execution_count": 8,
      "outputs": [
        {
          "output_type": "execute_result",
          "data": {
            "text/plain": [
              "3.5"
            ]
          },
          "metadata": {},
          "execution_count": 8
        }
      ]
    },
    {
      "cell_type": "code",
      "metadata": {
        "id": "yHtvo3lcdtXD",
        "outputId": "c1af629a-b5b6-45e3-9e39-ba0dea5e9ddb",
        "colab": {
          "base_uri": "https://localhost:8080/"
        }
      },
      "source": [
        "X[0, 1] # aqui é primeira linha, segunda coluna"
      ],
      "execution_count": 9,
      "outputs": [
        {
          "output_type": "execute_result",
          "data": {
            "text/plain": [
              "4"
            ]
          },
          "metadata": {},
          "execution_count": 9
        }
      ]
    },
    {
      "cell_type": "markdown",
      "metadata": {
        "id": "Gbor_GMCdtXD"
      },
      "source": [
        "Podemos também criar vetores/matrizes de números aleatórios"
      ]
    },
    {
      "cell_type": "code",
      "metadata": {
        "id": "JLprpSGvdtXD",
        "outputId": "781d71ab-02cb-4b8d-b837-773ddd0ac98f",
        "colab": {
          "base_uri": "https://localhost:8080/"
        }
      },
      "source": [
        "X = np.random.randn(4, 3) # Gera números aleatórios de uma normal\n",
        "print(X)"
      ],
      "execution_count": 10,
      "outputs": [
        {
          "output_type": "stream",
          "name": "stdout",
          "text": [
            "[[-1.23184283  0.43182574 -0.83534294]\n",
            " [ 0.5893279  -0.53243119  1.32754491]\n",
            " [-0.55571275  1.81459437 -0.35629384]\n",
            " [ 1.67995889  1.44131871 -0.12580756]]\n"
          ]
        }
      ]
    },
    {
      "cell_type": "markdown",
      "metadata": {
        "id": "tGDbETg9dtXE"
      },
      "source": [
        "### Indexando\n",
        "\n",
        "Pegando a primeira linha"
      ]
    },
    {
      "cell_type": "code",
      "metadata": {
        "id": "io2tvhgfdtXE",
        "outputId": "8d580da9-8cc8-4621-d164-b3d020595cd4",
        "colab": {
          "base_uri": "https://localhost:8080/"
        }
      },
      "source": [
        "X[0] # observe que 0 é a linha 1, compare com o X[0, 1] de antes."
      ],
      "execution_count": 11,
      "outputs": [
        {
          "output_type": "execute_result",
          "data": {
            "text/plain": [
              "array([-1.23184283,  0.43182574, -0.83534294])"
            ]
          },
          "metadata": {},
          "execution_count": 11
        }
      ]
    },
    {
      "cell_type": "code",
      "metadata": {
        "id": "p5qDBLTudtXE",
        "outputId": "c5650c16-318e-4e85-d0b3-9f738483ccb7",
        "colab": {
          "base_uri": "https://localhost:8080/"
        }
      },
      "source": [
        "X[1] # segunda"
      ],
      "execution_count": 12,
      "outputs": [
        {
          "output_type": "execute_result",
          "data": {
            "text/plain": [
              "array([ 0.5893279 , -0.53243119,  1.32754491])"
            ]
          },
          "metadata": {},
          "execution_count": 12
        }
      ]
    },
    {
      "cell_type": "code",
      "metadata": {
        "id": "iA-YtwfzdtXF",
        "outputId": "ae2faa48-54d0-4e92-8c0c-1ac2fa3fb4e0",
        "colab": {
          "base_uri": "https://localhost:8080/"
        }
      },
      "source": [
        "X[2] # terceira"
      ],
      "execution_count": 13,
      "outputs": [
        {
          "output_type": "execute_result",
          "data": {
            "text/plain": [
              "array([-0.55571275,  1.81459437, -0.35629384])"
            ]
          },
          "metadata": {},
          "execution_count": 13
        }
      ]
    },
    {
      "cell_type": "markdown",
      "metadata": {
        "id": "MVAZI1v-dtXF"
      },
      "source": [
        "Observe como todos os tipos retornados são `array`. Array é o nome genérico de Numpy para vetores e matrizes. "
      ]
    },
    {
      "cell_type": "markdown",
      "metadata": {
        "id": "uHhvj_7zdtXF"
      },
      "source": [
        "`X[:, c]` pega uma coluna"
      ]
    },
    {
      "cell_type": "code",
      "metadata": {
        "id": "OpSJZVPwdtXF",
        "outputId": "33953ae6-f909-4168-f1c6-6611941e7b00",
        "colab": {
          "base_uri": "https://localhost:8080/"
        }
      },
      "source": [
        "X[:, 0]"
      ],
      "execution_count": 14,
      "outputs": [
        {
          "output_type": "execute_result",
          "data": {
            "text/plain": [
              "array([-1.23184283,  0.5893279 , -0.55571275,  1.67995889])"
            ]
          },
          "metadata": {},
          "execution_count": 14
        }
      ]
    },
    {
      "cell_type": "code",
      "metadata": {
        "id": "eQx_wFsXdtXG",
        "outputId": "0d72bd1e-b627-42ab-9990-69b16573bbd9",
        "colab": {
          "base_uri": "https://localhost:8080/"
        }
      },
      "source": [
        "X[:, 1]"
      ],
      "execution_count": 15,
      "outputs": [
        {
          "output_type": "execute_result",
          "data": {
            "text/plain": [
              "array([ 0.43182574, -0.53243119,  1.81459437,  1.44131871])"
            ]
          },
          "metadata": {},
          "execution_count": 15
        }
      ]
    },
    {
      "cell_type": "markdown",
      "metadata": {
        "id": "tfbrxH-PdtXG"
      },
      "source": [
        "`X[um_vetor]` pega as linhas da matriz. `X[:, um_vetor]` pega as colunas"
      ]
    },
    {
      "cell_type": "code",
      "metadata": {
        "id": "_CcNX2fQdtXG",
        "outputId": "c78d658a-3394-42f5-b243-094a9c87247d",
        "colab": {
          "base_uri": "https://localhost:8080/"
        }
      },
      "source": [
        "X[[0, 0, 1]] # observe que pego a primeira linha, indexada por 0, duas vezes"
      ],
      "execution_count": 16,
      "outputs": [
        {
          "output_type": "execute_result",
          "data": {
            "text/plain": [
              "array([[-1.23184283,  0.43182574, -0.83534294],\n",
              "       [-1.23184283,  0.43182574, -0.83534294],\n",
              "       [ 0.5893279 , -0.53243119,  1.32754491]])"
            ]
          },
          "metadata": {},
          "execution_count": 16
        }
      ]
    },
    {
      "cell_type": "markdown",
      "metadata": {
        "id": "AYRmrJuvdtXH"
      },
      "source": [
        "Abaixo pego a segunda a primeira coluna"
      ]
    },
    {
      "cell_type": "code",
      "metadata": {
        "id": "5AWp7hNmdtXH",
        "outputId": "bab0f4ef-f743-47f4-9aa0-a90717993ae2",
        "colab": {
          "base_uri": "https://localhost:8080/"
        }
      },
      "source": [
        "X[:, [1, 0]]"
      ],
      "execution_count": 17,
      "outputs": [
        {
          "output_type": "execute_result",
          "data": {
            "text/plain": [
              "array([[ 0.43182574, -1.23184283],\n",
              "       [-0.53243119,  0.5893279 ],\n",
              "       [ 1.81459437, -0.55571275],\n",
              "       [ 1.44131871,  1.67995889]])"
            ]
          },
          "metadata": {},
          "execution_count": 17
        }
      ]
    },
    {
      "cell_type": "markdown",
      "metadata": {
        "id": "OSOXzvExdtXH"
      },
      "source": [
        "### Indexação Booleana\n",
        "\n",
        "`X[vetor_booleano]` retorna as linhas (ou colunas quando X[:, vetor_booleano]) onde o vetor é true"
      ]
    },
    {
      "cell_type": "code",
      "metadata": {
        "id": "W1ZEntqadtXH",
        "outputId": "680d912a-f9f4-4302-92db-9a76fe5c3d7a",
        "colab": {
          "base_uri": "https://localhost:8080/"
        }
      },
      "source": [
        "X[[True, False, True, False]]"
      ],
      "execution_count": 18,
      "outputs": [
        {
          "output_type": "execute_result",
          "data": {
            "text/plain": [
              "array([[-1.23184283,  0.43182574, -0.83534294],\n",
              "       [-0.55571275,  1.81459437, -0.35629384]])"
            ]
          },
          "metadata": {},
          "execution_count": 18
        }
      ]
    },
    {
      "cell_type": "code",
      "metadata": {
        "id": "Hy0YCfB_dtXH",
        "outputId": "4206aaaa-3c59-4b95-8235-06fc119d3b75",
        "colab": {
          "base_uri": "https://localhost:8080/"
        }
      },
      "source": [
        "X[:, [False, True, True]]"
      ],
      "execution_count": 19,
      "outputs": [
        {
          "output_type": "execute_result",
          "data": {
            "text/plain": [
              "array([[ 0.43182574, -0.83534294],\n",
              "       [-0.53243119,  1.32754491],\n",
              "       [ 1.81459437, -0.35629384],\n",
              "       [ 1.44131871, -0.12580756]])"
            ]
          },
          "metadata": {},
          "execution_count": 19
        }
      ]
    },
    {
      "cell_type": "markdown",
      "metadata": {
        "id": "yklDfvTsdtXI"
      },
      "source": [
        "### Reshape, Flatten e Ravel\n",
        "\n",
        "Todo vetor ou matriz pode ser redimensionado. Observe como uma matriz abaixo de 9x8=72 elementos. Podemos redimensionar os mesmos para outros arrays de tamanho 72."
      ]
    },
    {
      "cell_type": "code",
      "metadata": {
        "id": "02vrOkZTdtXI"
      },
      "source": [
        "X = np.random.randn(9, 8)"
      ],
      "execution_count": 20,
      "outputs": []
    },
    {
      "cell_type": "markdown",
      "metadata": {
        "id": "fUuDziGIdtXI"
      },
      "source": [
        "Criando uma matriz de 18x4."
      ]
    },
    {
      "cell_type": "code",
      "metadata": {
        "id": "NNTpNckrdtXI",
        "outputId": "2d7f9d63-0ae7-4660-b064-8827c6a734be",
        "colab": {
          "base_uri": "https://localhost:8080/"
        }
      },
      "source": [
        "X.reshape((18, 4))"
      ],
      "execution_count": 21,
      "outputs": [
        {
          "output_type": "execute_result",
          "data": {
            "text/plain": [
              "array([[-0.17970621, -1.24875989,  0.01861571, -0.11001456],\n",
              "       [-1.10683558, -0.47760269, -0.39998225, -0.86054498],\n",
              "       [-0.51879674,  0.50323096, -0.42370485, -0.36233415],\n",
              "       [-0.41568672,  0.20179417, -0.6660919 ,  1.92067523],\n",
              "       [-0.67943359, -0.15811295,  0.50740816, -1.04811915],\n",
              "       [ 1.19065312, -1.7270781 ,  0.33529723,  1.16845736],\n",
              "       [-0.06735513, -0.11121089,  0.62308323,  1.23334824],\n",
              "       [-0.01048065,  2.24495948,  0.25311779, -0.13397996],\n",
              "       [-0.49255472,  0.62327292,  0.48610089, -0.37135664],\n",
              "       [ 0.38091857,  0.23364658, -0.82455127,  1.51886774],\n",
              "       [-0.7764821 , -1.1796879 ,  1.77521815,  1.63964595],\n",
              "       [-0.2442546 ,  0.24717916,  0.47531511, -0.53025224],\n",
              "       [ 0.17250864,  0.33546276, -0.09453447, -1.46317617],\n",
              "       [ 0.0855785 ,  1.33655044, -0.34246616, -0.02009538],\n",
              "       [ 0.57417809, -1.18887541,  0.78509823,  1.10529921],\n",
              "       [ 0.53992893,  1.18621002, -1.08244515, -0.08014278],\n",
              "       [-0.7042871 , -0.80465107, -0.3757876 , -1.70052292],\n",
              "       [-0.62617103,  1.54189888, -0.30598297,  0.90372599]])"
            ]
          },
          "metadata": {},
          "execution_count": 21
        }
      ]
    },
    {
      "cell_type": "markdown",
      "metadata": {
        "id": "n9chnvE_dtXI"
      },
      "source": [
        "Ou um vetor de 72"
      ]
    },
    {
      "cell_type": "code",
      "metadata": {
        "id": "9oxRXvtsdtXI",
        "outputId": "08340a5c-4d18-4c5c-d75c-4d7b88849f59",
        "colab": {
          "base_uri": "https://localhost:8080/"
        }
      },
      "source": [
        "X.reshape(72)"
      ],
      "execution_count": 22,
      "outputs": [
        {
          "output_type": "execute_result",
          "data": {
            "text/plain": [
              "array([-0.17970621, -1.24875989,  0.01861571, -0.11001456, -1.10683558,\n",
              "       -0.47760269, -0.39998225, -0.86054498, -0.51879674,  0.50323096,\n",
              "       -0.42370485, -0.36233415, -0.41568672,  0.20179417, -0.6660919 ,\n",
              "        1.92067523, -0.67943359, -0.15811295,  0.50740816, -1.04811915,\n",
              "        1.19065312, -1.7270781 ,  0.33529723,  1.16845736, -0.06735513,\n",
              "       -0.11121089,  0.62308323,  1.23334824, -0.01048065,  2.24495948,\n",
              "        0.25311779, -0.13397996, -0.49255472,  0.62327292,  0.48610089,\n",
              "       -0.37135664,  0.38091857,  0.23364658, -0.82455127,  1.51886774,\n",
              "       -0.7764821 , -1.1796879 ,  1.77521815,  1.63964595, -0.2442546 ,\n",
              "        0.24717916,  0.47531511, -0.53025224,  0.17250864,  0.33546276,\n",
              "       -0.09453447, -1.46317617,  0.0855785 ,  1.33655044, -0.34246616,\n",
              "       -0.02009538,  0.57417809, -1.18887541,  0.78509823,  1.10529921,\n",
              "        0.53992893,  1.18621002, -1.08244515, -0.08014278, -0.7042871 ,\n",
              "       -0.80465107, -0.3757876 , -1.70052292, -0.62617103,  1.54189888,\n",
              "       -0.30598297,  0.90372599])"
            ]
          },
          "metadata": {},
          "execution_count": 22
        }
      ]
    },
    {
      "cell_type": "markdown",
      "metadata": {
        "id": "jKwPuivWdtXJ"
      },
      "source": [
        "A chamada flatten e ravel faz a mesma coisa, criam uma visão de uma dimensão da matriz."
      ]
    },
    {
      "cell_type": "code",
      "metadata": {
        "id": "fmVIea1JdtXJ",
        "outputId": "206bfcd1-41b6-43d7-aac7-68232dd345b2",
        "colab": {
          "base_uri": "https://localhost:8080/"
        }
      },
      "source": [
        "X.flatten()"
      ],
      "execution_count": 23,
      "outputs": [
        {
          "output_type": "execute_result",
          "data": {
            "text/plain": [
              "array([-0.17970621, -1.24875989,  0.01861571, -0.11001456, -1.10683558,\n",
              "       -0.47760269, -0.39998225, -0.86054498, -0.51879674,  0.50323096,\n",
              "       -0.42370485, -0.36233415, -0.41568672,  0.20179417, -0.6660919 ,\n",
              "        1.92067523, -0.67943359, -0.15811295,  0.50740816, -1.04811915,\n",
              "        1.19065312, -1.7270781 ,  0.33529723,  1.16845736, -0.06735513,\n",
              "       -0.11121089,  0.62308323,  1.23334824, -0.01048065,  2.24495948,\n",
              "        0.25311779, -0.13397996, -0.49255472,  0.62327292,  0.48610089,\n",
              "       -0.37135664,  0.38091857,  0.23364658, -0.82455127,  1.51886774,\n",
              "       -0.7764821 , -1.1796879 ,  1.77521815,  1.63964595, -0.2442546 ,\n",
              "        0.24717916,  0.47531511, -0.53025224,  0.17250864,  0.33546276,\n",
              "       -0.09453447, -1.46317617,  0.0855785 ,  1.33655044, -0.34246616,\n",
              "       -0.02009538,  0.57417809, -1.18887541,  0.78509823,  1.10529921,\n",
              "        0.53992893,  1.18621002, -1.08244515, -0.08014278, -0.7042871 ,\n",
              "       -0.80465107, -0.3757876 , -1.70052292, -0.62617103,  1.54189888,\n",
              "       -0.30598297,  0.90372599])"
            ]
          },
          "metadata": {},
          "execution_count": 23
        }
      ]
    },
    {
      "cell_type": "code",
      "metadata": {
        "id": "JPYyDdOzdtXJ",
        "outputId": "01d496bf-d2c0-4853-b055-42d0cd40a40f",
        "colab": {
          "base_uri": "https://localhost:8080/"
        }
      },
      "source": [
        "X.ravel()"
      ],
      "execution_count": 24,
      "outputs": [
        {
          "output_type": "execute_result",
          "data": {
            "text/plain": [
              "array([-0.17970621, -1.24875989,  0.01861571, -0.11001456, -1.10683558,\n",
              "       -0.47760269, -0.39998225, -0.86054498, -0.51879674,  0.50323096,\n",
              "       -0.42370485, -0.36233415, -0.41568672,  0.20179417, -0.6660919 ,\n",
              "        1.92067523, -0.67943359, -0.15811295,  0.50740816, -1.04811915,\n",
              "        1.19065312, -1.7270781 ,  0.33529723,  1.16845736, -0.06735513,\n",
              "       -0.11121089,  0.62308323,  1.23334824, -0.01048065,  2.24495948,\n",
              "        0.25311779, -0.13397996, -0.49255472,  0.62327292,  0.48610089,\n",
              "       -0.37135664,  0.38091857,  0.23364658, -0.82455127,  1.51886774,\n",
              "       -0.7764821 , -1.1796879 ,  1.77521815,  1.63964595, -0.2442546 ,\n",
              "        0.24717916,  0.47531511, -0.53025224,  0.17250864,  0.33546276,\n",
              "       -0.09453447, -1.46317617,  0.0855785 ,  1.33655044, -0.34246616,\n",
              "       -0.02009538,  0.57417809, -1.18887541,  0.78509823,  1.10529921,\n",
              "        0.53992893,  1.18621002, -1.08244515, -0.08014278, -0.7042871 ,\n",
              "       -0.80465107, -0.3757876 , -1.70052292, -0.62617103,  1.54189888,\n",
              "       -0.30598297,  0.90372599])"
            ]
          },
          "metadata": {},
          "execution_count": 24
        }
      ]
    },
    {
      "cell_type": "markdown",
      "metadata": {
        "id": "F0PxYe8PdtXJ"
      },
      "source": [
        "As funções incorporadas ao NumPy podem ser facilmente chamadas em matrizes. A maioria das funções são aplicadas a um elemento de array (como a multiplicação escalar). Por exemplo, se chamarmos `log()` em um array, o logaritmo será obtido de cada elemento. "
      ]
    },
    {
      "cell_type": "code",
      "metadata": {
        "id": "GOtHh6vudtXJ",
        "outputId": "25e4507b-9a53-4fa0-82be-af82877f5f76",
        "colab": {
          "base_uri": "https://localhost:8080/"
        }
      },
      "source": [
        "np.log(data)"
      ],
      "execution_count": 25,
      "outputs": [
        {
          "output_type": "execute_result",
          "data": {
            "text/plain": [
              "array([1.25276297, 1.60943791, 0.69314718, 2.07944154, 1.43508453])"
            ]
          },
          "metadata": {},
          "execution_count": 25
        }
      ]
    },
    {
      "cell_type": "markdown",
      "metadata": {
        "id": "1SsrI1AndtXJ"
      },
      "source": [
        "Mean tira a média"
      ]
    },
    {
      "cell_type": "code",
      "metadata": {
        "id": "BPd34XiPdtXK",
        "outputId": "77f60452-73b4-4062-e7c1-b3a78839e90b",
        "colab": {
          "base_uri": "https://localhost:8080/"
        }
      },
      "source": [
        "np.mean(data)"
      ],
      "execution_count": 26,
      "outputs": [
        {
          "output_type": "execute_result",
          "data": {
            "text/plain": [
              "4.54"
            ]
          },
          "metadata": {},
          "execution_count": 26
        }
      ]
    },
    {
      "cell_type": "markdown",
      "metadata": {
        "id": "qBBKMRzUdtXK"
      },
      "source": [
        "Algumas funções podem ser chamadas direto no vetor, nem todas serão assim. O importante é ler a [documentação](http://numpy.org) e aprender. Com um pouco de prática você vai se acostumando."
      ]
    },
    {
      "cell_type": "code",
      "metadata": {
        "id": "u8_9QfxudtXK",
        "outputId": "976c492b-faa8-4952-d664-f40500c78371",
        "colab": {
          "base_uri": "https://localhost:8080/"
        }
      },
      "source": [
        "data.mean()"
      ],
      "execution_count": 27,
      "outputs": [
        {
          "output_type": "execute_result",
          "data": {
            "text/plain": [
              "4.54"
            ]
          },
          "metadata": {},
          "execution_count": 27
        }
      ]
    },
    {
      "cell_type": "markdown",
      "metadata": {
        "id": "u_Nf7RwYdtXK"
      },
      "source": [
        "Abaixo temos a mediana,"
      ]
    },
    {
      "cell_type": "code",
      "metadata": {
        "id": "H_ylvN53dtXK",
        "outputId": "9463f822-b80e-465a-b980-342aa640e79f",
        "colab": {
          "base_uri": "https://localhost:8080/"
        }
      },
      "source": [
        "np.median(data) # por exemplo, não existe data.median(). Faz sentido? Não. Mas é assim."
      ],
      "execution_count": 28,
      "outputs": [
        {
          "output_type": "execute_result",
          "data": {
            "text/plain": [
              "4.2"
            ]
          },
          "metadata": {},
          "execution_count": 28
        }
      ]
    },
    {
      "cell_type": "markdown",
      "metadata": {
        "id": "R05S-BWYdtXK"
      },
      "source": [
        "Em matrizes as funções operam em todos os elementos."
      ]
    },
    {
      "cell_type": "code",
      "metadata": {
        "id": "_cCMkQRHdtXL",
        "outputId": "9f1bc9ae-a3da-4668-9d50-48803bb34ffe",
        "colab": {
          "base_uri": "https://localhost:8080/"
        }
      },
      "source": [
        "np.median(X)"
      ],
      "execution_count": 29,
      "outputs": [
        {
          "output_type": "execute_result",
          "data": {
            "text/plain": [
              "-0.08733862369419411"
            ]
          },
          "metadata": {},
          "execution_count": 29
        }
      ]
    },
    {
      "cell_type": "code",
      "metadata": {
        "id": "TSQ3PB5DdtXL",
        "outputId": "8e5e5ace-9f9c-49f2-e28e-c4a4b6d95146",
        "colab": {
          "base_uri": "https://localhost:8080/"
        }
      },
      "source": [
        "X.mean()"
      ],
      "execution_count": 30,
      "outputs": [
        {
          "output_type": "execute_result",
          "data": {
            "text/plain": [
              "0.031015789058107708"
            ]
          },
          "metadata": {},
          "execution_count": 30
        }
      ]
    },
    {
      "cell_type": "code",
      "metadata": {
        "id": "rnqBraJydtXL",
        "outputId": "2d2ce2b8-17c4-4af7-a44d-18e37db2598c",
        "colab": {
          "base_uri": "https://localhost:8080/"
        }
      },
      "source": [
        "np.log(X + 10)"
      ],
      "execution_count": 31,
      "outputs": [
        {
          "output_type": "execute_result",
          "data": {
            "text/plain": [
              "array([[2.28445104, 2.16919542, 2.30444493, 2.29152267, 2.18528294,\n",
              "        2.25364664, 2.26176495, 2.21260076],\n",
              "       [2.24931123, 2.35168292, 2.25929079, 2.26567895, 2.26012773,\n",
              "        2.3225636 , 2.2336538 , 2.47827431],\n",
              "       [2.2322234 , 2.28664747, 2.35208055, 2.19186366, 2.41507889,\n",
              "        2.11298776, 2.33556495, 2.4130935 ],\n",
              "       [2.29582679, 2.2914017 , 2.3630293 , 2.41888688, 2.30153648,\n",
              "        2.50511438, 2.32758183, 2.28909653],\n",
              "       [2.2520752 , 2.36304715, 2.35005066, 2.26474234, 2.33996937,\n",
              "        2.32568098, 2.2165313 , 2.44398636],\n",
              "       [2.22175652, 2.17705725, 2.46599717, 2.45441703, 2.27785638,\n",
              "        2.32700246, 2.34902155, 2.24810227],\n",
              "       [2.31968885, 2.33558097, 2.29308668, 2.14438902, 2.31110653,\n",
              "        2.42803206, 2.26773832, 2.30057353],\n",
              "       [2.358415  , 2.17601508, 2.37816539, 2.4074224 , 2.3551708 ,\n",
              "        2.41468177, 2.18802179, 2.29453853],\n",
              "       [2.22955332, 2.2186978 , 2.26428205, 2.11619251, 2.23792165,\n",
              "        2.44598379, 2.27150889, 2.38910456]])"
            ]
          },
          "metadata": {},
          "execution_count": 31
        }
      ]
    },
    {
      "cell_type": "markdown",
      "metadata": {
        "id": "AtQMgjJwdtXL"
      },
      "source": [
        "Porém, caso você queira a media de linhas ou colunas use `axis`. Antes, vamos ver o tamanho do vetor."
      ]
    },
    {
      "cell_type": "code",
      "metadata": {
        "id": "07DsXolhdtXL",
        "outputId": "22a7cf82-68aa-4c1b-f632-261fb3628d2f",
        "colab": {
          "base_uri": "https://localhost:8080/"
        }
      },
      "source": [
        "X.shape"
      ],
      "execution_count": 32,
      "outputs": [
        {
          "output_type": "execute_result",
          "data": {
            "text/plain": [
              "(9, 8)"
            ]
          },
          "metadata": {},
          "execution_count": 32
        }
      ]
    },
    {
      "cell_type": "code",
      "metadata": {
        "id": "Lfonk-iYdtXL",
        "outputId": "e46dcb70-09f7-499d-f245-8d655c5e298d",
        "colab": {
          "base_uri": "https://localhost:8080/"
        }
      },
      "source": [
        "np.mean(X, axis=0) # média das colunas. como temos 8 colunas, temos 8 elementos."
      ],
      "execution_count": 33,
      "outputs": [
        {
          "output_type": "execute_result",
          "data": {
            "text/plain": [
              "array([-0.29688098, -0.35881461,  0.36683305, -0.11969224, -0.02292772,\n",
              "        0.53195088, -0.28419884,  0.43185677])"
            ]
          },
          "metadata": {},
          "execution_count": 33
        }
      ]
    },
    {
      "cell_type": "code",
      "metadata": {
        "id": "g9wULwg5dtXM",
        "outputId": "3da1f345-ee1c-4845-84c5-b6b25e653f0d",
        "colab": {
          "base_uri": "https://localhost:8080/"
        }
      },
      "source": [
        "np.mean(X, axis=0).shape"
      ],
      "execution_count": 34,
      "outputs": [
        {
          "output_type": "execute_result",
          "data": {
            "text/plain": [
              "(8,)"
            ]
          },
          "metadata": {},
          "execution_count": 34
        }
      ]
    },
    {
      "cell_type": "code",
      "metadata": {
        "id": "bdTijNVSdtXM",
        "outputId": "626e103a-ff3b-4570-c20a-52206dc3a15f",
        "colab": {
          "base_uri": "https://localhost:8080/"
        }
      },
      "source": [
        "np.mean(X, axis=1) # média das linhas"
      ],
      "execution_count": 35,
      "outputs": [
        {
          "output_type": "execute_result",
          "data": {
            "text/plain": [
              "array([-0.54560381,  0.02988575, -0.05136599,  0.50393526,  0.19429301,\n",
              "        0.17583519,  0.00122852,  0.22990639, -0.25897223])"
            ]
          },
          "metadata": {},
          "execution_count": 35
        }
      ]
    },
    {
      "cell_type": "code",
      "metadata": {
        "id": "iFILXvWqdtXM",
        "outputId": "c986e3d4-fe0c-4c7a-d7ac-69428491ef34",
        "colab": {
          "base_uri": "https://localhost:8080/"
        }
      },
      "source": [
        "np.mean(X, axis=1).shape"
      ],
      "execution_count": 36,
      "outputs": [
        {
          "output_type": "execute_result",
          "data": {
            "text/plain": [
              "(9,)"
            ]
          },
          "metadata": {},
          "execution_count": 36
        }
      ]
    },
    {
      "cell_type": "markdown",
      "metadata": {
        "id": "wI-biQ3BdtXM"
      },
      "source": [
        "Lembre-se que eixo 0 é coluna. Eixo 1 é linhas."
      ]
    },
    {
      "cell_type": "markdown",
      "metadata": {
        "id": "JMoTZbmSdtXM"
      },
      "source": [
        "### Multiplicação de Matrizes"
      ]
    },
    {
      "cell_type": "markdown",
      "metadata": {
        "id": "a5hDffK_dtXM"
      },
      "source": [
        "Para transpor uma matriz fazemos uso de .T"
      ]
    },
    {
      "cell_type": "code",
      "metadata": {
        "id": "CU_0W_1NdtXM",
        "outputId": "5324d11f-a1bc-4fad-89f9-2a22609421f0",
        "colab": {
          "base_uri": "https://localhost:8080/"
        }
      },
      "source": [
        "X.shape"
      ],
      "execution_count": 37,
      "outputs": [
        {
          "output_type": "execute_result",
          "data": {
            "text/plain": [
              "(9, 8)"
            ]
          },
          "metadata": {},
          "execution_count": 37
        }
      ]
    },
    {
      "cell_type": "code",
      "metadata": {
        "id": "iDlcDG4NdtXM",
        "outputId": "73b2e11a-9081-49d8-fbe7-be55c69104d2",
        "colab": {
          "base_uri": "https://localhost:8080/"
        }
      },
      "source": [
        "X.T.shape"
      ],
      "execution_count": 38,
      "outputs": [
        {
          "output_type": "execute_result",
          "data": {
            "text/plain": [
              "(8, 9)"
            ]
          },
          "metadata": {},
          "execution_count": 38
        }
      ]
    },
    {
      "cell_type": "code",
      "metadata": {
        "id": "0TPccexHdtXN",
        "outputId": "e5f21488-da4a-4aa3-9992-90258f27f1b2",
        "colab": {
          "base_uri": "https://localhost:8080/"
        }
      },
      "source": [
        "X.T"
      ],
      "execution_count": 39,
      "outputs": [
        {
          "output_type": "execute_result",
          "data": {
            "text/plain": [
              "array([[-0.17970621, -0.51879674, -0.67943359, -0.06735513, -0.49255472,\n",
              "        -0.7764821 ,  0.17250864,  0.57417809, -0.7042871 ],\n",
              "       [-1.24875989,  0.50323096, -0.15811295, -0.11121089,  0.62327292,\n",
              "        -1.1796879 ,  0.33546276, -1.18887541, -0.80465107],\n",
              "       [ 0.01861571, -0.42370485,  0.50740816,  0.62308323,  0.48610089,\n",
              "         1.77521815, -0.09453447,  0.78509823, -0.3757876 ],\n",
              "       [-0.11001456, -0.36233415, -1.04811915,  1.23334824, -0.37135664,\n",
              "         1.63964595, -1.46317617,  1.10529921, -1.70052292],\n",
              "       [-1.10683558, -0.41568672,  1.19065312, -0.01048065,  0.38091857,\n",
              "        -0.2442546 ,  0.0855785 ,  0.53992893, -0.62617103],\n",
              "       [-0.47760269,  0.20179417, -1.7270781 ,  2.24495948,  0.23364658,\n",
              "         0.24717916,  1.33655044,  1.18621002,  1.54189888],\n",
              "       [-0.39998225, -0.6660919 ,  0.33529723,  0.25311779, -0.82455127,\n",
              "         0.47531511, -0.34246616, -1.08244515, -0.30598297],\n",
              "       [-0.86054498,  1.92067523,  1.16845736, -0.13397996,  1.51886774,\n",
              "        -0.53025224, -0.02009538, -0.08014278,  0.90372599]])"
            ]
          },
          "metadata": {},
          "execution_count": 39
        }
      ]
    },
    {
      "cell_type": "markdown",
      "metadata": {
        "id": "bGC2VZ3udtXN"
      },
      "source": [
        "Para multiplicar matrizes, do ponto de visto de multiplicação matricial como definido na álgebra linear, fazemos uso de `@`."
      ]
    },
    {
      "cell_type": "code",
      "metadata": {
        "id": "f3hJLE-GdtXN",
        "outputId": "d92ae821-fd5d-480c-b938-b0050bf312a3",
        "colab": {
          "base_uri": "https://localhost:8080/"
        }
      },
      "source": [
        "X @ X.T"
      ],
      "execution_count": 40,
      "outputs": [
        {
          "output_type": "execute_result",
          "data": {
            "text/plain": [
              "array([[ 3.95785814, -1.52589226, -1.18832547, -1.01965248, -2.15035193,\n",
              "         1.88383215, -0.8694905 ,  0.61222838,  0.6128117 ],\n",
              "       [-1.52589226,  5.17939137,  1.61513402, -0.70046401,  3.85306219,\n",
              "        -2.72072053,  1.07318321, -1.04728952,  3.24685114],\n",
              "       [-1.18832547,  1.61513402,  7.72081695, -4.87457054,  2.42026671,\n",
              "        -1.28161771, -1.02937504, -2.82465288, -0.25774723],\n",
              "       [-1.01965248, -0.70046401, -4.87457054,  7.04825733, -0.08294101,\n",
              "         4.06067833,  1.00317773,  4.34002846,  1.07497169],\n",
              "       [-2.15035193,  3.85306219,  2.42026671, -0.08294101,  4.1918128 ,\n",
              "        -1.33135913,  1.21825936,  0.20099688,  2.04089063],\n",
              "       [ 1.88383215, -2.72072053, -1.28161771,  4.06067833, -1.33135913,\n",
              "         8.46227607, -2.93926067,  3.85200254, -2.04982765],\n",
              "       [-0.8694905 ,  1.07318321, -1.02937504,  1.00317773,  1.21825936,\n",
              "        -2.93926067,  4.20349342,  0.01270813,  4.22613035],\n",
              "       [ 0.61222838, -1.04728952, -2.82465288,  4.34002846,  0.20099688,\n",
              "         3.85200254,  0.01270813,  6.45789862,  0.12733756],\n",
              "       [ 0.6128117 ,  3.24685114, -0.25774723,  1.07497169,  2.04089063,\n",
              "        -2.04982765,  4.22613035,  0.12733756,  7.85636671]])"
            ]
          },
          "metadata": {},
          "execution_count": 40
        }
      ]
    },
    {
      "cell_type": "markdown",
      "metadata": {
        "id": "ge_ZSzyedtXN"
      },
      "source": [
        "O uso de `*` realiza uma operação ponto a ponto"
      ]
    },
    {
      "cell_type": "code",
      "metadata": {
        "id": "YapEN0uAdtXN",
        "outputId": "7d0bf56b-b884-4a7e-c532-d8687dbbbb90",
        "colab": {
          "base_uri": "https://localhost:8080/"
        }
      },
      "source": [
        "X * X"
      ],
      "execution_count": 41,
      "outputs": [
        {
          "output_type": "execute_result",
          "data": {
            "text/plain": [
              "array([[3.22943217e-02, 1.55940127e+00, 3.46544493e-04, 1.21032039e-02,\n",
              "        1.22508499e+00, 2.28104331e-01, 1.59985801e-01, 7.40537667e-01],\n",
              "       [2.69150053e-01, 2.53241401e-01, 1.79525796e-01, 1.31286036e-01,\n",
              "        1.72795449e-01, 4.07208872e-02, 4.43678419e-01, 3.68899333e+00],\n",
              "       [4.61629999e-01, 2.49997042e-02, 2.57463039e-01, 1.09855375e+00,\n",
              "        1.41765485e+00, 2.98279877e+00, 1.12424233e-01, 1.36529261e+00],\n",
              "       [4.53671340e-03, 1.23678618e-02, 3.88232707e-01, 1.52114789e+00,\n",
              "        1.09843940e-04, 5.03984307e+00, 6.40686137e-02, 1.79506304e-02],\n",
              "       [2.42610156e-01, 3.88469129e-01, 2.36294074e-01, 1.37905756e-01,\n",
              "        1.45098958e-01, 5.45907230e-02, 6.79884790e-01, 2.30695921e+00],\n",
              "       [6.02924454e-01, 1.39166354e+00, 3.15139948e+00, 2.68843886e+00,\n",
              "        5.96603097e-02, 6.10975370e-02, 2.25924450e-01, 2.81167437e-01],\n",
              "       [2.97592318e-02, 1.12535263e-01, 8.93676607e-03, 2.14088450e+00,\n",
              "        7.32367920e-03, 1.78636709e+00, 1.17283073e-01, 4.03824462e-04],\n",
              "       [3.29680482e-01, 1.41342473e+00, 6.16379225e-01, 1.22168634e+00,\n",
              "        2.91523247e-01, 1.40709421e+00, 1.17168751e+00, 6.42286472e-03],\n",
              "       [4.96020321e-01, 6.47463348e-01, 1.41216319e-01, 2.89177819e+00,\n",
              "        3.92090154e-01, 2.37745215e+00, 9.36255770e-02, 8.16720657e-01]])"
            ]
          },
          "metadata": {},
          "execution_count": 41
        }
      ]
    },
    {
      "cell_type": "markdown",
      "metadata": {
        "id": "NNUkoG_IdtXN"
      },
      "source": [
        "Observe a diferença de tamanhos"
      ]
    },
    {
      "cell_type": "code",
      "metadata": {
        "id": "b3VgKMxgdtXN",
        "outputId": "bcb34917-55ba-4f85-85a9-92e55d7fe4d2",
        "colab": {
          "base_uri": "https://localhost:8080/"
        }
      },
      "source": [
        "(X * X).shape"
      ],
      "execution_count": 42,
      "outputs": [
        {
          "output_type": "execute_result",
          "data": {
            "text/plain": [
              "(9, 8)"
            ]
          },
          "metadata": {},
          "execution_count": 42
        }
      ]
    },
    {
      "cell_type": "code",
      "metadata": {
        "id": "eV4IzQ3gdtXO",
        "outputId": "803666bf-e876-46fe-f389-13202f74a393",
        "colab": {
          "base_uri": "https://localhost:8080/"
        }
      },
      "source": [
        "(X @ X.T).shape"
      ],
      "execution_count": 43,
      "outputs": [
        {
          "output_type": "execute_result",
          "data": {
            "text/plain": [
              "(9, 9)"
            ]
          },
          "metadata": {},
          "execution_count": 43
        }
      ]
    },
    {
      "cell_type": "markdown",
      "metadata": {
        "id": "iITM79C3dtXO"
      },
      "source": [
        "**Pense:** Para o nosso `X` de tamanho `(9, 8)`, qual o motivo de `X * X.T` não funcionar? Qual o motivo de `X @ X` não funcionar?"
      ]
    },
    {
      "cell_type": "markdown",
      "metadata": {
        "id": "msTeLDZKdtXO"
      },
      "source": [
        "## Correção Automática\n",
        "\n",
        "Nossa correção automática depende das funções abaixo. Tais funções comparam valores que serão computados pelo seu código com uma saída esperada. Normalmente, vocês não fazer uso de tais funções em notebooks como este. Porém, elas são chave em ambientes de testes automáticos (fora do nosso escopo).\n",
        "\n",
        "Observe como algumas funções comparam valores e outras comparam vetores. Além do mais, temos funções para comparar dentro de algumas casas decimais."
      ]
    },
    {
      "cell_type": "code",
      "metadata": {
        "id": "613xzkokdtXO"
      },
      "source": [
        "from numpy.testing import assert_almost_equal\n",
        "from numpy.testing import assert_equal\n",
        "\n",
        "from numpy.testing import assert_array_almost_equal\n",
        "from numpy.testing import assert_array_equal"
      ],
      "execution_count": 44,
      "outputs": []
    },
    {
      "cell_type": "code",
      "metadata": {
        "id": "SwIqmI9CdtXO"
      },
      "source": [
        "# caso você mude um dos valores vamos receber um erro!\n",
        "assert_array_equal(2, 2)\n",
        "\n",
        "# caso você mude um dos valores vamos receber um erro!\n",
        "assert_array_equal([1, 2], [1, 2])\n",
        "\n",
        "# caso você mude um dos valores vamos receber um erro!\n",
        "assert_almost_equal(3.1415, 3.14, 1)"
      ],
      "execution_count": 45,
      "outputs": []
    },
    {
      "cell_type": "markdown",
      "metadata": {
        "id": "cOqIEvTxdtXO"
      },
      "source": [
        "Caso você mude um dos valores abaixo vamos receber um erro! Como o abaixo.\n",
        "\n",
        "```\n",
        "-----------------------------------------------------------------------\n",
        "AssertionError                        Traceback (most recent call last)\n",
        "<ipython-input-10-396672d880f2> in <module>\n",
        "----> 1 assert_equal(2, 3) # caso você mude um dos valores vamos receber um erro!\n",
        "\n",
        "~/miniconda3/lib/python3.7/site-packages/numpy/testing/_private/utils.py in assert_equal(actual, desired, err_msg, verbose)\n",
        "    413         # Explicitly use __eq__ for comparison, gh-2552\n",
        "    414         if not (desired == actual):\n",
        "--> 415             raise AssertionError(msg)\n",
        "    416 \n",
        "    417     except (DeprecationWarning, FutureWarning) as e:\n",
        "\n",
        "AssertionError: \n",
        "Items are not equal:\n",
        " ACTUAL: 2\n",
        " DESIRED: 3\n",
        " ```"
      ]
    },
    {
      "cell_type": "markdown",
      "metadata": {
        "id": "u2JpeOh0dtXP"
      },
      "source": [
        "É essencial que todo seu código execute sem erros! Portanto, antes de submeter clique em `Kernel` no menu acima. Depois clique em `Restart & Execute All.`\n",
        "\n",
        "**Garanta que o notebook executa até o fim!** Isto é, sem erros como o acima."
      ]
    },
    {
      "cell_type": "markdown",
      "metadata": {
        "id": "TxkfB2ZDdtXP"
      },
      "source": [
        "## Funções em Python"
      ]
    },
    {
      "cell_type": "markdown",
      "metadata": {
        "id": "dgllTjNldtXP"
      },
      "source": [
        "Para criar uma função em Python fazemos uso da palavra-chave: \n",
        "```python\n",
        "def\n",
        "```\n",
        "\n",
        "Todos nossos exercícios farão uso de funções. **Mantenha a assinatura das funções exatamente como requisitado, a correção automática depende disso.** Abaixo, temos um exempo de uma função que imprime algo na tela!"
      ]
    },
    {
      "cell_type": "code",
      "metadata": {
        "id": "IqjzycF_dtXP"
      },
      "source": [
        "def print_something(txt):\n",
        "    print(f'Você passou o argumento: {txt}')"
      ],
      "execution_count": 46,
      "outputs": []
    },
    {
      "cell_type": "code",
      "metadata": {
        "id": "tVUE938cdtXP",
        "outputId": "2361f92d-c131-4012-b90c-048daebf6193",
        "colab": {
          "base_uri": "https://localhost:8080/"
        }
      },
      "source": [
        "print_something('DCC 212')"
      ],
      "execution_count": 47,
      "outputs": [
        {
          "output_type": "stream",
          "name": "stdout",
          "text": [
            "Você passou o argumento: DCC 212\n"
          ]
        }
      ]
    },
    {
      "cell_type": "markdown",
      "metadata": {
        "id": "iN8ccxtOdtXP"
      },
      "source": [
        "Podemos também dizer o tipo do argumento, porém faremos pouco uso disto em ICD."
      ]
    },
    {
      "cell_type": "code",
      "metadata": {
        "id": "vEUfI-w8dtXQ"
      },
      "source": [
        "def print_something(txt: str):\n",
        "    print(f'Você passou o argumento: {txt}')"
      ],
      "execution_count": 48,
      "outputs": []
    },
    {
      "cell_type": "code",
      "metadata": {
        "id": "mrY6c8C-dtXQ",
        "outputId": "a4cee5dc-eeee-4a2d-bbac-6f601bc59022",
        "colab": {
          "base_uri": "https://localhost:8080/"
        }
      },
      "source": [
        "print_something('DCC 212')"
      ],
      "execution_count": 49,
      "outputs": [
        {
          "output_type": "stream",
          "name": "stdout",
          "text": [
            "Você passou o argumento: DCC 212\n"
          ]
        }
      ]
    },
    {
      "cell_type": "markdown",
      "metadata": {
        "id": "NuGPz1L6dtXQ"
      },
      "source": [
        "Abaixo temos uma função que soma, a soma, dois vetores"
      ]
    },
    {
      "cell_type": "code",
      "metadata": {
        "id": "KfB4s_7EdtXQ"
      },
      "source": [
        "def sum_of_sum_vectors(array_1, array_2):\n",
        "    return (array_1 + array_2).sum()"
      ],
      "execution_count": 50,
      "outputs": []
    },
    {
      "cell_type": "code",
      "metadata": {
        "id": "5baoKRLedtXQ"
      },
      "source": [
        "x = np.array([1, 2])\n",
        "y = np.array([1, 2])"
      ],
      "execution_count": 51,
      "outputs": []
    },
    {
      "cell_type": "code",
      "metadata": {
        "id": "Mz8Q0H8YdtXQ",
        "outputId": "a4e99238-0192-4d0a-ecce-fdf61f536e76",
        "colab": {
          "base_uri": "https://localhost:8080/"
        }
      },
      "source": [
        "sum_of_sum_vectors(x, y)"
      ],
      "execution_count": 52,
      "outputs": [
        {
          "output_type": "execute_result",
          "data": {
            "text/plain": [
              "6"
            ]
          },
          "metadata": {},
          "execution_count": 52
        }
      ]
    },
    {
      "cell_type": "markdown",
      "metadata": {
        "id": "3ZDQEppxdtXQ"
      },
      "source": [
        "Abaixo temos um teste, tais testes vão avaliar o seu código. Nem todos estão aqui no notebook!"
      ]
    },
    {
      "cell_type": "code",
      "metadata": {
        "id": "2FhNSGi6dtXQ"
      },
      "source": [
        "assert_equal(6, sum_of_sum_vectors(x, y))"
      ],
      "execution_count": 53,
      "outputs": []
    },
    {
      "cell_type": "markdown",
      "metadata": {
        "id": "kTukeOajdtXR"
      },
      "source": [
        "## Exercício 01\n",
        "\n",
        "Inicialmente, crie uma função que recebe duas listas de numéros, converte as duas para um vetor numpy usando `np.array` e retorna o produto interno das duas listas. \n",
        "\n",
        "__Dicas:__  \n",
        "1. Tente fazer um código sem nenhum **for**! Ou seja, numpy permite operações em vetores e matrizes, onde: `np.array([1, 2]) + np.array([2, 2]) = np.array([3, 4])`.\n",
        "\n",
        "__Funções:__\n",
        "1. `np.sum(array)` soma os elementos do array. `array.sum()` tem o mesmo efeito!"
      ]
    },
    {
      "cell_type": "code",
      "metadata": {
        "id": "9ukkDGFGdtXR"
      },
      "source": [
        "def inner(array_1, array_2):\n",
        "    array1 = np.array(array_1)\n",
        "    array2 = np.array(array_2)\n",
        "    return np.sum(array1 * array2)"
      ],
      "execution_count": 65,
      "outputs": []
    },
    {
      "cell_type": "code",
      "metadata": {
        "id": "oZjHGwX7dtXR"
      },
      "source": [
        "x1 = np.array([2, 4, 8])\n",
        "x2 = np.array([10, 100, 1000])\n",
        "assert_equal(20 + 400 + 8000, inner(x1, x2))"
      ],
      "execution_count": 66,
      "outputs": []
    },
    {
      "cell_type": "markdown",
      "metadata": {
        "id": "EGO6IIHxdtXR"
      },
      "source": [
        "## Exercício 02\n",
        "\n",
        "Implemente uma função utilizando numpy que recebe duas matrizes, multiplica as duas e retorne o valor médio das células da multiplicação. Por exemplo, ao multiplicar:\n",
        "\n",
        "```\n",
        "[1 2]\n",
        "[3 4] \n",
        "\n",
        "com \n",
        "\n",
        "[2 1]\n",
        "[1 2]\n",
        "\n",
        "temos\n",
        "\n",
        "[4  5 ]\n",
        "[10 11]\n",
        "\n",
        "onde a média de [4, 5, 10, 11] é\n",
        "\n",
        "7.5, sua resposta final!\n",
        "```\n",
        "\n",
        "\n",
        "__Dicas:__  \n",
        "1. Use o operador @ para multiplicar matrizes!"
      ]
    },
    {
      "cell_type": "code",
      "metadata": {
        "id": "1nut037-dtXR"
      },
      "source": [
        "def medmult(X_1, X_2):\n",
        "    return np.mean(X_1 @ X_2)"
      ],
      "execution_count": 69,
      "outputs": []
    },
    {
      "cell_type": "code",
      "metadata": {
        "id": "MBUauh0fdtXR"
      },
      "source": [
        "X = np.array([1, 2, 3, 4]).reshape(2, 2)\n",
        "Y = np.array([2, 1, 1, 2]).reshape(2, 2)\n",
        "assert_equal(7.5, medmult(X, Y))"
      ],
      "execution_count": 70,
      "outputs": []
    },
    {
      "cell_type": "code",
      "metadata": {
        "id": "YZvZqh5pdtXR"
      },
      "source": [
        ""
      ],
      "execution_count": 68,
      "outputs": []
    }
  ]
}
