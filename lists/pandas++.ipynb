{
  "nbformat": 4,
  "nbformat_minor": 0,
  "metadata": {
    "kernelspec": {
      "display_name": "Python 3",
      "language": "python",
      "name": "python3"
    },
    "language_info": {
      "codemirror_mode": {
        "name": "ipython",
        "version": 3
      },
      "file_extension": ".py",
      "mimetype": "text/x-python",
      "name": "python",
      "nbconvert_exporter": "python",
      "pygments_lexer": "ipython3",
      "version": "3.6.12"
    },
    "colab": {
      "name": "sol.ipynb",
      "provenance": [],
      "toc_visible": true
    }
  },
  "cells": [
    {
      "cell_type": "markdown",
      "metadata": {
        "id": "SgB18yRzxD_e"
      },
      "source": [
        "# Lista 03 - Análise Exploratória de Dados\n",
        "\n",
        "Continuando da última lista, vamos agora realizar um pouco dos passos da análise exploratória de dados. Em particular, vamos passar pelos passos de:\n",
        "\n",
        "1. Carregamento dos dados\n",
        "1. Limpeza dos dados\n",
        "1. Análise exploratória com gráficos e estatísticas simples\n",
        "\n",
        "## Imports Básicos\n",
        "\n",
        "As células abaixo apenas configuram nosso notebook para ficar mais parecido com os das aulas"
      ]
    },
    {
      "cell_type": "code",
      "metadata": {
        "id": "kDsn1HiTxD_j"
      },
      "source": [
        "from numpy.testing import assert_almost_equal\n",
        "from numpy.testing import assert_equal\n",
        "\n",
        "from numpy.testing import assert_array_almost_equal\n",
        "from numpy.testing import assert_array_equal"
      ],
      "execution_count": null,
      "outputs": []
    },
    {
      "cell_type": "code",
      "metadata": {
        "id": "cdK1mjczxD_k"
      },
      "source": [
        "import numpy as np\n",
        "import matplotlib.pyplot as plt\n",
        "import pandas as pd"
      ],
      "execution_count": null,
      "outputs": []
    },
    {
      "cell_type": "code",
      "metadata": {
        "id": "j3rTkqEaxD_l"
      },
      "source": [
        "plt.rcParams['figure.figsize']  = (16, 10)\n",
        "plt.rcParams['axes.labelsize']  = 20\n",
        "plt.rcParams['axes.titlesize']  = 20\n",
        "plt.rcParams['legend.fontsize'] = 20\n",
        "plt.rcParams['xtick.labelsize'] = 20\n",
        "plt.rcParams['ytick.labelsize'] = 20\n",
        "plt.rcParams['lines.linewidth'] = 4"
      ],
      "execution_count": null,
      "outputs": []
    },
    {
      "cell_type": "code",
      "metadata": {
        "id": "c-2kx4j0xD_l"
      },
      "source": [
        "plt.ion()\n",
        "plt.style.use('seaborn-colorblind')"
      ],
      "execution_count": null,
      "outputs": []
    },
    {
      "cell_type": "markdown",
      "metadata": {
        "id": "yWD_1osKxD_m"
      },
      "source": [
        "## Notas dos Alunos (Tutorial)\n",
        "\n",
        "Como falamos na última lista, em muitos cenários do mundo real, os dados são carregados de fontes como arquivos. Vamos substituir o DataFrame das notas dos alunos pelo conteúdo de um arquivo de texto. "
      ]
    },
    {
      "cell_type": "code",
      "metadata": {
        "id": "-osYNQ6IxD_m"
      },
      "source": [
        "df = pd.read_csv('https://raw.githubusercontent.com/icd-ufmg/icd-ufmg.github.io/master/listas/l3/grades.csv',\n",
        "                 sep=',',\n",
        "                 header=0)\n",
        "df.head()"
      ],
      "execution_count": null,
      "outputs": []
    },
    {
      "cell_type": "markdown",
      "metadata": {
        "id": "_eXl1NPzxD_n"
      },
      "source": [
        "O método `read_csv` do `DataFrame` é usado para carregar dados de arquivos de texto. Como você pode ver no código de exemplo, você pode especificar opções como o delimitador de coluna e qual linha (se houver) contém cabeçalhos de coluna (neste caso, o delimitador é uma vírgula e a primeira linha contém os nomes das colunas).\n",
        "\n",
        "Além do mais, a chamada `head` imprime as primeiras cinco linhas da nossa tabela."
      ]
    },
    {
      "cell_type": "markdown",
      "metadata": {
        "id": "jxMBz8LAxD_o"
      },
      "source": [
        "### Dados Faltantes\n",
        "\n",
        "Um dos problemas mais comuns com os quais os cientistas de dados precisam lidar são dados incompletos ou ausentes. Como podemos saber que o DataFrame contém valores ausentes? Você pode usar o método `isnull` para tal tarefa."
      ]
    },
    {
      "cell_type": "code",
      "metadata": {
        "id": "-ry31qpZxD_p"
      },
      "source": [
        "df.isnull()"
      ],
      "execution_count": null,
      "outputs": []
    },
    {
      "cell_type": "markdown",
      "metadata": {
        "id": "-BUIawf5xD_q"
      },
      "source": [
        "Obseve como a última linha falta com o número de horas estudadas. Nas dúas últimas, faltam as notas. Caso você deseja saber a quantidade de dados faltantes, basta somar os `True`s da tabela acima. Aqui é importante saber que Python tratta `True` de forma similar ao número 1. Portanto, basta você somar a tabela inteira para pegar tal quantidade de dados faltantes."
      ]
    },
    {
      "cell_type": "code",
      "metadata": {
        "id": "hqJYoyFkxD_q"
      },
      "source": [
        "df.isnull().sum()"
      ],
      "execution_count": null,
      "outputs": []
    },
    {
      "cell_type": "markdown",
      "metadata": {
        "id": "qXaHLmGBxD_q"
      },
      "source": [
        "Lembrando que a chamada `iloc` pega uma linha com base no número da mesma, vamos observar a última linha da tabela de dados. Observe como os valores faltantes viram `NaN`s. Além do mais, lembre-se que podemos indexar de trás para frente com o -1. -1 é a última linha, -2 a penúltima. Para entender a lógica, em um vetor de tamanho `n`, `n-1` é o último elemento. Indexar `-1` indica `n-1`."
      ]
    },
    {
      "cell_type": "code",
      "metadata": {
        "id": "vhY4jFibxD_r"
      },
      "source": [
        "df.iloc[-1]"
      ],
      "execution_count": null,
      "outputs": []
    },
    {
      "cell_type": "markdown",
      "metadata": {
        "id": "3cq0VJVgxD_r"
      },
      "source": [
        "A penúltima."
      ]
    },
    {
      "cell_type": "code",
      "metadata": {
        "id": "ObED9ubIxD_r"
      },
      "source": [
        "df.iloc[-2]"
      ],
      "execution_count": null,
      "outputs": []
    },
    {
      "cell_type": "markdown",
      "metadata": {
        "id": "p65SXp1qxD_s"
      },
      "source": [
        "Agora que encontramos os valores faltantes, o que podemos fazer a respeito deles?\n",
        "\n",
        "#### fillna\n",
        "\n",
        "Uma abordagem comum é imputar valores de substituição. Por exemplo, se o número de horas de estudo está faltando, podemos simplesmente supor que o aluno estudou por um período médio de tempo e substituir o valor faltante com as horas de estudo médias. Para fazer isso, podemos usar o método fillna, como este:"
      ]
    },
    {
      "cell_type": "code",
      "metadata": {
        "id": "h8jCiIZ4xD_s"
      },
      "source": [
        "df['StudyHours'].fillna(df['StudyHours'].mean())"
      ],
      "execution_count": null,
      "outputs": []
    },
    {
      "cell_type": "markdown",
      "metadata": {
        "id": "Ndebsw74xD_s"
      },
      "source": [
        "Observe que a última linha foi alterada! Porém, o DataFrame original não foi."
      ]
    },
    {
      "cell_type": "code",
      "metadata": {
        "id": "bJaiJ17WxD_s"
      },
      "source": [
        "df.iloc[-1]"
      ],
      "execution_count": null,
      "outputs": []
    },
    {
      "cell_type": "markdown",
      "metadata": {
        "id": "71h_kCpsxD_t"
      },
      "source": [
        "Para alterar, podemos trocar a coluna. Abaixo faço tal operação em uma cópia dos dados. Realizei tal escolha apenas para não mudar a tabela original."
      ]
    },
    {
      "cell_type": "code",
      "metadata": {
        "id": "2yJwDPYGxD_t"
      },
      "source": [
        "df_novo = df.copy() # criar uma cópia apenas para o exemplo\n",
        "df_novo['StudyHours'] = df_novo['StudyHours'].fillna(df_novo['StudyHours'].mean())\n",
        "df_novo.iloc[-1]"
      ],
      "execution_count": null,
      "outputs": []
    },
    {
      "cell_type": "markdown",
      "metadata": {
        "id": "jwMSlSqNxD_t"
      },
      "source": [
        "Observe como não mudamos nada das notas. O `fillna` pode receber uma série indexada para alterar várias colunas. Primeiramente, observe como a chamada `mean` pega a média de todas as colunas."
      ]
    },
    {
      "cell_type": "code",
      "metadata": {
        "id": "AhJkYA0ZxD_u"
      },
      "source": [
        "df.mean()"
      ],
      "execution_count": null,
      "outputs": []
    },
    {
      "cell_type": "markdown",
      "metadata": {
        "id": "Q--HugtVxD_u"
      },
      "source": [
        "O `fillna` então vai pegar o índice dessa série, o nome da coluna, e utilizar como chave para quais colunas imputar. O valor da série indica o valor que será imputado. Observe como os novos dados abaixo estão sem NaNs."
      ]
    },
    {
      "cell_type": "code",
      "metadata": {
        "id": "HLB-JdwIxD_u"
      },
      "source": [
        "df_novo = df.fillna(df.mean())\n",
        "df_novo"
      ],
      "execution_count": null,
      "outputs": []
    },
    {
      "cell_type": "code",
      "metadata": {
        "id": "xQoeZjfOxD_u"
      },
      "source": [
        "df_novo.isnull().sum()"
      ],
      "execution_count": null,
      "outputs": []
    },
    {
      "cell_type": "markdown",
      "metadata": {
        "id": "sCD2T13HxD_u"
      },
      "source": [
        "#### dropna\n",
        "\n",
        "Outra opção é simplesmente remover todas as linhas com dados faltantes. Para tal, fazemos uso da chamada `dropna`."
      ]
    },
    {
      "cell_type": "code",
      "metadata": {
        "id": "yIl9CeM7xD_u"
      },
      "source": [
        "df_novo = df.dropna()\n",
        "df_novo.shape"
      ],
      "execution_count": null,
      "outputs": []
    },
    {
      "cell_type": "code",
      "metadata": {
        "id": "8SCS4S1wxD_u"
      },
      "source": [
        "df.shape"
      ],
      "execution_count": null,
      "outputs": []
    },
    {
      "cell_type": "markdown",
      "metadata": {
        "id": "1wwaGrL8xD_v"
      },
      "source": [
        "Observe como o novo DataFrame tem duas linhas a menos do que o anterior. A escolha de como limpar dados faltantes depende do tipo de análise que você vai realizar. Aqui, vamos seguir com o drop no `df`."
      ]
    },
    {
      "cell_type": "code",
      "metadata": {
        "id": "Fg0K2_R_xD_v"
      },
      "source": [
        "df.dropna(inplace=True) # on inplace=True altera o dataframe atual, não retorna um novo\n",
        "df"
      ],
      "execution_count": null,
      "outputs": []
    },
    {
      "cell_type": "markdown",
      "metadata": {
        "id": "cVKerZ7axD_v"
      },
      "source": [
        "### Explorando Dados\n",
        "\n",
        "Lembre-se que você pode indexar DataFrames com vetores booleanos. Por exemplo, para pegas as notas de Skye podemos primeiramente achar a discente nos dados:"
      ]
    },
    {
      "cell_type": "code",
      "metadata": {
        "id": "44jkR14nxD_v"
      },
      "source": [
        "df['Name'] == 'Skye'"
      ],
      "execution_count": null,
      "outputs": []
    },
    {
      "cell_type": "markdown",
      "metadata": {
        "id": "uXbHQkqLxD_v"
      },
      "source": [
        "Obserne como acima temos uma entrada verdadeira. Esta, é justamente a linha onde temos o nome `Skye`. Ao indexar o DataFrame com tal linha, pegamos a nota da discente."
      ]
    },
    {
      "cell_type": "code",
      "metadata": {
        "id": "O9RQJ2JKxD_v"
      },
      "source": [
        "idx = df['Name'] == 'Skye'\n",
        "df[idx]"
      ],
      "execution_count": null,
      "outputs": []
    },
    {
      "cell_type": "markdown",
      "metadata": {
        "id": "IOaQitJpxD_v"
      },
      "source": [
        "Outra forma de fazer a mesma operação é com o método **query**. O query faz consultados usando uma línguagem similar aos bancos de dados. Um exemplo:"
      ]
    },
    {
      "cell_type": "code",
      "metadata": {
        "id": "iDpDttvHxD_w"
      },
      "source": [
        "df.query('Name == \"Skye\"')"
      ],
      "execution_count": null,
      "outputs": []
    },
    {
      "cell_type": "markdown",
      "metadata": {
        "id": "Pj6GnjDlxD_w"
      },
      "source": [
        "Podemos também pegar todas as notas acima de 60. Ou seja, os alunos aprovados."
      ]
    },
    {
      "cell_type": "code",
      "metadata": {
        "id": "RuiBMGLPxD_w"
      },
      "source": [
        "df.query('Grade >= 60')"
      ],
      "execution_count": null,
      "outputs": []
    },
    {
      "cell_type": "markdown",
      "metadata": {
        "id": "R6b37IV2xD_w"
      },
      "source": [
        "Como também os alunos que passaram estudando relativamente pouco.  No nosso caso, vamos focar em alunos que estudaram menos do que 14horas."
      ]
    },
    {
      "cell_type": "code",
      "metadata": {
        "id": "Exd4wp3QxD_w"
      },
      "source": [
        "df.query('Grade >= 60 and StudyHours <= 14')"
      ],
      "execution_count": null,
      "outputs": []
    },
    {
      "cell_type": "markdown",
      "metadata": {
        "id": "RArmxJXFxD_w"
      },
      "source": [
        "Todo retorno, ou do índice booleano ou da query são outros DataFrames. Então, podemos chamar métodos como tirar a média dos alunos."
      ]
    },
    {
      "cell_type": "code",
      "metadata": {
        "id": "IujIjIycxD_w"
      },
      "source": [
        "above_60_low_hours = df.query('Grade >= 60 and StudyHours <= 14')\n",
        "type(above_60_low_hours)"
      ],
      "execution_count": null,
      "outputs": []
    },
    {
      "cell_type": "code",
      "metadata": {
        "id": "tb2b3Kc2xD_x"
      },
      "source": [
        "above_60_low_hours.mean()"
      ],
      "execution_count": null,
      "outputs": []
    },
    {
      "cell_type": "markdown",
      "metadata": {
        "id": "2NJuvQHDxD_x"
      },
      "source": [
        "Podemos também buscar os alunos que estão acima da média!"
      ]
    },
    {
      "cell_type": "code",
      "metadata": {
        "id": "FyHL5Y8VxD_x"
      },
      "source": [
        "mean = df['Grade'].mean()\n",
        "df[df['Grade'] >= mean]"
      ],
      "execution_count": null,
      "outputs": []
    },
    {
      "cell_type": "markdown",
      "metadata": {
        "id": "HPXhFEclxD_x"
      },
      "source": [
        "ou, via query."
      ]
    },
    {
      "cell_type": "code",
      "metadata": {
        "id": "3h_QeZ10xD_x"
      },
      "source": [
        "df.query(f'Grade >= {mean}')"
      ],
      "execution_count": null,
      "outputs": []
    },
    {
      "cell_type": "markdown",
      "metadata": {
        "id": "VNuVghq-xD_x"
      },
      "source": [
        "Os DataFrames são incrivelmente versáteis e facilitam a manipulação de dados. Muitas operações DataFrame retornam uma nova cópia do DataFrame; portanto, se quiser modificar um DataFrame, mas manter a variável existente, você precisará atribuir o resultado da operação à variável existente. Por exemplo, o código a seguir classifica os dados do aluno em ordem decrescente de nota e atribui o DataFrame classificado resultante à variável `df_students`. "
      ]
    },
    {
      "cell_type": "code",
      "metadata": {
        "id": "TE6ztFHHxD_y"
      },
      "source": [
        "# Re-ordena os dados por nota\n",
        "df_students = df.sort_values('Grade', ascending=False)\n",
        "df_students"
      ],
      "execution_count": null,
      "outputs": []
    },
    {
      "cell_type": "markdown",
      "metadata": {
        "id": "ZLtFL4PXxD_y"
      },
      "source": [
        "### Visualizando dados com Matplotlib\n",
        "\n",
        "Os DataFrames fornecem uma ótima maneira de explorar e analisar dados tabulares, mas uma imagem vale mil palavras. A biblioteca [Matplotlib](matplotlib.org) fornece a base para a plotagem de visualizações de dados.\n",
        "\n",
        "Vamos começar com um histograma de notas. Observe como também colocamos uma linha preta em cada barra `edgecolor='k'` e setamos rótulos ao X e Y (para sabermos qual eixo mostra quais dados)."
      ]
    },
    {
      "cell_type": "code",
      "metadata": {
        "id": "avUJNgFXxD_y"
      },
      "source": [
        "plt.hist(df_students['Grade'], edgecolor='k')\n",
        "plt.xlabel('Grade')\n",
        "plt.ylabel('Num. Students')"
      ],
      "execution_count": null,
      "outputs": []
    },
    {
      "cell_type": "markdown",
      "metadata": {
        "id": "aW0aiDh6xD_y"
      },
      "source": [
        "Observe como as notas concentram em 50. Às vezes é mais simples interpretar a função cumulativa dos dados.  Vamos fazer este gráfico de uma forma diferente da que vimos em sala de aula. Alterando um pouco a chamada `hist` podemos pegar a cumulativa."
      ]
    },
    {
      "cell_type": "code",
      "metadata": {
        "id": "usptm-lOxD_y"
      },
      "source": [
        "plt.hist(df_students['Grade'], edgecolor='k', cumulative=True)\n",
        "plt.xlabel('Grade - x')\n",
        "plt.ylabel('Num. Students with Grade <= x')"
      ],
      "execution_count": null,
      "outputs": []
    },
    {
      "cell_type": "markdown",
      "metadata": {
        "id": "iu37h9T0xD_y"
      },
      "source": [
        "Agora, `density=True` transforma este plot em uma função cumulativa de probabilidade."
      ]
    },
    {
      "cell_type": "code",
      "metadata": {
        "id": "DE5brHBCxD_y"
      },
      "source": [
        "plt.hist(df_students['Grade'], edgecolor='k', cumulative=True, density=True)\n",
        "plt.xlabel('Grade - x')\n",
        "plt.ylabel('Frac. Students with Grade <= x')"
      ],
      "execution_count": null,
      "outputs": []
    },
    {
      "cell_type": "markdown",
      "metadata": {
        "id": "zbGKoWRfxD_z"
      },
      "source": [
        "Observe que 50% dos alunos (0.5 no eixo-y) tem nota menor ou igual à mais ou menos 47~50 (eixo-x). Isto pode ser verificado com a chamada median abaixo. Outro exemplo, tente entender no gráfico, 20% dos alunos (eixo-y) tem nota menor ou igual à mais ou menos 30."
      ]
    },
    {
      "cell_type": "code",
      "metadata": {
        "id": "tL5lcyw9xD_z"
      },
      "source": [
        "df_students['Grade'].median()"
      ],
      "execution_count": null,
      "outputs": []
    },
    {
      "cell_type": "markdown",
      "metadata": {
        "id": "wLCL7d3fxD_z"
      },
      "source": [
        "Até agora, você usou métodos do Matplotlib.pyplot para plotar gráficos. No entanto, muitos pacotes, incluindo Pandas, fornecem métodos que abstraem as funções Matplotlib simplificando sua vida. Por exemplo, o DataFrame fornece seus próprios métodos para plotar dados, conforme mostrado no exemplo a seguir para plotar um gráfico de barras de horas de estudo. "
      ]
    },
    {
      "cell_type": "code",
      "metadata": {
        "id": "2WqNBsDYxD_z"
      },
      "source": [
        "df_students.plot.bar(x='Name', y='Grade', edgecolor='k')"
      ],
      "execution_count": null,
      "outputs": []
    },
    {
      "cell_type": "markdown",
      "metadata": {
        "id": "U0-8A0jXxD_z"
      },
      "source": [
        "Ou o mesmo histograma de antes."
      ]
    },
    {
      "cell_type": "code",
      "metadata": {
        "id": "0lk7GigsxD_z"
      },
      "source": [
        "df_students.plot.hist(y='Grade', edgecolor='k')\n",
        "plt.xlabel('Grade - x')\n",
        "plt.ylabel('Num. Students')"
      ],
      "execution_count": null,
      "outputs": []
    },
    {
      "cell_type": "markdown",
      "metadata": {
        "id": "5reo3nGdxD_z"
      },
      "source": [
        "Como também uma versão contínua do histograma. Esta é chamada de Kernel Density Estimation (vimos rapidamente em sala de aula)."
      ]
    },
    {
      "cell_type": "code",
      "metadata": {
        "id": "Ih86exPfxD_z"
      },
      "source": [
        "df_students.plot.kde(y='Grade')\n",
        "plt.xlabel('Grade - x')\n",
        "plt.ylabel('Density')"
      ],
      "execution_count": null,
      "outputs": []
    },
    {
      "cell_type": "markdown",
      "metadata": {
        "id": "84bUCELhxD_0"
      },
      "source": [
        "### Estatísticas\n",
        "\n",
        "#### Medidas de tendência central\n",
        "\n",
        "Para entender melhor a distribuição, podemos examinar as chamadas medidas de tendência central; que é uma maneira sofisticada de descrever estatísticas que representam o \"meio\" dos dados. O objetivo disso é tentar encontrar um valor \"típico\". Maneiras comuns de definir o meio dos dados incluem:\n",
        "  * A média: uma média simples baseada na soma de todos os valores no conjunto de amostra e, em seguida, na divisão do total pelo número de amostras.\n",
        "  * A mediana: o valor no meio do intervalo de todos os valores de amostra.\n",
        "  * A moda: o valor de ocorrência mais comum no conjunto de amostra.\n",
        "\n",
        "Vamos calcular esses valores, junto com os valores mínimo e máximo para comparação, e mostrá-los no histograma. Primeiramente, observe como podemos pegar tais valores direto do DataFrame."
      ]
    },
    {
      "cell_type": "code",
      "metadata": {
        "id": "DdsT2knPxD_0"
      },
      "source": [
        "df.mean()"
      ],
      "execution_count": null,
      "outputs": []
    },
    {
      "cell_type": "code",
      "metadata": {
        "id": "UxJ3cAb3xD_0"
      },
      "source": [
        "df.median()"
      ],
      "execution_count": null,
      "outputs": []
    },
    {
      "cell_type": "markdown",
      "metadata": {
        "id": "6evr5LwTxD_0"
      },
      "source": [
        "Ou, descrever o DataFrame como um todo. Aqui pegamos a média, mínimo, máximo e quartis (mais abaixo) dos dados."
      ]
    },
    {
      "cell_type": "code",
      "metadata": {
        "id": "6viIUUauxD_0"
      },
      "source": [
        "df.describe()"
      ],
      "execution_count": null,
      "outputs": []
    },
    {
      "cell_type": "markdown",
      "metadata": {
        "id": "cpDZguJhxD_0"
      },
      "source": [
        "Além disso, podemos focar em um vetor de dados específico."
      ]
    },
    {
      "cell_type": "code",
      "metadata": {
        "id": "5qrFtLe_xD_0"
      },
      "source": [
        "data = df['Grade']\n",
        "\n",
        "\n",
        "min_ = data.min()\n",
        "max_ = data.max()\n",
        "mean = data.mean()\n",
        "median = data.median()\n",
        "mode = data.mode()[0]\n",
        "\n",
        "print(min_, max_, mean, median, mode, sep=', ')"
      ],
      "execution_count": null,
      "outputs": []
    },
    {
      "cell_type": "markdown",
      "metadata": {
        "id": "2CrgIqKKxD_0"
      },
      "source": [
        "Abaixo plotamos cada estatística em linhas verticais."
      ]
    },
    {
      "cell_type": "code",
      "metadata": {
        "id": "HbXXUMZExD_1"
      },
      "source": [
        "# Histograma\n",
        "plt.hist(data, edgecolor='k')\n",
        "plt.xlabel('Grade')\n",
        "plt.ylabel('Num. Students')\n",
        "\n",
        "# Linhas para cada estatística\n",
        "plt.axvline(x=min_, color = 'gray', linestyle='dashed', linewidth = 2, label='min')\n",
        "plt.axvline(x=mean, color = 'cyan', linestyle='dashed', linewidth = 2, label='mean')\n",
        "plt.axvline(x=median, color = 'red', linestyle='dashed', linewidth = 2, label='median')\n",
        "plt.axvline(x=mode, color = 'yellow', linestyle='dashed', linewidth = 2, label='mode')\n",
        "plt.axvline(x=max_, color = 'gray', linestyle='dashed', linewidth = 2, label='max')\n",
        "\n",
        "# Adiciona uma legenda\n",
        "plt.legend()"
      ],
      "execution_count": null,
      "outputs": []
    },
    {
      "cell_type": "markdown",
      "metadata": {
        "id": "lmPa0orqxD_1"
      },
      "source": [
        "### Medidas de variância\n",
        "\n",
        "Portanto, agora temos uma boa ideia de onde estão as estatísticas centrais dos dados. No entanto, há outro aspecto das distribuições que devemos examinar: quanta variabilidade existe nos dados?\n",
        "\n",
        "As estatísticas típicas que medem a variabilidade nos dados incluem:\n",
        "\n",
        "* Intervalo: a diferença entre o máximo e o mínimo. Não há função incorporada para isso, mas é fácil calcular usando as funções mín e máx.\n",
        "* Variância: a média da diferença quadrática da média. Você pode usar a função var integrada para encontrar isso.\n",
        "* Desvio padrão: a raiz quadrada da variância. Você pode usar a função std embutida para encontrar isso. "
      ]
    },
    {
      "cell_type": "code",
      "metadata": {
        "id": "PQNQOxxxxD_1"
      },
      "source": [
        "for col_name in ['Grade', 'StudyHours']:\n",
        "    col = df_students[col_name]\n",
        "    rng = col.max() - col.min()\n",
        "    var = col.var(ddof=1)\n",
        "    std = col.std(ddof=1)\n",
        "    print('\\n{}:\\n - Range: {:.2f}\\n - Variance: {:.2f}\\n - Std.Dev: {:.2f}'.format(col_name, rng, var, std))"
      ],
      "execution_count": null,
      "outputs": []
    },
    {
      "cell_type": "markdown",
      "metadata": {
        "id": "tqegGDa5xD_1"
      },
      "source": [
        "#### Quartis\n",
        "\n",
        "Na estatística descritiva, um quartil é qualquer um dos três valores que divide o conjunto ordenado de dados em quatro partes iguais, e assim cada parte representa 1/4 da amostra ou população.\n",
        "\n",
        "Assim, no caso duma amostra ordenada,\n",
        "  * primeiro quartil (designado por Q1/4) = quartil inferior = é o valor aos 25% da amostra ordenada = 25º percentil\n",
        "  * segundo quartil (designado por Q2/4) = mediana = é o valor até ao qual se encontra 50% da amostra ordenada = 50º percentil, ou 5º decil.\n",
        "  * terceiro quartil (designado por Q3/4) = quartil superior = valor a partir do qual se encontram 25% dos valores mais elevados = valor aos 75% da amostra ordenada = 75º percentil\n",
        "  * à diferença entre os quartis superior e inferior chama-se amplitude inter-quartil.\n",
        "  \n",
        "Observe como os quartis estão presentes na sumarização dos dados. São as linhas 25%, 50% (mediana) e 75%."
      ]
    },
    {
      "cell_type": "code",
      "metadata": {
        "id": "QuM0Z09vxD_2"
      },
      "source": [
        "df.describe()"
      ],
      "execution_count": null,
      "outputs": []
    },
    {
      "cell_type": "markdown",
      "metadata": {
        "id": "vHYCiIc-xD_2"
      },
      "source": [
        "#### Comparando Dados\n",
        "\n",
        "Por fim, vamos comparar o tempo de estudo entre os alunos que passaram ou não. Para tal, vamos definir qualquer nota >= 60 como sendo uma aprovação. Depois disso, vamos alterar o DataFrame para conter tal informação.\n",
        "\n",
        "Primeiro criando a série com tal informação."
      ]
    },
    {
      "cell_type": "code",
      "metadata": {
        "id": "oykqNAaMxD_2"
      },
      "source": [
        "passed = df['Grade'] >= 60\n",
        "passed"
      ],
      "execution_count": null,
      "outputs": []
    },
    {
      "cell_type": "markdown",
      "metadata": {
        "id": "IdgbRahPxD_2"
      },
      "source": [
        "Agora, alterando o DataFrame."
      ]
    },
    {
      "cell_type": "code",
      "metadata": {
        "id": "x029pTepxD_2"
      },
      "source": [
        "df['Passed'] = passed\n",
        "df"
      ],
      "execution_count": null,
      "outputs": []
    },
    {
      "cell_type": "markdown",
      "metadata": {
        "id": "PeewxxiMxD_2"
      },
      "source": [
        "Agora, vamos entender o tempo de dedicação dos alunos que passam e dos que não passam. Podemos fazer uso do Boxplot para tal comparativo. Na estatística descritiva, o boxplot é uma ferramenta gráfica para representar a variação de dados observados de uma variável numérica por meio de quartis.\n",
        "\n",
        "A \"caixa\" mostra o primeiro e terceiro quartil. A linha no meio mostra o segundo, a mediana. Portanto, a caixa se estende dos valores dos quartil de Q1 a Q3 dos dados, com uma linha na mediana (Q2). Os bigodes se estendem das bordas da caixa para mostrar a extensão dos dados. Por padrão, eles estendem não mais do que 1,5 * IQR (IQR = Q3 - Q1) das bordas da caixa, terminando no ponto de dados mais distante dentro desse intervalo. Valores fora desta faix são plotados como pontos separados. "
      ]
    },
    {
      "cell_type": "code",
      "metadata": {
        "id": "t7YfvLQpxD_2"
      },
      "source": [
        "df.boxplot(column='StudyHours', by='Passed', grid=False)"
      ],
      "execution_count": null,
      "outputs": []
    },
    {
      "cell_type": "markdown",
      "metadata": {
        "id": "Yx_ITTOexD_3"
      },
      "source": [
        "Observe que, como esperado, alunos que passam estudam mais. Os quartis, portanto a distribuição dos dados, são mais altos. Para observar os valores podemos fazer um groupby.\n",
        "\n",
        "Abaixo eu agrupo os dados por passou ou não. Depois, pego as horas de estudo. Por fim, observo as estatíticas."
      ]
    },
    {
      "cell_type": "code",
      "metadata": {
        "id": "4r5C1feexD_3"
      },
      "source": [
        "df.groupby('Passed')['StudyHours'].describe()"
      ],
      "execution_count": null,
      "outputs": []
    },
    {
      "cell_type": "markdown",
      "metadata": {
        "id": "3T06Aft3xD_3"
      },
      "source": [
        "Observe como 25% (primeiro quartil) dos alunos que não passam, estudam menos do que 8,25 horas. Para os que passam, este valor é de 13,125. Agora pense no complemento dos 25%. 75% dos alunos que passam estudam pelo menos 13h! Isso é bem maior do que as 8h dos que não passam!"
      ]
    },
    {
      "cell_type": "markdown",
      "metadata": {
        "id": "gxH7dV1BxD_3"
      },
      "source": [
        "### Correlacionando Dados\n",
        "\n",
        "Por fim, podemos correlacional o tempo de estudo com a nota."
      ]
    },
    {
      "cell_type": "code",
      "metadata": {
        "id": "_nilYbMCxD_3"
      },
      "source": [
        "plt.scatter(df.StudyHours, df.Grade, edgecolor='k', alpha=0.75)\n",
        "plt.xlabel('Hours')\n",
        "plt.ylabel('Grade')"
      ],
      "execution_count": null,
      "outputs": []
    },
    {
      "cell_type": "markdown",
      "metadata": {
        "id": "3tg0lEjgxD_3"
      },
      "source": [
        "## Exercícios (Flight Data)\n",
        "\n",
        "Eu espero que o tutorial acima tenha sido uma boa revisão de análise exploratória de dados. Agora é com você! Nesta lista, você explorará um conjunto de dados do mundo real contendo dados de voos do Departamento de Transporte dos EUA.\n",
        "\n",
        "Vamos começar carregando e visualizando os dados. "
      ]
    },
    {
      "cell_type": "code",
      "metadata": {
        "id": "Vj3osvu5xD_3"
      },
      "source": [
        "df = pd.read_csv('https://raw.githubusercontent.com/icd-ufmg/icd-ufmg.github.io/master/listas/l3/flights.csv')"
      ],
      "execution_count": null,
      "outputs": []
    },
    {
      "cell_type": "markdown",
      "metadata": {
        "id": "vBJsxhCzxD_4"
      },
      "source": [
        "O conjunto de dados contém observações de voos domésticos dos EUA em 2013 e consiste nos seguintes campos:\n",
        "* Ano: o ano do voo (todos os registros são de 2013)\n",
        "* Mês: o mês do voo\n",
        "* Dia do mês: o dia do mês em que o voo partiu\n",
        "* DayOfWeek: o dia da semana em que o voo partiu - de 1 (segunda-feira) a 7 (domingo)\n",
        "* Transportadora: a abreviatura de duas letras da companhia aérea.\n",
        "* OriginAirportID: Um identificador numérico exclusivo para o aeroporto de partida\n",
        "* Nome do aeroporto de origem: o nome completo do aeroporto de partida\n",
        "* OriginCity: a cidade do aeroporto de partida\n",
        "* Estado de origem: o estado do aeroporto de partida\n",
        "* DestAirportID: Um identificador numérico único para o aeroporto de destino\n",
        "* DestAirportName: o nome completo do aeroporto de destino\n",
        "* DestCity: a cidade do aeroporto de destino\n",
        "* DestState: o estado do aeroporto de destino\n",
        "* CRSDepTime: a hora de partida programada\n",
        "* DepDelay: o número de minutos de atraso na partida (o voo que saiu antes do horário tem um valor negativo)\n",
        "* DelDelay15: Um indicador binário de que a partida foi atrasada por mais de 15 minutos (e, portanto, considerada \"atrasada\")\n",
        "* CRSArrTime: a hora de chegada programada\n",
        "* ArrDelay: o número de minutos de atraso na chegada (o voo que chegou antes do horário tem um valor negativo)\n",
        "* ArrDelay15: Um indicador binário de que a chegada foi atrasada em mais de 15 minutos (e, portanto, considerada \"atrasada\")\n",
        "* Cancelado: um indicador binário de que o voo foi cancelado "
      ]
    },
    {
      "cell_type": "code",
      "metadata": {
        "id": "UcL3OPL3xD_4"
      },
      "source": [
        "df.head()"
      ],
      "execution_count": null,
      "outputs": []
    },
    {
      "cell_type": "markdown",
      "metadata": {
        "id": "VeHqP3slxD_4"
      },
      "source": [
        "### Exercício 1\n",
        "\n",
        "Conte a quantidade de dados faltantes na tabela. Isto é, em TODAS as células. O método retorna apenas um número."
      ]
    },
    {
      "cell_type": "code",
      "metadata": {
        "id": "pK-nlcaAxD_4"
      },
      "source": [
        "def count_missing(df) -> int:\n",
        "    return None"
      ],
      "execution_count": null,
      "outputs": []
    },
    {
      "cell_type": "code",
      "metadata": {
        "id": "HEFu8gJ_xD_4"
      },
      "source": [
        "assert_equal(2761, count_missing(df))"
      ],
      "execution_count": null,
      "outputs": []
    },
    {
      "cell_type": "markdown",
      "metadata": {
        "id": "ozXsqKbPxD_4"
      },
      "source": [
        "### Exercício 2\n",
        "\n",
        "Crie um novo DataFrame sem as linhas com dados faltantes"
      ]
    },
    {
      "cell_type": "code",
      "metadata": {
        "id": "FlRSjtXaxD_4"
      },
      "source": [
        "def drop_missing(df):\n",
        "    return None"
      ],
      "execution_count": null,
      "outputs": []
    },
    {
      "cell_type": "code",
      "metadata": {
        "id": "ugUgKsOGxD_5"
      },
      "source": [
        "assert_equal(269179, drop_missing(df).shape[0])"
      ],
      "execution_count": null,
      "outputs": []
    },
    {
      "cell_type": "markdown",
      "metadata": {
        "id": "w2r65wXrxD_5"
      },
      "source": [
        "### Exercício 3\n",
        "\n",
        "Retorne a mediana de TODAS as colunas numéricas do DataFrame"
      ]
    },
    {
      "cell_type": "code",
      "metadata": {
        "id": "4zIxthVAxD_5"
      },
      "source": [
        "def all_median(df):\n",
        "    return None"
      ],
      "execution_count": null,
      "outputs": []
    },
    {
      "cell_type": "code",
      "metadata": {
        "id": "fpeRvvssxD_5"
      },
      "source": [
        "assert_equal(2013, all_median(df)['Year'])\n",
        "assert_equal(7, all_median(df)['Month'])"
      ],
      "execution_count": null,
      "outputs": []
    },
    {
      "cell_type": "markdown",
      "metadata": {
        "id": "UuaYeUR5xD_5"
      },
      "source": [
        "### Exercício 4\n",
        "\n",
        "Quais são os atrasos médios (médios) de partida e chegada? Retorne uma tupla."
      ]
    },
    {
      "cell_type": "code",
      "metadata": {
        "id": "0GkvLrf7xD_6"
      },
      "source": [
        "def delay(df) -> tuple:\n",
        "    return None"
      ],
      "execution_count": null,
      "outputs": []
    },
    {
      "cell_type": "code",
      "metadata": {
        "id": "tYj4rgLUxD_7"
      },
      "source": [
        "assert_almost_equal(10.456614371849216, delay(df)[0])\n",
        "assert_almost_equal(6.563286883449304, delay(df)[1])"
      ],
      "execution_count": null,
      "outputs": []
    },
    {
      "cell_type": "markdown",
      "metadata": {
        "id": "BuzcYQDwxD_7"
      },
      "source": [
        "### Exercício 5\n",
        "\n",
        "Indique qual rota tem o maior tempo de voo em MÉDIA. Use a coluna OriginAirportName e DestinationAirportName. Retorne uma tupla `(OriginAirportName, DestinationAirportName)`. Lembre-se de não considerar voos cancelados!"
      ]
    },
    {
      "cell_type": "code",
      "metadata": {
        "id": "ln62Hn9txD_7"
      },
      "source": [
        "def high_delay(df):\n",
        "    return None"
      ],
      "execution_count": null,
      "outputs": []
    },
    {
      "cell_type": "markdown",
      "metadata": {
        "id": "XbJMkXNAxD_7"
      },
      "source": [
        "### Exercício 6\n",
        "\n",
        "Faça um boxplot dos atrasos de saída por dia da semana!\n",
        "\n",
        "1. Dica, use `grid=False, showfliers=False` para o plot ficar mais limpo\n",
        "\n",
        "*Saída esperada*\n",
        "\n",
        "![](https://raw.githubusercontent.com/icd-ufmg/icd-ufmg.github.io/master/listas/l3/plot1.png)"
      ]
    },
    {
      "cell_type": "code",
      "metadata": {
        "id": "gxT5SFyAxD_7"
      },
      "source": [
        ""
      ],
      "execution_count": null,
      "outputs": []
    },
    {
      "cell_type": "markdown",
      "metadata": {
        "id": "bjkRj3sCxD_7"
      },
      "source": [
        "### Exercício 7\n",
        "\n",
        "Correlacione o atraso de saída com o atraso de chegada!\n",
        "\n",
        "1. Dica, remova os voos cancelados\n",
        "\n",
        "*Saída esperada*\n",
        "\n",
        "![](https://raw.githubusercontent.com/icd-ufmg/icd-ufmg.github.io/master/listas/l3/plot2.png)"
      ]
    },
    {
      "cell_type": "code",
      "metadata": {
        "id": "S-0DmSR7xD_7"
      },
      "source": [
        ""
      ],
      "execution_count": null,
      "outputs": []
    }
  ]
}