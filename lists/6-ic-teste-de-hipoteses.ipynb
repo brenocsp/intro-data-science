{
  "nbformat": 4,
  "nbformat_minor": 0,
  "metadata": {
    "colab": {
      "name": "Lista 06 - ICs + Teste de Hipóteses.ipynb",
      "provenance": [],
      "collapsed_sections": [
        "3Shd4aI5d7Kk",
        "1iY0Gs9MRmum",
        "nZm-IaeHLLk0",
        "T40kO1gMDxzo"
      ],
      "toc_visible": true,
      "include_colab_link": true
    },
    "kernelspec": {
      "name": "python3",
      "display_name": "Python 3"
    },
    "language_info": {
      "name": "python"
    }
  },
  "cells": [
    {
      "cell_type": "markdown",
      "metadata": {
        "id": "view-in-github",
        "colab_type": "text"
      },
      "source": [
        "<a href=\"https://colab.research.google.com/github/brenocsp/intro-data-science/blob/main/lists/6-ic-teste-de-hipoteses.ipynb\" target=\"_parent\"><img src=\"https://colab.research.google.com/assets/colab-badge.svg\" alt=\"Open In Colab\"/></a>"
      ]
    },
    {
      "cell_type": "markdown",
      "metadata": {
        "id": "7hiG1ft1KkBd"
      },
      "source": [
        "# Lista 6 - Teorema Central do Limite, ICs e Testes de Hipóteses"
      ]
    },
    {
      "cell_type": "markdown",
      "metadata": {
        "id": "3Shd4aI5d7Kk"
      },
      "source": [
        "## Teorema Central do Limite e Distribuição Normal"
      ]
    },
    {
      "cell_type": "markdown",
      "metadata": {
        "id": "5pn48p_Td_PD"
      },
      "source": [
        "**Conceito:** A distribuição das médias de variáveis aleatórias independentes e identicamente distribuídas tendo a uma Normal.\n",
        "\n",
        "Vamos fazer um experimento clássico para demonstrar na prática.\n",
        "\n",
        "- Geraremos $n$ amostras de tamanho 100 de uma distribuição qualquer (utilizaremos uma Uniforme, mas funciona para qualquer distribuição).\n",
        "- Calcularemos suas médias.\n",
        "- Plotamos um histograma.\n",
        "- Variaremos o tamanho de $n$ e repetiremos.\n",
        "\n",
        "Vamos usar:\n",
        "- $n=10$\n",
        "- $n=20$\n",
        "- $n=50$\n",
        "- $n=100$\n",
        "- $n=1000$"
      ]
    },
    {
      "cell_type": "code",
      "metadata": {
        "colab": {
          "base_uri": "https://localhost:8080/",
          "height": 1000
        },
        "id": "ZdIBa0AMeqPw",
        "outputId": "e175d1c1-f68f-46fd-b088-ed60d1bb7e34"
      },
      "source": [
        "import numpy as np\n",
        "import matplotlib.pyplot as plt\n",
        "\n",
        "from numpy.testing import assert_almost_equal\n",
        "from numpy.testing import assert_equal\n",
        "from numpy.testing import assert_array_almost_equal\n",
        "from numpy.testing import assert_array_equal\n",
        "\n",
        "size = 100\n",
        "\n",
        "medias = []\n",
        "for n in [10, 20, 50, 100, 1000]:\n",
        "  for _ in range(n):\n",
        "    data = np.random.uniform(1, 1000, size)\n",
        "    medias.append(data.mean())\n",
        "  plt.hist(medias, bins=15, rwidth=0.95)\n",
        "  plt.title('N={}'.format(n))\n",
        "  plt.show()"
      ],
      "execution_count": null,
      "outputs": [
        {
          "output_type": "display_data",
          "data": {
            "image/png": "[encoded data removed]",
            "text/plain": [
              "<Figure size 432x288 with 1 Axes>"
            ]
          },
          "metadata": {
            "needs_background": "light"
          }
        },
        {
          "output_type": "display_data",
          "data": {
            "image/png": "[encoded data removed]",
            "text/plain": [
              "<Figure size 432x288 with 1 Axes>"
            ]
          },
          "metadata": {
            "needs_background": "light"
          }
        },
        {
          "output_type": "display_data",
          "data": {
            "image/png": "[encoded data removed]",
            "text/plain": [
              "<Figure size 432x288 with 1 Axes>"
            ]
          },
          "metadata": {
            "needs_background": "light"
          }
        },
        {
          "output_type": "display_data",
          "data": {
            "image/png": "[encoded data removed]",
            "text/plain": [
              "<Figure size 432x288 with 1 Axes>"
            ]
          },
          "metadata": {
            "needs_background": "light"
          }
        },
        {
          "output_type": "display_data",
          "data": {
            "image/png": "[encoded data removed]",
            "text/plain": [
              "<Figure size 432x288 with 1 Axes>"
            ]
          },
          "metadata": {
            "needs_background": "light"
          }
        }
      ]
    },
    {
      "cell_type": "markdown",
      "metadata": {
        "id": "f4lOZJePeptL"
      },
      "source": [
        "Note que a medida que aumentamos o número de médias amostradas ($n$), o histograma se modifica cada vez mais próximo de uma distribuição Normal.\n",
        "\n",
        "**Está demonstrado o princípio do Teorema Central do Limite!**\n",
        "\n",
        "Ao demonstrar o TCL, mostramos indiretamente porque a distribuição Normal é tão importante. Vamos agora, revisar e explorar a Normal um pouco mais.\n",
        "\n",
        "Se as médias de variáveis aleatórias apresentam distribuição próxima a Normal, como podemos estimar probabilidades e fazer testes com base na Normal?\n",
        "\n",
        "Uma distribuição Normal é definida por dois parâmetros:\n",
        "- Média ($\\mu$).\n",
        "- Desvio padrão ($\\sigma$), ou variância ($\\sigma^2$).\n",
        "\n",
        "Tendo esses valores de uma população e uma amostra com $n$ elementos, podemos normalizá-la de forma que os valores resultantes possuem um distribuição Normal Gaussiana, ou seja, com $\\mu=0$ e $\\sigma^2=1$, denotada por Normal(0,1), ou ainda, N(0,1). Para fazer isso, utilizamos:\n",
        "\n",
        "$$ Z = \\frac {\\bar X-\\mu}{\\sigma/\\sqrt{n}}, $$\n",
        "\n",
        "onde:\n",
        "- $\\bar{X}$: é a média encontrada em uma amostra de tamanho $n$.\n",
        "- $\\mu$: é a média da população da qual realizamos a amostra.\n",
        "- $\\sigma^2$: é a variância da população da qual realizamos a amostra.\n",
        "\n",
        "Assim, temos:\n",
        "\n",
        "$$Z \\thicksim Normal(0,1)$$\n",
        "\n",
        "Lembre-se que também sabemos que a variância do estimador da média é:\n",
        "\n",
        "$$Var(\\hat{\\mu}) = \\frac{\\sigma^2}{n}$$\n",
        "\n",
        "Assim:\n",
        "\n",
        "$$\\bar{X} \\thicksim Normal(\\mu, \\frac{\\sigma^2}{n})$$\n",
        "\n",
        "A Normal Gaussiana é de extrema importância, pois serve de base para definirmos probabilidades. Vamos ver um exemplo."
      ]
    },
    {
      "cell_type": "markdown",
      "metadata": {
        "id": "JhIrLbm1E846"
      },
      "source": [
        "**Exemplo:**Dado que a população de homens de um país apresenta pesos distribuídos normalmente com média de 173lb e desvio-padrão de 30lb. Como podemos determinar a probabilidade de um homem escolhido aleatoriamente pesar mais de 180lb?\n",
        "\n",
        "Nesse caso, temos:\n",
        "- $\\mu = 173$\n",
        "- $\\sigma = 30$\n",
        "- $n = 1$\n",
        "\n",
        "Vamos encontrar o valor de Z."
      ]
    },
    {
      "cell_type": "code",
      "metadata": {
        "colab": {
          "base_uri": "https://localhost:8080/"
        },
        "id": "jPgEPEDLE8ht",
        "outputId": "42d36b06-c41d-43cf-9ee9-af6d9b5047d9"
      },
      "source": [
        "def z_obs(x, mu, sigma, n):\n",
        "  z = (x - mu)/(sigma/np.sqrt(n))\n",
        "  return z.round(2)\n",
        "\n",
        "z_obs(180, 173, 30, 1)"
      ],
      "execution_count": null,
      "outputs": [
        {
          "output_type": "execute_result",
          "data": {
            "text/plain": [
              "0.23"
            ]
          },
          "metadata": {},
          "execution_count": 2
        }
      ]
    },
    {
      "cell_type": "markdown",
      "metadata": {
        "id": "TZLpIFUCGA_P"
      },
      "source": [
        "Sabemos que $z$ é um valor de uma distribuição Normal com média 0 e variância 1.\n",
        "\n",
        "Vamos então encontrar a probabilidade de obtermos um valor maior que $z$.\n",
        "\n",
        "Para isso, estatísticos usam uma tabela com as probabilidades bem definidas. Cientistas de dados fazem assim:"
      ]
    },
    {
      "cell_type": "code",
      "metadata": {
        "colab": {
          "base_uri": "https://localhost:8080/"
        },
        "id": "IbrVxyvvGArT",
        "outputId": "22022d17-6a4c-4513-fe0a-4e14bc1343ec"
      },
      "source": [
        "import scipy.stats as ss\n",
        "\n",
        "print(ss.distributions.norm.sf(0.23))"
      ],
      "execution_count": null,
      "outputs": [
        {
          "output_type": "stream",
          "name": "stdout",
          "text": [
            "0.40904588485799415\n"
          ]
        }
      ]
    },
    {
      "cell_type": "markdown",
      "metadata": {
        "id": "o1-eIDy9L4vP"
      },
      "source": [
        "Isso nos diz que a probabilidade de obtermos um valor maior que o valor de $z$ encontrado (0.23), na distribuição Normal(0,1) é 0.4090!\n",
        "\n",
        "Logo, a probabilidade de um homem selecionado aleatoriamente pesar mais que 180lb é 0.4090!"
      ]
    },
    {
      "cell_type": "markdown",
      "metadata": {
        "id": "t7DGTgDVNHnH"
      },
      "source": [
        "E se quisermos calcular a probabilidade do peso médio de 36 homens selecionados aleatoriamente ser maior que 180lb?\n",
        "\n",
        "A ideia é a mesma."
      ]
    },
    {
      "cell_type": "code",
      "metadata": {
        "colab": {
          "base_uri": "https://localhost:8080/"
        },
        "id": "GHfW-AHjEeJ0",
        "outputId": "737aa106-2bba-4cb6-c80b-027919b81b61"
      },
      "source": [
        "print(z_obs(180, 173, 30, 36))\n",
        "print(ss.distributions.norm.sf(z_obs(180, 173, 30, 36)))"
      ],
      "execution_count": null,
      "outputs": [
        {
          "output_type": "stream",
          "text": [
            "1.4\n",
            "0.08075665923377107\n"
          ],
          "name": "stdout"
        }
      ]
    },
    {
      "cell_type": "markdown",
      "metadata": {
        "id": "hsK0Rw7UOToa"
      },
      "source": [
        "Concluímos que há uma probabilidade de 0.4090 de UM indivíduo pesar mais que 180, porém a probabilidade da média do peso de 36 homens é de apenas 0.0808.\n",
        "\n",
        "**É muito mais fácil um indivíduo se afastar da média, do que um grupo com 36 indivíduos.**\n",
        "\n",
        "Note que escancaramos a influência do tamanho da amostra. Para uma mesma distribuição com os mesmos parâmetros, aumentar o tamanho da amostra significa se afastar da média na distribuição Z (note que o valor de $z$ para o caso com $n=36$ é superior ao caso com $n=1$ e a média da distribuição de Z é 0), porém significa que a probabilidade da média dos pesos ser superior a 180lb é muito menor."
      ]
    },
    {
      "cell_type": "markdown",
      "metadata": {
        "id": "1iY0Gs9MRmum"
      },
      "source": [
        "## Exercício 1"
      ]
    },
    {
      "cell_type": "markdown",
      "metadata": {
        "id": "gdcoz9pyRp7s"
      },
      "source": [
        "Sabendo que os preços de bolsas de uma marca de grife seguem uma distribuição Normal com média 1100 reais e desvio-padrão de 420, altere o código abaixo para retornar a probabilidade de uma bolsa selecionada aleatoriamente custar mais que 1400 reais."
      ]
    },
    {
      "cell_type": "code",
      "metadata": {
        "id": "Z4dMYnjxRu0p"
      },
      "source": [
        "def prob(x, mu, sigma, n):\n",
        "  # a função deve retornar um float:\n",
        "  # a probabilidade de uma bolsa custar mais que 1400\n",
        "  # P(X>1400)\n",
        "  x = (x - mu)/(sigma/np.sqrt(n))\n",
        "  prob = ss.distributions.norm.sf(x)\n",
        "\n",
        "  return prob"
      ],
      "execution_count": null,
      "outputs": []
    },
    {
      "cell_type": "code",
      "metadata": {
        "id": "nicZmoyld71h"
      },
      "source": [
        "p = prob(1400, 1100, 420, 1)\n",
        "assert_equal(0.2375, p.round(4))"
      ],
      "execution_count": null,
      "outputs": []
    },
    {
      "cell_type": "markdown",
      "metadata": {
        "id": "nZm-IaeHLLk0"
      },
      "source": [
        "## Intervalos de Confiança"
      ]
    },
    {
      "cell_type": "markdown",
      "metadata": {
        "id": "6-ol-DpeLOg8"
      },
      "source": [
        "Vimos duas maneiras de construirmos intervalos de confiança para variáveis aleatórias:\n",
        "\n",
        "- Usando o teorema central do limite.\n",
        "- Usando *Bootstrap*.\n",
        "\n",
        "Com baso no TCL e nas propriedades da distribuição Normal podemos definir intervalos de confiança. Basta definirmos o nível de confiança associado ao nosso intervalo e manipularmos a equação do TCL utilizada para encontrar $z$ de forma a isolar $\\mu$ (parâmetro de interesse).\n",
        "\n",
        "$$\\begin{align}\n",
        "0.95 = P(-z \\le Z \\le z)=P \\left(-1.96 \\le \\frac {\\bar X-\\mu}{\\sigma/\\sqrt{n}} \\le 1.96 \\right) = P \\left( \\bar X - 1.96 \\frac \\sigma {\\sqrt{n}} \\le \\mu \\le \\bar X + 1.96 \\frac \\sigma {\\sqrt{n}}\\right),\n",
        "\\end{align}$$\n",
        "\n",
        "onde 1.96 é o valor de $z$ associado ao nível de confiança escolhido. Basicamente é o inverso do que estávamos fazendo. Ao invés de encontrarmos a probabilidade associada a um valor $z$, encontramos o valor $z$ associado a uma probabilidade pré-definida (nível de confiança)."
      ]
    },
    {
      "cell_type": "markdown",
      "metadata": {
        "id": "dtp3aTSf3A1N"
      },
      "source": [
        "## Exercício 2"
      ]
    },
    {
      "cell_type": "markdown",
      "metadata": {
        "id": "cRhvJi8A3D0_"
      },
      "source": [
        "**a) Qual a temperatura média do corpo humano?**\n",
        "\n",
        "Os dados a seguir foram obtidos por pesquisadores da Universidade de Maryland que mediram 106 temperaturas do corpo humano. Construa um intervalo de 95% de confiança para a média. Utilize a equação a cima."
      ]
    },
    {
      "cell_type": "code",
      "metadata": {
        "id": "eIfLBA7RaNp-"
      },
      "source": [
        "data = np.array([98.6, 98.6, 98.0, 98.0, 99.0, 98.4, 98.4, 98.4, 98.4, 98.6, 98.6, \n",
        "                 98.8, 98.6, 97.0, 97.0, 98.8, 97.6, 97.7, 98.8, 98.0, 98.0, 98.3,\n",
        "                 98.5, 97.3, 98.7, 97.4, 98.9, 98.6, 99.5, 97.5, 97.3, 97.6, 98.2,\n",
        "                 99.6, 98.7, 99.4, 98.2, 98.0, 98.6, 98.6, 97.2, 98.4, 98.6, 98.2,\n",
        "                 98.0, 97.8, 98.0, 98.4, 98.6, 98.6, 97.8, 99.0, 96.5, 97.6, 98.0,\n",
        "                 96.9, 97.6, 97.1, 97.9, 98.4, 97.3, 98.0, 97.5, 97.6, 98.2, 98.5,\n",
        "                 98.8, 98.7, 97.8, 98.0, 97.1, 97.4, 99.4, 98.4, 98.6, 98.4, 98.5,\n",
        "                 98.6, 98.3, 98.7, 98.8, 99.1, 98.6, 97.9, 98.8, 98.0, 98.7, 98.5,\n",
        "                 98.9, 98.4, 98.6, 97.1, 97.9, 98.8, 98.7, 97.6, 98.2, 99.2, 97.8,\n",
        "                 98.0, 98.4, 97.8, 98.4, 97.4, 98.0, 97.0])"
      ],
      "execution_count": null,
      "outputs": []
    },
    {
      "cell_type": "code",
      "metadata": {
        "id": "dpfiLwnl4uEe"
      },
      "source": [
        "def ic(data):\n",
        "  # altere a função para retornar uma tupla (LI, LS) com os limites do intervalo de confiança\n",
        "  LI = data.mean() - 1.96 * (data.std(ddof=1) / np.sqrt(len(data)))\n",
        "  LS = data.mean() + 1.96 * (data.std(ddof=1) / np.sqrt(len(data)))\n",
        "  return (LI, LS)"
      ],
      "execution_count": null,
      "outputs": []
    },
    {
      "cell_type": "code",
      "metadata": {
        "id": "Otsq8KgQ5gnw"
      },
      "source": [
        "(LI, LS) = ic(data)\n",
        "assert_equal(98.08, LI.round(2))\n",
        "assert_equal(98.32, LS.round(2))"
      ],
      "execution_count": null,
      "outputs": []
    },
    {
      "cell_type": "markdown",
      "metadata": {
        "id": "kEHfuP6b6A19"
      },
      "source": [
        "**b) Bootstrap**\n",
        "\n",
        "Suponha que você tenha apenas as 15 primeiras observações das temperaturas corporais. Um intervalo de confiança com poucos dados pode não ser muito aconselhável, pois não há garantias de que a sua amostra seja de fato representativa da sua população. Para contornar esse tipo de empecilho, é comum utilizarmos técnicas de amostragem que garantam estimativas confiáveis que reflitam a população de interesse. Uma das maneiras de realizarmos esse processo de amostragem é chamado de *Bootstrap* e consiste em realizar sub-amostras da amostra disponível, com reposição. Assim gera-se várias novas amostras com elementos que podem se repetir nessas novas amostras, mesmo que isso não ocorra na amostra original.\n",
        "\n",
        "Nessa lista, não daremos muito enfoque na explicação do *Bootstrap*, apenas na revisão. Caso precise relembrar o método, sugerimos a revisão das aulas e listas de exercícios com *Bootstrap*.\n",
        "\n",
        "ALTERE A FUNÇÃO ABAIXO PARA RETORNAR UM INTERVALO DE 95% DE CONFIANÇA PARA AS TEMPERATURAS CORPORAIS DOS 15 PRIMEIROS INDIVÍDUOS. UTILIZE 5000 SUB-AMOSTRAS DE TAMANHO IGUAL AO TAMANHO ORIGINAL (15)."
      ]
    },
    {
      "cell_type": "code",
      "metadata": {
        "id": "txWt6B-o4cqP"
      },
      "source": [
        "df = data\n",
        "def bootstrap_mean(x):\n",
        "  # OS PARÂMETROS INICIAIS PODEM SER ALTERADOS A SEU GOSTO\n",
        "  # SUA FUNÇÃO DEVE RETORNAR UMA TUPLA COM OS LIMITES DO IC\n",
        "  # (LI, LS)\n",
        "  \n",
        "  values = np.zeros(5000)\n",
        "\n",
        "  for i in range(5000):\n",
        "    np.random.seed(i)\n",
        "    np.random.shuffle(x)\n",
        "    tmp = data[:15]\n",
        "    values[i] = tmp.mean()\n",
        "  \n",
        "  alpha = 0.95\n",
        "  LI = np.percentile(values, 100*((1-alpha)/2))\n",
        "  LS = np.percentile(values, 100*(alpha+ (1-alpha)/2))\n",
        "\n",
        "  return (LI, LS)"
      ],
      "execution_count": null,
      "outputs": []
    },
    {
      "cell_type": "code",
      "metadata": {
        "id": "Iu6LqCYf7k2G",
        "colab": {
          "base_uri": "https://localhost:8080/",
          "height": 373
        },
        "outputId": "ce53ff5b-7fcb-47f1-e5f3-009f80ce639f"
      },
      "source": [
        "(LI, LS) = bootstrap_mean(df)\n",
        "assert_equal(97.97, LI.round(2))\n",
        "assert_equal(98.55, LS.round(2))"
      ],
      "execution_count": null,
      "outputs": [
        {
          "output_type": "error",
          "ename": "AssertionError",
          "evalue": "ignored",
          "traceback": [
            "\u001b[0;31m---------------------------------------------------------------------------\u001b[0m",
            "\u001b[0;31mAssertionError\u001b[0m                            Traceback (most recent call last)",
            "\u001b[0;32m<ipython-input-241-8dbe8ee04a3e>\u001b[0m in \u001b[0;36m<module>\u001b[0;34m()\u001b[0m\n\u001b[1;32m      1\u001b[0m \u001b[0;34m(\u001b[0m\u001b[0mLI\u001b[0m\u001b[0;34m,\u001b[0m \u001b[0mLS\u001b[0m\u001b[0;34m)\u001b[0m \u001b[0;34m=\u001b[0m \u001b[0mbootstrap_mean\u001b[0m\u001b[0;34m(\u001b[0m\u001b[0mdf\u001b[0m\u001b[0;34m)\u001b[0m\u001b[0;34m\u001b[0m\u001b[0;34m\u001b[0m\u001b[0m\n\u001b[0;32m----> 2\u001b[0;31m \u001b[0massert_equal\u001b[0m\u001b[0;34m(\u001b[0m\u001b[0;36m97.97\u001b[0m\u001b[0;34m,\u001b[0m \u001b[0mLI\u001b[0m\u001b[0;34m.\u001b[0m\u001b[0mround\u001b[0m\u001b[0;34m(\u001b[0m\u001b[0;36m2\u001b[0m\u001b[0;34m)\u001b[0m\u001b[0;34m)\u001b[0m\u001b[0;34m\u001b[0m\u001b[0;34m\u001b[0m\u001b[0m\n\u001b[0m\u001b[1;32m      3\u001b[0m \u001b[0massert_equal\u001b[0m\u001b[0;34m(\u001b[0m\u001b[0;36m98.55\u001b[0m\u001b[0;34m,\u001b[0m \u001b[0mLS\u001b[0m\u001b[0;34m.\u001b[0m\u001b[0mround\u001b[0m\u001b[0;34m(\u001b[0m\u001b[0;36m2\u001b[0m\u001b[0;34m)\u001b[0m\u001b[0;34m)\u001b[0m\u001b[0;34m\u001b[0m\u001b[0;34m\u001b[0m\u001b[0m\n",
            "\u001b[0;32m/usr/local/lib/python3.7/dist-packages/numpy/testing/_private/utils.py\u001b[0m in \u001b[0;36massert_equal\u001b[0;34m(actual, desired, err_msg, verbose)\u001b[0m\n\u001b[1;32m    419\u001b[0m         \u001b[0;31m# Explicitly use __eq__ for comparison, gh-2552\u001b[0m\u001b[0;34m\u001b[0m\u001b[0;34m\u001b[0m\u001b[0;34m\u001b[0m\u001b[0m\n\u001b[1;32m    420\u001b[0m         \u001b[0;32mif\u001b[0m \u001b[0;32mnot\u001b[0m \u001b[0;34m(\u001b[0m\u001b[0mdesired\u001b[0m \u001b[0;34m==\u001b[0m \u001b[0mactual\u001b[0m\u001b[0;34m)\u001b[0m\u001b[0;34m:\u001b[0m\u001b[0;34m\u001b[0m\u001b[0;34m\u001b[0m\u001b[0m\n\u001b[0;32m--> 421\u001b[0;31m             \u001b[0;32mraise\u001b[0m \u001b[0mAssertionError\u001b[0m\u001b[0;34m(\u001b[0m\u001b[0mmsg\u001b[0m\u001b[0;34m)\u001b[0m\u001b[0;34m\u001b[0m\u001b[0;34m\u001b[0m\u001b[0m\n\u001b[0m\u001b[1;32m    422\u001b[0m \u001b[0;34m\u001b[0m\u001b[0m\n\u001b[1;32m    423\u001b[0m     \u001b[0;32mexcept\u001b[0m \u001b[0;34m(\u001b[0m\u001b[0mDeprecationWarning\u001b[0m\u001b[0;34m,\u001b[0m \u001b[0mFutureWarning\u001b[0m\u001b[0;34m)\u001b[0m \u001b[0;32mas\u001b[0m \u001b[0me\u001b[0m\u001b[0;34m:\u001b[0m\u001b[0;34m\u001b[0m\u001b[0;34m\u001b[0m\u001b[0m\n",
            "\u001b[0;31mAssertionError\u001b[0m: \nItems are not equal:\n ACTUAL: 97.97\n DESIRED: 97.91"
          ]
        }
      ]
    },
    {
      "cell_type": "markdown",
      "metadata": {
        "id": "T40kO1gMDxzo"
      },
      "source": [
        "## Testes de Hipóteses"
      ]
    },
    {
      "cell_type": "markdown",
      "metadata": {
        "id": "1vzMwZSLD0v1"
      },
      "source": [
        "Até o momento, vimos como realizar testes de hipóteses através de algumas metodologias diferentes. Podemos citar:\n",
        "\n",
        "- Testes A/B: comparamos intervalos de confiança para o estimador da média (mediana), ou da diferença de médias e analisamos o boxplot. Nesse caso, a criação de intervalos de confiança pode ser via *bootstrap* ou via TLC.\n",
        "- Testes de Permutação: embaralhamos a amostra retirando a influência de uma variável categórica e comparamos se a média se mantém.\n",
        "\n",
        "Utilizando o conhecimento sobre testes de hipóteses, resolva as questões com o dataset a seguir."
      ]
    },
    {
      "cell_type": "code",
      "metadata": {
        "id": "DZT-EXCsDzrk",
        "colab": {
          "base_uri": "https://localhost:8080/",
          "height": 270
        },
        "outputId": "fa5ca98b-cccb-467e-8365-ff7928a4175f"
      },
      "source": [
        "import pandas as pd\n",
        "import numpy as np\n",
        "\n",
        "data = pd.read_csv('https://raw.githubusercontent.com/rashida048/Datasets/master/home_data.csv', nrows=100)\n",
        "data.head()"
      ],
      "execution_count": null,
      "outputs": [
        {
          "output_type": "execute_result",
          "data": {
            "text/html": [
              "\n",
              "  <div id=\"df-94764949-8af7-49f4-a909-40bc746e87e2\">\n",
              "    <div class=\"colab-df-container\">\n",
              "      <div>\n",
              "<style scoped>\n",
              "    .dataframe tbody tr th:only-of-type {\n",
              "        vertical-align: middle;\n",
              "    }\n",
              "\n",
              "    .dataframe tbody tr th {\n",
              "        vertical-align: top;\n",
              "    }\n",
              "\n",
              "    .dataframe thead th {\n",
              "        text-align: right;\n",
              "    }\n",
              "</style>\n",
              "<table border=\"1\" class=\"dataframe\">\n",
              "  <thead>\n",
              "    <tr style=\"text-align: right;\">\n",
              "      <th></th>\n",
              "      <th>id</th>\n",
              "      <th>date</th>\n",
              "      <th>price</th>\n",
              "      <th>bedrooms</th>\n",
              "      <th>bathrooms</th>\n",
              "      <th>sqft_living</th>\n",
              "      <th>sqft_lot</th>\n",
              "      <th>floors</th>\n",
              "      <th>waterfront</th>\n",
              "      <th>view</th>\n",
              "      <th>condition</th>\n",
              "      <th>grade</th>\n",
              "      <th>sqft_above</th>\n",
              "      <th>sqft_basement</th>\n",
              "      <th>yr_built</th>\n",
              "      <th>yr_renovated</th>\n",
              "      <th>zipcode</th>\n",
              "      <th>lat</th>\n",
              "      <th>long</th>\n",
              "      <th>sqft_living15</th>\n",
              "      <th>sqft_lot15</th>\n",
              "    </tr>\n",
              "  </thead>\n",
              "  <tbody>\n",
              "    <tr>\n",
              "      <th>0</th>\n",
              "      <td>7129300520</td>\n",
              "      <td>20141013T000000</td>\n",
              "      <td>221900</td>\n",
              "      <td>3</td>\n",
              "      <td>1.00</td>\n",
              "      <td>1180</td>\n",
              "      <td>5650</td>\n",
              "      <td>1.0</td>\n",
              "      <td>0</td>\n",
              "      <td>0</td>\n",
              "      <td>3</td>\n",
              "      <td>7</td>\n",
              "      <td>1180</td>\n",
              "      <td>0</td>\n",
              "      <td>1955</td>\n",
              "      <td>0</td>\n",
              "      <td>98178</td>\n",
              "      <td>47.5112</td>\n",
              "      <td>-122.257</td>\n",
              "      <td>1340</td>\n",
              "      <td>5650</td>\n",
              "    </tr>\n",
              "    <tr>\n",
              "      <th>1</th>\n",
              "      <td>6414100192</td>\n",
              "      <td>20141209T000000</td>\n",
              "      <td>538000</td>\n",
              "      <td>3</td>\n",
              "      <td>2.25</td>\n",
              "      <td>2570</td>\n",
              "      <td>7242</td>\n",
              "      <td>2.0</td>\n",
              "      <td>0</td>\n",
              "      <td>0</td>\n",
              "      <td>3</td>\n",
              "      <td>7</td>\n",
              "      <td>2170</td>\n",
              "      <td>400</td>\n",
              "      <td>1951</td>\n",
              "      <td>1991</td>\n",
              "      <td>98125</td>\n",
              "      <td>47.7210</td>\n",
              "      <td>-122.319</td>\n",
              "      <td>1690</td>\n",
              "      <td>7639</td>\n",
              "    </tr>\n",
              "    <tr>\n",
              "      <th>2</th>\n",
              "      <td>5631500400</td>\n",
              "      <td>20150225T000000</td>\n",
              "      <td>180000</td>\n",
              "      <td>2</td>\n",
              "      <td>1.00</td>\n",
              "      <td>770</td>\n",
              "      <td>10000</td>\n",
              "      <td>1.0</td>\n",
              "      <td>0</td>\n",
              "      <td>0</td>\n",
              "      <td>3</td>\n",
              "      <td>6</td>\n",
              "      <td>770</td>\n",
              "      <td>0</td>\n",
              "      <td>1933</td>\n",
              "      <td>0</td>\n",
              "      <td>98028</td>\n",
              "      <td>47.7379</td>\n",
              "      <td>-122.233</td>\n",
              "      <td>2720</td>\n",
              "      <td>8062</td>\n",
              "    </tr>\n",
              "    <tr>\n",
              "      <th>3</th>\n",
              "      <td>2487200875</td>\n",
              "      <td>20141209T000000</td>\n",
              "      <td>604000</td>\n",
              "      <td>4</td>\n",
              "      <td>3.00</td>\n",
              "      <td>1960</td>\n",
              "      <td>5000</td>\n",
              "      <td>1.0</td>\n",
              "      <td>0</td>\n",
              "      <td>0</td>\n",
              "      <td>5</td>\n",
              "      <td>7</td>\n",
              "      <td>1050</td>\n",
              "      <td>910</td>\n",
              "      <td>1965</td>\n",
              "      <td>0</td>\n",
              "      <td>98136</td>\n",
              "      <td>47.5208</td>\n",
              "      <td>-122.393</td>\n",
              "      <td>1360</td>\n",
              "      <td>5000</td>\n",
              "    </tr>\n",
              "    <tr>\n",
              "      <th>4</th>\n",
              "      <td>1954400510</td>\n",
              "      <td>20150218T000000</td>\n",
              "      <td>510000</td>\n",
              "      <td>3</td>\n",
              "      <td>2.00</td>\n",
              "      <td>1680</td>\n",
              "      <td>8080</td>\n",
              "      <td>1.0</td>\n",
              "      <td>0</td>\n",
              "      <td>0</td>\n",
              "      <td>3</td>\n",
              "      <td>8</td>\n",
              "      <td>1680</td>\n",
              "      <td>0</td>\n",
              "      <td>1987</td>\n",
              "      <td>0</td>\n",
              "      <td>98074</td>\n",
              "      <td>47.6168</td>\n",
              "      <td>-122.045</td>\n",
              "      <td>1800</td>\n",
              "      <td>7503</td>\n",
              "    </tr>\n",
              "  </tbody>\n",
              "</table>\n",
              "</div>\n",
              "      <button class=\"colab-df-convert\" onclick=\"convertToInteractive('df-94764949-8af7-49f4-a909-40bc746e87e2')\"\n",
              "              title=\"Convert this dataframe to an interactive table.\"\n",
              "              style=\"display:none;\">\n",
              "        \n",
              "  <svg xmlns=\"http://www.w3.org/2000/svg\" height=\"24px\"viewBox=\"0 0 24 24\"\n",
              "       width=\"24px\">\n",
              "    <path d=\"M0 0h24v24H0V0z\" fill=\"none\"/>\n",
              "    <path d=\"M18.56 5.44l.94 2.06.94-2.06 2.06-.94-2.06-.94-.94-2.06-.94 2.06-2.06.94zm-11 1L8.5 8.5l.94-2.06 2.06-.94-2.06-.94L8.5 2.5l-.94 2.06-2.06.94zm10 10l.94 2.06.94-2.06 2.06-.94-2.06-.94-.94-2.06-.94 2.06-2.06.94z\"/><path d=\"M17.41 7.96l-1.37-1.37c-.4-.4-.92-.59-1.43-.59-.52 0-1.04.2-1.43.59L10.3 9.45l-7.72 7.72c-.78.78-.78 2.05 0 2.83L4 21.41c.39.39.9.59 1.41.59.51 0 1.02-.2 1.41-.59l7.78-7.78 2.81-2.81c.8-.78.8-2.07 0-2.86zM5.41 20L4 18.59l7.72-7.72 1.47 1.35L5.41 20z\"/>\n",
              "  </svg>\n",
              "      </button>\n",
              "      \n",
              "  <style>\n",
              "    .colab-df-container {\n",
              "      display:flex;\n",
              "      flex-wrap:wrap;\n",
              "      gap: 12px;\n",
              "    }\n",
              "\n",
              "    .colab-df-convert {\n",
              "      background-color: #E8F0FE;\n",
              "      border: none;\n",
              "      border-radius: 50%;\n",
              "      cursor: pointer;\n",
              "      display: none;\n",
              "      fill: #1967D2;\n",
              "      height: 32px;\n",
              "      padding: 0 0 0 0;\n",
              "      width: 32px;\n",
              "    }\n",
              "\n",
              "    .colab-df-convert:hover {\n",
              "      background-color: #E2EBFA;\n",
              "      box-shadow: 0px 1px 2px rgba(60, 64, 67, 0.3), 0px 1px 3px 1px rgba(60, 64, 67, 0.15);\n",
              "      fill: #174EA6;\n",
              "    }\n",
              "\n",
              "    [theme=dark] .colab-df-convert {\n",
              "      background-color: #3B4455;\n",
              "      fill: #D2E3FC;\n",
              "    }\n",
              "\n",
              "    [theme=dark] .colab-df-convert:hover {\n",
              "      background-color: #434B5C;\n",
              "      box-shadow: 0px 1px 3px 1px rgba(0, 0, 0, 0.15);\n",
              "      filter: drop-shadow(0px 1px 2px rgba(0, 0, 0, 0.3));\n",
              "      fill: #FFFFFF;\n",
              "    }\n",
              "  </style>\n",
              "\n",
              "      <script>\n",
              "        const buttonEl =\n",
              "          document.querySelector('#df-94764949-8af7-49f4-a909-40bc746e87e2 button.colab-df-convert');\n",
              "        buttonEl.style.display =\n",
              "          google.colab.kernel.accessAllowed ? 'block' : 'none';\n",
              "\n",
              "        async function convertToInteractive(key) {\n",
              "          const element = document.querySelector('#df-94764949-8af7-49f4-a909-40bc746e87e2');\n",
              "          const dataTable =\n",
              "            await google.colab.kernel.invokeFunction('convertToInteractive',\n",
              "                                                     [key], {});\n",
              "          if (!dataTable) return;\n",
              "\n",
              "          const docLinkHtml = 'Like what you see? Visit the ' +\n",
              "            '<a target=\"_blank\" href=https://colab.research.google.com/notebooks/data_table.ipynb>data table notebook</a>'\n",
              "            + ' to learn more about interactive tables.';\n",
              "          element.innerHTML = '';\n",
              "          dataTable['output_type'] = 'display_data';\n",
              "          await google.colab.output.renderOutput(dataTable, element);\n",
              "          const docLink = document.createElement('div');\n",
              "          docLink.innerHTML = docLinkHtml;\n",
              "          element.appendChild(docLink);\n",
              "        }\n",
              "      </script>\n",
              "    </div>\n",
              "  </div>\n",
              "  "
            ],
            "text/plain": [
              "           id             date   price  ...     long  sqft_living15  sqft_lot15\n",
              "0  7129300520  20141013T000000  221900  ... -122.257           1340        5650\n",
              "1  6414100192  20141209T000000  538000  ... -122.319           1690        7639\n",
              "2  5631500400  20150225T000000  180000  ... -122.233           2720        8062\n",
              "3  2487200875  20141209T000000  604000  ... -122.393           1360        5000\n",
              "4  1954400510  20150218T000000  510000  ... -122.045           1800        7503\n",
              "\n",
              "[5 rows x 21 columns]"
            ]
          },
          "metadata": {},
          "execution_count": 203
        }
      ]
    },
    {
      "cell_type": "markdown",
      "metadata": {
        "id": "Ll3Zsw6FQwe2"
      },
      "source": [
        "## Exercício 3"
      ]
    },
    {
      "cell_type": "markdown",
      "metadata": {
        "id": "j3uyTOTQQ1h6"
      },
      "source": [
        "Uma corretora de imóveis desconfia que exista uma diferença entre os preços médios de casas de acordo com o número de pisos (`floors`). Ela deseja comparar casas totalmente térreas (1 piso) e casas com mais de 1 piso. Realize um teste de permutação, respondendo as questões. \n",
        "\n",
        "1 - Definida as hipóteses:\n",
        "\n",
        "$$H_0: \\mu_{T} = \\mu_{\\bar{T}}$$\n",
        "\n",
        "$$H_1: \\mu_{T} \\neq \\mu_{\\bar{T}}$$\n",
        "\n"
      ]
    },
    {
      "cell_type": "markdown",
      "metadata": {
        "id": "xNHzVrxBR6JW"
      },
      "source": [
        "**2 - Qual a estatística de teste?**"
      ]
    },
    {
      "cell_type": "code",
      "metadata": {
        "id": "5-LyGdusSfIW"
      },
      "source": [
        "def t_obs(data):\n",
        "  # deve retornar um valor apenas\n",
        "  # os filtros aplicados sobre data devem estar dentro da função\n",
        "\n",
        "  ut = data.loc[data['floors'] == 1.0]\n",
        "  ut = ut['price'].mean()\n",
        "\n",
        "  utb = data.loc[data['floors'] > 1.0]\n",
        "  utb = utb['price'].mean()\n",
        "\n",
        "  return (ut - utb)"
      ],
      "execution_count": null,
      "outputs": []
    },
    {
      "cell_type": "code",
      "metadata": {
        "id": "ogRIGa9OQyXO"
      },
      "source": [
        "tobs = t_obs(data)\n",
        "assert_equal(-53396.48, round(tobs, 2))"
      ],
      "execution_count": null,
      "outputs": []
    },
    {
      "cell_type": "markdown",
      "metadata": {
        "id": "9O6Gpe_UU_WG"
      },
      "source": [
        "**3 - Faça o processo de shuffling e responda: Há diferença de preço significativa entre casas térreas e casas com mais de um andar?**"
      ]
    },
    {
      "cell_type": "code",
      "metadata": {
        "id": "3y56X_mQVc8c"
      },
      "source": [
        "def shuffling(data):\n",
        "  # realiza permutações entre os dados de maneira aleatória\n",
        "  # atribuindo um preço a uma casa independente do número de andares\n",
        "  # deve retornar uma tupla com os valores críticos\n",
        "\n",
        "  N = 5000\n",
        "  filtro = data['floors'] == 1\n",
        "  t_obs = data[filtro]['price'].mean() - data[~filtro]['price'].mean()\n",
        "  diffs = np.zeros(N)\n",
        "  for i in range(N):\n",
        "    np.random.seed(i)\n",
        "    np.random.shuffle(filtro.values)\n",
        "    diffs[i] = data[filtro]['price'].mean() - data[~filtro]['price'].mean()\n",
        "  \n",
        "  alpha = 0.95\n",
        "  LI = np.percentile(diffs, 100*((1-alpha)/2))\n",
        "  LS = np.percentile(diffs, 100*(alpha+ (1-alpha)/2))\n",
        "\n",
        "  return (LI, LS)"
      ],
      "execution_count": null,
      "outputs": []
    },
    {
      "cell_type": "code",
      "metadata": {
        "id": "g2heedpoWUUw"
      },
      "source": [
        "(c_inf, c_sup) = shuffling(data)\n",
        "assert_equal(round(c_inf, 2), -119308.36)\n",
        "assert_equal(round(c_sup, 2), 120417.14)"
      ],
      "execution_count": null,
      "outputs": []
    },
    {
      "cell_type": "markdown",
      "metadata": {
        "id": "Xy5NEu18W6k8"
      },
      "source": [
        "Por fim, conclua: Há diferença entre os preços de casas térreas e casas não térreas?"
      ]
    },
    {
      "cell_type": "code",
      "metadata": {
        "id": "j4PnNGKuWijz"
      },
      "source": [
        "def resposta():\n",
        "  # deve retornar True caso exista diferença e False caso contrário\n",
        "  value = t_obs(data)\n",
        "  (LI, LS) = shuffling(data)\n",
        "  if (value <= LS) and (value >= LI):\n",
        "    return False\n",
        "  return True"
      ],
      "execution_count": null,
      "outputs": []
    },
    {
      "cell_type": "code",
      "metadata": {
        "id": "DgKYITPiXNVc"
      },
      "source": [
        "assert_equal(resposta(), False)"
      ],
      "execution_count": null,
      "outputs": []
    },
    {
      "cell_type": "markdown",
      "metadata": {
        "id": "r80ti_sJmAVy"
      },
      "source": [
        ""
      ]
    }
  ]
}